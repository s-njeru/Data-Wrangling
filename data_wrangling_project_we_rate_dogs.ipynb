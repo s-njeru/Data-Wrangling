{
 "cells": [
  {
   "cell_type": "markdown",
   "id": "32078e9c",
   "metadata": {},
   "source": [
    "# Data Analyst NanoDegree Project II\n",
    "\n",
    "## Data Wrangling - We Rate Dogs\n",
    "\n",
    "\n",
    "\n",
    "## Table of Contents\n",
    "<ul>\n",
    "<li><a href=\"#intro\">Introduction</a></li>\n",
    "<li><a href=\"#gathering\">Data Gathering</a></li>\n",
    "<li><a href=\"#assessing\">Data Assessing</a></li>\n",
    "<li><a href=\"#cleaning\">Data Cleaning</a></li>\n",
    "<li><a href=\"#storing\">Storing Data</a></li>\n",
    "<li><a href=\"#analysisnviz\">Data Analysis and Visualization</a></li>\n",
    "</ul>"
   ]
  },
  {
   "cell_type": "markdown",
   "id": "e87ad271",
   "metadata": {},
   "source": [
    "<a id='intro'></a>\n",
    "## Introduction\n",
    "\n",
    "The dataset I will be wrangling in this notebook is the is the tweet archive of WeRateDgs, account handle @dog_rates on twitter.\n",
    "\n",
    "Data will be sourced from the files listed below, assessed, cleaned, and insights drawn from it.\n",
    "- twitter-archive-enhanced.csv\n",
    "- image-predictions.tsv\n",
    "- tweet-json.txt"
   ]
  },
  {
   "cell_type": "markdown",
   "id": "ae1cd97a",
   "metadata": {},
   "source": [
    "### Load Libraries"
   ]
  },
  {
   "cell_type": "code",
   "execution_count": 1,
   "id": "2b9b02cd",
   "metadata": {},
   "outputs": [
    {
     "data": {
      "text/plain": [
       "<Figure size 600x600 with 0 Axes>"
      ]
     },
     "execution_count": 1,
     "metadata": {},
     "output_type": "execute_result"
    },
    {
     "data": {
      "text/plain": [
       "<Figure size 600x600 with 0 Axes>"
      ]
     },
     "metadata": {},
     "output_type": "display_data"
    }
   ],
   "source": [
    "# Import libraries\n",
    "\n",
    "import pandas as pd\n",
    "import numpy as np\n",
    "import requests\n",
    "import seaborn as sns\n",
    "import matplotlib.pyplot as plt\n",
    "import datetime as dt\n",
    "from pandas.api.types import CategoricalDtype\n",
    "\n",
    "import tweepy\n",
    "from tweepy import OAuthHandler\n",
    "import json\n",
    "from timeit import default_timer\n",
    "from IPython import display\n",
    "\n",
    "# Show visuals\n",
    "%matplotlib inline\n",
    "\n",
    "# Set background of graphs to darkgrid\n",
    "sns.set_style(\"darkgrid\")\n",
    "\n",
    "# Set size of plots\n",
    "plt.figure(figsize=(6, 6))"
   ]
  },
  {
   "cell_type": "markdown",
   "id": "162abfff",
   "metadata": {},
   "source": [
    "<a id='gathering'></a>\n",
    "## Data Gathering"
   ]
  },
  {
   "cell_type": "code",
   "execution_count": 2,
   "id": "a419273a",
   "metadata": {},
   "outputs": [],
   "source": [
    "# Import enhanced twitter archive csv file\n",
    "\n",
    "twitter_arch = pd.read_csv('twitter-archive-enhanced.csv')"
   ]
  },
  {
   "cell_type": "code",
   "execution_count": 3,
   "id": "99a6a5a9",
   "metadata": {},
   "outputs": [
    {
     "data": {
      "text/html": [
       "<div>\n",
       "<style scoped>\n",
       "    .dataframe tbody tr th:only-of-type {\n",
       "        vertical-align: middle;\n",
       "    }\n",
       "\n",
       "    .dataframe tbody tr th {\n",
       "        vertical-align: top;\n",
       "    }\n",
       "\n",
       "    .dataframe thead th {\n",
       "        text-align: right;\n",
       "    }\n",
       "</style>\n",
       "<table border=\"1\" class=\"dataframe\">\n",
       "  <thead>\n",
       "    <tr style=\"text-align: right;\">\n",
       "      <th></th>\n",
       "      <th>tweet_id</th>\n",
       "      <th>in_reply_to_status_id</th>\n",
       "      <th>in_reply_to_user_id</th>\n",
       "      <th>timestamp</th>\n",
       "      <th>source</th>\n",
       "      <th>text</th>\n",
       "      <th>retweeted_status_id</th>\n",
       "      <th>retweeted_status_user_id</th>\n",
       "      <th>retweeted_status_timestamp</th>\n",
       "      <th>expanded_urls</th>\n",
       "      <th>rating_numerator</th>\n",
       "      <th>rating_denominator</th>\n",
       "      <th>name</th>\n",
       "      <th>doggo</th>\n",
       "      <th>floofer</th>\n",
       "      <th>pupper</th>\n",
       "      <th>puppo</th>\n",
       "    </tr>\n",
       "  </thead>\n",
       "  <tbody>\n",
       "    <tr>\n",
       "      <th>0</th>\n",
       "      <td>892420643555336193</td>\n",
       "      <td>NaN</td>\n",
       "      <td>NaN</td>\n",
       "      <td>2017-08-01 16:23:56 +0000</td>\n",
       "      <td>&lt;a href=\"http://twitter.com/download/iphone\" r...</td>\n",
       "      <td>This is Phineas. He's a mystical boy. Only eve...</td>\n",
       "      <td>NaN</td>\n",
       "      <td>NaN</td>\n",
       "      <td>NaN</td>\n",
       "      <td>https://twitter.com/dog_rates/status/892420643...</td>\n",
       "      <td>13</td>\n",
       "      <td>10</td>\n",
       "      <td>Phineas</td>\n",
       "      <td>None</td>\n",
       "      <td>None</td>\n",
       "      <td>None</td>\n",
       "      <td>None</td>\n",
       "    </tr>\n",
       "    <tr>\n",
       "      <th>1</th>\n",
       "      <td>892177421306343426</td>\n",
       "      <td>NaN</td>\n",
       "      <td>NaN</td>\n",
       "      <td>2017-08-01 00:17:27 +0000</td>\n",
       "      <td>&lt;a href=\"http://twitter.com/download/iphone\" r...</td>\n",
       "      <td>This is Tilly. She's just checking pup on you....</td>\n",
       "      <td>NaN</td>\n",
       "      <td>NaN</td>\n",
       "      <td>NaN</td>\n",
       "      <td>https://twitter.com/dog_rates/status/892177421...</td>\n",
       "      <td>13</td>\n",
       "      <td>10</td>\n",
       "      <td>Tilly</td>\n",
       "      <td>None</td>\n",
       "      <td>None</td>\n",
       "      <td>None</td>\n",
       "      <td>None</td>\n",
       "    </tr>\n",
       "    <tr>\n",
       "      <th>2</th>\n",
       "      <td>891815181378084864</td>\n",
       "      <td>NaN</td>\n",
       "      <td>NaN</td>\n",
       "      <td>2017-07-31 00:18:03 +0000</td>\n",
       "      <td>&lt;a href=\"http://twitter.com/download/iphone\" r...</td>\n",
       "      <td>This is Archie. He is a rare Norwegian Pouncin...</td>\n",
       "      <td>NaN</td>\n",
       "      <td>NaN</td>\n",
       "      <td>NaN</td>\n",
       "      <td>https://twitter.com/dog_rates/status/891815181...</td>\n",
       "      <td>12</td>\n",
       "      <td>10</td>\n",
       "      <td>Archie</td>\n",
       "      <td>None</td>\n",
       "      <td>None</td>\n",
       "      <td>None</td>\n",
       "      <td>None</td>\n",
       "    </tr>\n",
       "    <tr>\n",
       "      <th>3</th>\n",
       "      <td>891689557279858688</td>\n",
       "      <td>NaN</td>\n",
       "      <td>NaN</td>\n",
       "      <td>2017-07-30 15:58:51 +0000</td>\n",
       "      <td>&lt;a href=\"http://twitter.com/download/iphone\" r...</td>\n",
       "      <td>This is Darla. She commenced a snooze mid meal...</td>\n",
       "      <td>NaN</td>\n",
       "      <td>NaN</td>\n",
       "      <td>NaN</td>\n",
       "      <td>https://twitter.com/dog_rates/status/891689557...</td>\n",
       "      <td>13</td>\n",
       "      <td>10</td>\n",
       "      <td>Darla</td>\n",
       "      <td>None</td>\n",
       "      <td>None</td>\n",
       "      <td>None</td>\n",
       "      <td>None</td>\n",
       "    </tr>\n",
       "    <tr>\n",
       "      <th>4</th>\n",
       "      <td>891327558926688256</td>\n",
       "      <td>NaN</td>\n",
       "      <td>NaN</td>\n",
       "      <td>2017-07-29 16:00:24 +0000</td>\n",
       "      <td>&lt;a href=\"http://twitter.com/download/iphone\" r...</td>\n",
       "      <td>This is Franklin. He would like you to stop ca...</td>\n",
       "      <td>NaN</td>\n",
       "      <td>NaN</td>\n",
       "      <td>NaN</td>\n",
       "      <td>https://twitter.com/dog_rates/status/891327558...</td>\n",
       "      <td>12</td>\n",
       "      <td>10</td>\n",
       "      <td>Franklin</td>\n",
       "      <td>None</td>\n",
       "      <td>None</td>\n",
       "      <td>None</td>\n",
       "      <td>None</td>\n",
       "    </tr>\n",
       "  </tbody>\n",
       "</table>\n",
       "</div>"
      ],
      "text/plain": [
       "             tweet_id  in_reply_to_status_id  in_reply_to_user_id  \\\n",
       "0  892420643555336193                    NaN                  NaN   \n",
       "1  892177421306343426                    NaN                  NaN   \n",
       "2  891815181378084864                    NaN                  NaN   \n",
       "3  891689557279858688                    NaN                  NaN   \n",
       "4  891327558926688256                    NaN                  NaN   \n",
       "\n",
       "                   timestamp  \\\n",
       "0  2017-08-01 16:23:56 +0000   \n",
       "1  2017-08-01 00:17:27 +0000   \n",
       "2  2017-07-31 00:18:03 +0000   \n",
       "3  2017-07-30 15:58:51 +0000   \n",
       "4  2017-07-29 16:00:24 +0000   \n",
       "\n",
       "                                              source  \\\n",
       "0  <a href=\"http://twitter.com/download/iphone\" r...   \n",
       "1  <a href=\"http://twitter.com/download/iphone\" r...   \n",
       "2  <a href=\"http://twitter.com/download/iphone\" r...   \n",
       "3  <a href=\"http://twitter.com/download/iphone\" r...   \n",
       "4  <a href=\"http://twitter.com/download/iphone\" r...   \n",
       "\n",
       "                                                text  retweeted_status_id  \\\n",
       "0  This is Phineas. He's a mystical boy. Only eve...                  NaN   \n",
       "1  This is Tilly. She's just checking pup on you....                  NaN   \n",
       "2  This is Archie. He is a rare Norwegian Pouncin...                  NaN   \n",
       "3  This is Darla. She commenced a snooze mid meal...                  NaN   \n",
       "4  This is Franklin. He would like you to stop ca...                  NaN   \n",
       "\n",
       "   retweeted_status_user_id retweeted_status_timestamp  \\\n",
       "0                       NaN                        NaN   \n",
       "1                       NaN                        NaN   \n",
       "2                       NaN                        NaN   \n",
       "3                       NaN                        NaN   \n",
       "4                       NaN                        NaN   \n",
       "\n",
       "                                       expanded_urls  rating_numerator  \\\n",
       "0  https://twitter.com/dog_rates/status/892420643...                13   \n",
       "1  https://twitter.com/dog_rates/status/892177421...                13   \n",
       "2  https://twitter.com/dog_rates/status/891815181...                12   \n",
       "3  https://twitter.com/dog_rates/status/891689557...                13   \n",
       "4  https://twitter.com/dog_rates/status/891327558...                12   \n",
       "\n",
       "   rating_denominator      name doggo floofer pupper puppo  \n",
       "0                  10   Phineas  None    None   None  None  \n",
       "1                  10     Tilly  None    None   None  None  \n",
       "2                  10    Archie  None    None   None  None  \n",
       "3                  10     Darla  None    None   None  None  \n",
       "4                  10  Franklin  None    None   None  None  "
      ]
     },
     "execution_count": 3,
     "metadata": {},
     "output_type": "execute_result"
    }
   ],
   "source": [
    "twitter_arch.head()"
   ]
  },
  {
   "cell_type": "code",
   "execution_count": 4,
   "id": "8d075fca",
   "metadata": {
    "scrolled": true
   },
   "outputs": [
    {
     "name": "stdout",
     "output_type": "stream",
     "text": [
      "<class 'pandas.core.frame.DataFrame'>\n",
      "RangeIndex: 2356 entries, 0 to 2355\n",
      "Data columns (total 17 columns):\n",
      " #   Column                      Non-Null Count  Dtype  \n",
      "---  ------                      --------------  -----  \n",
      " 0   tweet_id                    2356 non-null   int64  \n",
      " 1   in_reply_to_status_id       78 non-null     float64\n",
      " 2   in_reply_to_user_id         78 non-null     float64\n",
      " 3   timestamp                   2356 non-null   object \n",
      " 4   source                      2356 non-null   object \n",
      " 5   text                        2356 non-null   object \n",
      " 6   retweeted_status_id         181 non-null    float64\n",
      " 7   retweeted_status_user_id    181 non-null    float64\n",
      " 8   retweeted_status_timestamp  181 non-null    object \n",
      " 9   expanded_urls               2297 non-null   object \n",
      " 10  rating_numerator            2356 non-null   int64  \n",
      " 11  rating_denominator          2356 non-null   int64  \n",
      " 12  name                        2356 non-null   object \n",
      " 13  doggo                       2356 non-null   object \n",
      " 14  floofer                     2356 non-null   object \n",
      " 15  pupper                      2356 non-null   object \n",
      " 16  puppo                       2356 non-null   object \n",
      "dtypes: float64(4), int64(3), object(10)\n",
      "memory usage: 313.0+ KB\n"
     ]
    }
   ],
   "source": [
    "twitter_arch.info()"
   ]
  },
  {
   "cell_type": "code",
   "execution_count": 5,
   "id": "5230cd2a",
   "metadata": {},
   "outputs": [
    {
     "data": {
      "text/plain": [
       "2218"
      ]
     },
     "execution_count": 5,
     "metadata": {},
     "output_type": "execute_result"
    }
   ],
   "source": [
    "twitter_arch.expanded_urls.nunique()"
   ]
  },
  {
   "cell_type": "code",
   "execution_count": 6,
   "id": "0c91e258",
   "metadata": {},
   "outputs": [],
   "source": [
    "# Import image predictions tsv file\n",
    "url = 'https://d17h27t6h515a5.cloudfront.net/topher/2017/August/599fd2ad_image-predictions/image-predictions.tsv'\n",
    "response = requests.get(url)\n",
    "\n",
    "with open('image-predictions.tsv', mode = 'wb') as file:\n",
    "    file.write(response.content)\n",
    "    \n",
    "# Read image predictions tsv file\n",
    "image_pred = pd.read_csv('image-predictions.tsv', sep='\\t' )"
   ]
  },
  {
   "cell_type": "code",
   "execution_count": 7,
   "id": "594ae5ce",
   "metadata": {},
   "outputs": [
    {
     "data": {
      "text/html": [
       "<div>\n",
       "<style scoped>\n",
       "    .dataframe tbody tr th:only-of-type {\n",
       "        vertical-align: middle;\n",
       "    }\n",
       "\n",
       "    .dataframe tbody tr th {\n",
       "        vertical-align: top;\n",
       "    }\n",
       "\n",
       "    .dataframe thead th {\n",
       "        text-align: right;\n",
       "    }\n",
       "</style>\n",
       "<table border=\"1\" class=\"dataframe\">\n",
       "  <thead>\n",
       "    <tr style=\"text-align: right;\">\n",
       "      <th></th>\n",
       "      <th>tweet_id</th>\n",
       "      <th>jpg_url</th>\n",
       "      <th>img_num</th>\n",
       "      <th>p1</th>\n",
       "      <th>p1_conf</th>\n",
       "      <th>p1_dog</th>\n",
       "      <th>p2</th>\n",
       "      <th>p2_conf</th>\n",
       "      <th>p2_dog</th>\n",
       "      <th>p3</th>\n",
       "      <th>p3_conf</th>\n",
       "      <th>p3_dog</th>\n",
       "    </tr>\n",
       "  </thead>\n",
       "  <tbody>\n",
       "    <tr>\n",
       "      <th>0</th>\n",
       "      <td>666020888022790149</td>\n",
       "      <td>https://pbs.twimg.com/media/CT4udn0WwAA0aMy.jpg</td>\n",
       "      <td>1</td>\n",
       "      <td>Welsh_springer_spaniel</td>\n",
       "      <td>0.465074</td>\n",
       "      <td>True</td>\n",
       "      <td>collie</td>\n",
       "      <td>0.156665</td>\n",
       "      <td>True</td>\n",
       "      <td>Shetland_sheepdog</td>\n",
       "      <td>0.061428</td>\n",
       "      <td>True</td>\n",
       "    </tr>\n",
       "    <tr>\n",
       "      <th>1</th>\n",
       "      <td>666029285002620928</td>\n",
       "      <td>https://pbs.twimg.com/media/CT42GRgUYAA5iDo.jpg</td>\n",
       "      <td>1</td>\n",
       "      <td>redbone</td>\n",
       "      <td>0.506826</td>\n",
       "      <td>True</td>\n",
       "      <td>miniature_pinscher</td>\n",
       "      <td>0.074192</td>\n",
       "      <td>True</td>\n",
       "      <td>Rhodesian_ridgeback</td>\n",
       "      <td>0.072010</td>\n",
       "      <td>True</td>\n",
       "    </tr>\n",
       "    <tr>\n",
       "      <th>2</th>\n",
       "      <td>666033412701032449</td>\n",
       "      <td>https://pbs.twimg.com/media/CT4521TWwAEvMyu.jpg</td>\n",
       "      <td>1</td>\n",
       "      <td>German_shepherd</td>\n",
       "      <td>0.596461</td>\n",
       "      <td>True</td>\n",
       "      <td>malinois</td>\n",
       "      <td>0.138584</td>\n",
       "      <td>True</td>\n",
       "      <td>bloodhound</td>\n",
       "      <td>0.116197</td>\n",
       "      <td>True</td>\n",
       "    </tr>\n",
       "    <tr>\n",
       "      <th>3</th>\n",
       "      <td>666044226329800704</td>\n",
       "      <td>https://pbs.twimg.com/media/CT5Dr8HUEAA-lEu.jpg</td>\n",
       "      <td>1</td>\n",
       "      <td>Rhodesian_ridgeback</td>\n",
       "      <td>0.408143</td>\n",
       "      <td>True</td>\n",
       "      <td>redbone</td>\n",
       "      <td>0.360687</td>\n",
       "      <td>True</td>\n",
       "      <td>miniature_pinscher</td>\n",
       "      <td>0.222752</td>\n",
       "      <td>True</td>\n",
       "    </tr>\n",
       "    <tr>\n",
       "      <th>4</th>\n",
       "      <td>666049248165822465</td>\n",
       "      <td>https://pbs.twimg.com/media/CT5IQmsXIAAKY4A.jpg</td>\n",
       "      <td>1</td>\n",
       "      <td>miniature_pinscher</td>\n",
       "      <td>0.560311</td>\n",
       "      <td>True</td>\n",
       "      <td>Rottweiler</td>\n",
       "      <td>0.243682</td>\n",
       "      <td>True</td>\n",
       "      <td>Doberman</td>\n",
       "      <td>0.154629</td>\n",
       "      <td>True</td>\n",
       "    </tr>\n",
       "  </tbody>\n",
       "</table>\n",
       "</div>"
      ],
      "text/plain": [
       "             tweet_id                                          jpg_url  \\\n",
       "0  666020888022790149  https://pbs.twimg.com/media/CT4udn0WwAA0aMy.jpg   \n",
       "1  666029285002620928  https://pbs.twimg.com/media/CT42GRgUYAA5iDo.jpg   \n",
       "2  666033412701032449  https://pbs.twimg.com/media/CT4521TWwAEvMyu.jpg   \n",
       "3  666044226329800704  https://pbs.twimg.com/media/CT5Dr8HUEAA-lEu.jpg   \n",
       "4  666049248165822465  https://pbs.twimg.com/media/CT5IQmsXIAAKY4A.jpg   \n",
       "\n",
       "   img_num                      p1   p1_conf  p1_dog                  p2  \\\n",
       "0        1  Welsh_springer_spaniel  0.465074    True              collie   \n",
       "1        1                 redbone  0.506826    True  miniature_pinscher   \n",
       "2        1         German_shepherd  0.596461    True            malinois   \n",
       "3        1     Rhodesian_ridgeback  0.408143    True             redbone   \n",
       "4        1      miniature_pinscher  0.560311    True          Rottweiler   \n",
       "\n",
       "    p2_conf  p2_dog                   p3   p3_conf  p3_dog  \n",
       "0  0.156665    True    Shetland_sheepdog  0.061428    True  \n",
       "1  0.074192    True  Rhodesian_ridgeback  0.072010    True  \n",
       "2  0.138584    True           bloodhound  0.116197    True  \n",
       "3  0.360687    True   miniature_pinscher  0.222752    True  \n",
       "4  0.243682    True             Doberman  0.154629    True  "
      ]
     },
     "execution_count": 7,
     "metadata": {},
     "output_type": "execute_result"
    }
   ],
   "source": [
    "image_pred.head()"
   ]
  },
  {
   "cell_type": "code",
   "execution_count": 8,
   "id": "1c0d02db",
   "metadata": {},
   "outputs": [
    {
     "name": "stdout",
     "output_type": "stream",
     "text": [
      "<class 'pandas.core.frame.DataFrame'>\n",
      "RangeIndex: 2075 entries, 0 to 2074\n",
      "Data columns (total 12 columns):\n",
      " #   Column    Non-Null Count  Dtype  \n",
      "---  ------    --------------  -----  \n",
      " 0   tweet_id  2075 non-null   int64  \n",
      " 1   jpg_url   2075 non-null   object \n",
      " 2   img_num   2075 non-null   int64  \n",
      " 3   p1        2075 non-null   object \n",
      " 4   p1_conf   2075 non-null   float64\n",
      " 5   p1_dog    2075 non-null   bool   \n",
      " 6   p2        2075 non-null   object \n",
      " 7   p2_conf   2075 non-null   float64\n",
      " 8   p2_dog    2075 non-null   bool   \n",
      " 9   p3        2075 non-null   object \n",
      " 10  p3_conf   2075 non-null   float64\n",
      " 11  p3_dog    2075 non-null   bool   \n",
      "dtypes: bool(3), float64(3), int64(2), object(4)\n",
      "memory usage: 152.1+ KB\n"
     ]
    }
   ],
   "source": [
    "image_pred.info()"
   ]
  },
  {
   "cell_type": "code",
   "execution_count": 9,
   "id": "4f17971d",
   "metadata": {},
   "outputs": [],
   "source": [
    "# Read tweet json text file by line, write them to dictionaries and cast to a dataframe\n",
    "\n",
    "# Create empty list\n",
    "df_list=[]\n",
    "with open('tweet-json.txt', 'r') as file:\n",
    "    for line in file:\n",
    "        tweets = json.loads(line)\n",
    "        tweet_id = tweets['id']\n",
    "        retweet_count = tweets['retweet_count']\n",
    "        favorite_count = tweets['favorite_count']\n",
    "        retweeted = tweets['retweeted']\n",
    "        # Append the dictionaries to the empty list created\n",
    "        df_list.append({'tweet_id' : tweet_id, 'retweet_count' : retweet_count, 'favorite_count':favorite_count, 'retweeted':retweeted})\n",
    "\n",
    "# Create dataframe from list\n",
    "tweet_data = pd.DataFrame(df_list, columns = ['tweet_id' , 'retweet_count', 'favorite_count', 'retweeted'])"
   ]
  },
  {
   "cell_type": "code",
   "execution_count": 10,
   "id": "0437b83e",
   "metadata": {},
   "outputs": [
    {
     "data": {
      "text/plain": [
       "{'created_at': 'Sun Nov 15 22:32:08 +0000 2015',\n",
       " 'id': 666020888022790149,\n",
       " 'id_str': '666020888022790149',\n",
       " 'full_text': 'Here we have a Japanese Irish Setter. Lost eye in Vietnam (?). Big fan of relaxing on stair. 8/10 would pet https://t.co/BLDqew2Ijj',\n",
       " 'truncated': False,\n",
       " 'display_text_range': [0, 131],\n",
       " 'entities': {'hashtags': [],\n",
       "  'symbols': [],\n",
       "  'user_mentions': [],\n",
       "  'urls': [],\n",
       "  'media': [{'id': 666020881337073664,\n",
       "    'id_str': '666020881337073664',\n",
       "    'indices': [108, 131],\n",
       "    'media_url': 'http://pbs.twimg.com/media/CT4udn0WwAA0aMy.jpg',\n",
       "    'media_url_https': 'https://pbs.twimg.com/media/CT4udn0WwAA0aMy.jpg',\n",
       "    'url': 'https://t.co/BLDqew2Ijj',\n",
       "    'display_url': 'pic.twitter.com/BLDqew2Ijj',\n",
       "    'expanded_url': 'https://twitter.com/dog_rates/status/666020888022790149/photo/1',\n",
       "    'type': 'photo',\n",
       "    'sizes': {'thumb': {'w': 150, 'h': 150, 'resize': 'crop'},\n",
       "     'small': {'w': 340, 'h': 255, 'resize': 'fit'},\n",
       "     'medium': {'w': 600, 'h': 450, 'resize': 'fit'},\n",
       "     'large': {'w': 960, 'h': 720, 'resize': 'fit'}}}]},\n",
       " 'extended_entities': {'media': [{'id': 666020881337073664,\n",
       "    'id_str': '666020881337073664',\n",
       "    'indices': [108, 131],\n",
       "    'media_url': 'http://pbs.twimg.com/media/CT4udn0WwAA0aMy.jpg',\n",
       "    'media_url_https': 'https://pbs.twimg.com/media/CT4udn0WwAA0aMy.jpg',\n",
       "    'url': 'https://t.co/BLDqew2Ijj',\n",
       "    'display_url': 'pic.twitter.com/BLDqew2Ijj',\n",
       "    'expanded_url': 'https://twitter.com/dog_rates/status/666020888022790149/photo/1',\n",
       "    'type': 'photo',\n",
       "    'sizes': {'thumb': {'w': 150, 'h': 150, 'resize': 'crop'},\n",
       "     'small': {'w': 340, 'h': 255, 'resize': 'fit'},\n",
       "     'medium': {'w': 600, 'h': 450, 'resize': 'fit'},\n",
       "     'large': {'w': 960, 'h': 720, 'resize': 'fit'}}}]},\n",
       " 'source': '<a href=\"http://twitter.com/download/iphone\" rel=\"nofollow\">Twitter for iPhone</a>',\n",
       " 'in_reply_to_status_id': None,\n",
       " 'in_reply_to_status_id_str': None,\n",
       " 'in_reply_to_user_id': None,\n",
       " 'in_reply_to_user_id_str': None,\n",
       " 'in_reply_to_screen_name': None,\n",
       " 'user': {'id': 4196983835,\n",
       "  'id_str': '4196983835',\n",
       "  'name': 'WeRateDogs™ (author)',\n",
       "  'screen_name': 'dog_rates',\n",
       "  'location': 'DM YOUR DOGS, WE WILL RATE',\n",
       "  'description': '#1 Source for Professional Dog Ratings | STORE: @ShopWeRateDogs | IG, FB & SC: WeRateDogs MOBILE APP: @GoodDogsGame | Business: dogratingtwitter@gmail.com',\n",
       "  'url': 'https://t.co/N7sNNHAEXS',\n",
       "  'entities': {'url': {'urls': [{'url': 'https://t.co/N7sNNHAEXS',\n",
       "      'expanded_url': 'http://weratedogs.com',\n",
       "      'display_url': 'weratedogs.com',\n",
       "      'indices': [0, 23]}]},\n",
       "   'description': {'urls': []}},\n",
       "  'protected': False,\n",
       "  'followers_count': 3201018,\n",
       "  'friends_count': 104,\n",
       "  'listed_count': 2812,\n",
       "  'created_at': 'Sun Nov 15 21:41:29 +0000 2015',\n",
       "  'favourites_count': 114031,\n",
       "  'utc_offset': None,\n",
       "  'time_zone': None,\n",
       "  'geo_enabled': True,\n",
       "  'verified': True,\n",
       "  'statuses_count': 5288,\n",
       "  'lang': 'en',\n",
       "  'contributors_enabled': False,\n",
       "  'is_translator': False,\n",
       "  'is_translation_enabled': False,\n",
       "  'profile_background_color': '000000',\n",
       "  'profile_background_image_url': 'http://abs.twimg.com/images/themes/theme1/bg.png',\n",
       "  'profile_background_image_url_https': 'https://abs.twimg.com/images/themes/theme1/bg.png',\n",
       "  'profile_background_tile': False,\n",
       "  'profile_image_url': 'http://pbs.twimg.com/profile_images/861415328504569856/R2xOOfwe_normal.jpg',\n",
       "  'profile_image_url_https': 'https://pbs.twimg.com/profile_images/861415328504569856/R2xOOfwe_normal.jpg',\n",
       "  'profile_banner_url': 'https://pbs.twimg.com/profile_banners/4196983835/1501129017',\n",
       "  'profile_link_color': 'F5ABB5',\n",
       "  'profile_sidebar_border_color': '000000',\n",
       "  'profile_sidebar_fill_color': '000000',\n",
       "  'profile_text_color': '000000',\n",
       "  'profile_use_background_image': False,\n",
       "  'has_extended_profile': True,\n",
       "  'default_profile': False,\n",
       "  'default_profile_image': False,\n",
       "  'following': True,\n",
       "  'follow_request_sent': False,\n",
       "  'notifications': False,\n",
       "  'translator_type': 'none'},\n",
       " 'geo': None,\n",
       " 'coordinates': None,\n",
       " 'place': None,\n",
       " 'contributors': None,\n",
       " 'is_quote_status': False,\n",
       " 'retweet_count': 532,\n",
       " 'favorite_count': 2535,\n",
       " 'favorited': False,\n",
       " 'retweeted': False,\n",
       " 'possibly_sensitive': False,\n",
       " 'possibly_sensitive_appealable': False,\n",
       " 'lang': 'en'}"
      ]
     },
     "execution_count": 10,
     "metadata": {},
     "output_type": "execute_result"
    }
   ],
   "source": [
    "tweets"
   ]
  },
  {
   "cell_type": "code",
   "execution_count": 11,
   "id": "55d5b991",
   "metadata": {},
   "outputs": [
    {
     "data": {
      "text/html": [
       "<div>\n",
       "<style scoped>\n",
       "    .dataframe tbody tr th:only-of-type {\n",
       "        vertical-align: middle;\n",
       "    }\n",
       "\n",
       "    .dataframe tbody tr th {\n",
       "        vertical-align: top;\n",
       "    }\n",
       "\n",
       "    .dataframe thead th {\n",
       "        text-align: right;\n",
       "    }\n",
       "</style>\n",
       "<table border=\"1\" class=\"dataframe\">\n",
       "  <thead>\n",
       "    <tr style=\"text-align: right;\">\n",
       "      <th></th>\n",
       "      <th>tweet_id</th>\n",
       "      <th>retweet_count</th>\n",
       "      <th>favorite_count</th>\n",
       "      <th>retweeted</th>\n",
       "    </tr>\n",
       "  </thead>\n",
       "  <tbody>\n",
       "    <tr>\n",
       "      <th>0</th>\n",
       "      <td>892420643555336193</td>\n",
       "      <td>8853</td>\n",
       "      <td>39467</td>\n",
       "      <td>False</td>\n",
       "    </tr>\n",
       "    <tr>\n",
       "      <th>1</th>\n",
       "      <td>892177421306343426</td>\n",
       "      <td>6514</td>\n",
       "      <td>33819</td>\n",
       "      <td>False</td>\n",
       "    </tr>\n",
       "    <tr>\n",
       "      <th>2</th>\n",
       "      <td>891815181378084864</td>\n",
       "      <td>4328</td>\n",
       "      <td>25461</td>\n",
       "      <td>False</td>\n",
       "    </tr>\n",
       "    <tr>\n",
       "      <th>3</th>\n",
       "      <td>891689557279858688</td>\n",
       "      <td>8964</td>\n",
       "      <td>42908</td>\n",
       "      <td>False</td>\n",
       "    </tr>\n",
       "    <tr>\n",
       "      <th>4</th>\n",
       "      <td>891327558926688256</td>\n",
       "      <td>9774</td>\n",
       "      <td>41048</td>\n",
       "      <td>False</td>\n",
       "    </tr>\n",
       "  </tbody>\n",
       "</table>\n",
       "</div>"
      ],
      "text/plain": [
       "             tweet_id  retweet_count  favorite_count  retweeted\n",
       "0  892420643555336193           8853           39467      False\n",
       "1  892177421306343426           6514           33819      False\n",
       "2  891815181378084864           4328           25461      False\n",
       "3  891689557279858688           8964           42908      False\n",
       "4  891327558926688256           9774           41048      False"
      ]
     },
     "execution_count": 11,
     "metadata": {},
     "output_type": "execute_result"
    }
   ],
   "source": [
    "tweet_data.head()"
   ]
  },
  {
   "cell_type": "code",
   "execution_count": 12,
   "id": "76515f38",
   "metadata": {},
   "outputs": [
    {
     "name": "stdout",
     "output_type": "stream",
     "text": [
      "<class 'pandas.core.frame.DataFrame'>\n",
      "RangeIndex: 2354 entries, 0 to 2353\n",
      "Data columns (total 4 columns):\n",
      " #   Column          Non-Null Count  Dtype\n",
      "---  ------          --------------  -----\n",
      " 0   tweet_id        2354 non-null   int64\n",
      " 1   retweet_count   2354 non-null   int64\n",
      " 2   favorite_count  2354 non-null   int64\n",
      " 3   retweeted       2354 non-null   bool \n",
      "dtypes: bool(1), int64(3)\n",
      "memory usage: 57.6 KB\n"
     ]
    }
   ],
   "source": [
    "tweet_data.info()"
   ]
  },
  {
   "cell_type": "code",
   "execution_count": 13,
   "id": "a0193414",
   "metadata": {},
   "outputs": [
    {
     "data": {
      "text/plain": [
       "\"\\n# Define key, token and secrets\\nconsumer_key = 'consumer_key'\\nconsumer_secret = 'consumer_secret'\\naccess_token = 'access_token'\\naccess_secret = 'access_secret'\\n\\n\\n# Query twitter API for tweets and save the output as json\\nauth = OAuthHandler(consumer_key, consumer_secret)\\nauth.set_access_token(access_token, access_secret)\\n\\n#Use OAuthHandler, wait for rate limit to end and print out notification when fetching tweets\\ntwitter_api = tweepy.API(auth, wait_on_rate_limit = True, wait_on_rate_limit_notify=True)\\n\\n\\n#Define dict to hold IDs that won't be fetched\\nmissed_tweets = {}\\n\\n# Get start time\\nstart = time.time()\\n\\n# Fetch tweets and store the collected json in a .txt file\\nwith open('tweet_json.txt', 'w', encoding='utf-8') as outfile:\\n    for tweet_id in tweet_ids:\\n        print(str(tweet_id))\\n        try:\\n            tweet = twitter_api.get_status(tweet_id, tweet_mode = 'extended')\\n            print('fetched')\\n            json.dump(tweet._json, outfile)\\n            outfile.write('\\n')\\n        except: tweepy.errors.TweepyWxcwption as err:\\n            print('failed')\\n            missed_tweets[tweet_id] = err\\n            pass\\n\\n\\n\\n#Get end time\\nend = time.time()\\n\\n#Duration of execution\\nprint('Fetching tweets took:{((end-start)/60)} minutes')\\n\\n\\n\""
      ]
     },
     "execution_count": 13,
     "metadata": {},
     "output_type": "execute_result"
    }
   ],
   "source": [
    "# Alternative twitter data extraction code\n",
    "\n",
    "'''\n",
    "# Define key, token and secrets\n",
    "consumer_key = 'consumer_key'\n",
    "consumer_secret = 'consumer_secret'\n",
    "access_token = 'access_token'\n",
    "access_secret = 'access_secret'\n",
    "\n",
    "\n",
    "# Query twitter API for tweets and save the output as json\n",
    "auth = OAuthHandler(consumer_key, consumer_secret)\n",
    "auth.set_access_token(access_token, access_secret)\n",
    "\n",
    "#Use OAuthHandler, wait for rate limit to end and print out notification when fetching tweets\n",
    "twitter_api = tweepy.API(auth, wait_on_rate_limit = True, wait_on_rate_limit_notify=True)\n",
    "\n",
    "\n",
    "#Define dict to hold IDs that won't be fetched\n",
    "missed_tweets = {}\n",
    "\n",
    "# Get start time\n",
    "start = time.time()\n",
    "\n",
    "# Fetch tweets and store the collected json in a .txt file\n",
    "with open('tweet_json.txt', 'w', encoding='utf-8') as outfile:\n",
    "    for tweet_id in tweet_ids:\n",
    "        print(str(tweet_id))\n",
    "        try:\n",
    "            tweet = twitter_api.get_status(tweet_id, tweet_mode = 'extended')\n",
    "            print('fetched')\n",
    "            json.dump(tweet._json, outfile)\n",
    "            outfile.write('\\n')\n",
    "        except: tweepy.errors.TweepyWxcwption as err:\n",
    "            print('failed')\n",
    "            missed_tweets[tweet_id] = err\n",
    "            pass\n",
    "\n",
    "\n",
    "\n",
    "#Get end time\n",
    "end = time.time()\n",
    "\n",
    "#Duration of execution\n",
    "print('Fetching tweets took:{((end-start)/60)} minutes')\n",
    "\n",
    "\n",
    "'''"
   ]
  },
  {
   "cell_type": "markdown",
   "id": "8d8e9b53",
   "metadata": {},
   "source": [
    "<a id='assessing'></a>\n",
    "## Assessing Data"
   ]
  },
  {
   "cell_type": "markdown",
   "id": "bd76360f",
   "metadata": {},
   "source": [
    "- Assessing data visually and programatically to identify quality and tidiness issues"
   ]
  },
  {
   "cell_type": "markdown",
   "id": "5ce940d3",
   "metadata": {},
   "source": [
    "### Assess Twitter Archive Data"
   ]
  },
  {
   "cell_type": "markdown",
   "id": "08c944e8",
   "metadata": {},
   "source": [
    "#### Visual Assessment"
   ]
  },
  {
   "cell_type": "code",
   "execution_count": 14,
   "id": "1f80a8ee",
   "metadata": {
    "scrolled": true
   },
   "outputs": [
    {
     "data": {
      "text/html": [
       "<div>\n",
       "<style scoped>\n",
       "    .dataframe tbody tr th:only-of-type {\n",
       "        vertical-align: middle;\n",
       "    }\n",
       "\n",
       "    .dataframe tbody tr th {\n",
       "        vertical-align: top;\n",
       "    }\n",
       "\n",
       "    .dataframe thead th {\n",
       "        text-align: right;\n",
       "    }\n",
       "</style>\n",
       "<table border=\"1\" class=\"dataframe\">\n",
       "  <thead>\n",
       "    <tr style=\"text-align: right;\">\n",
       "      <th></th>\n",
       "      <th>tweet_id</th>\n",
       "      <th>in_reply_to_status_id</th>\n",
       "      <th>in_reply_to_user_id</th>\n",
       "      <th>timestamp</th>\n",
       "      <th>source</th>\n",
       "      <th>text</th>\n",
       "      <th>retweeted_status_id</th>\n",
       "      <th>retweeted_status_user_id</th>\n",
       "      <th>retweeted_status_timestamp</th>\n",
       "      <th>expanded_urls</th>\n",
       "      <th>rating_numerator</th>\n",
       "      <th>rating_denominator</th>\n",
       "      <th>name</th>\n",
       "      <th>doggo</th>\n",
       "      <th>floofer</th>\n",
       "      <th>pupper</th>\n",
       "      <th>puppo</th>\n",
       "    </tr>\n",
       "  </thead>\n",
       "  <tbody>\n",
       "    <tr>\n",
       "      <th>0</th>\n",
       "      <td>892420643555336193</td>\n",
       "      <td>NaN</td>\n",
       "      <td>NaN</td>\n",
       "      <td>2017-08-01 16:23:56 +0000</td>\n",
       "      <td>&lt;a href=\"http://twitter.com/download/iphone\" r...</td>\n",
       "      <td>This is Phineas. He's a mystical boy. Only eve...</td>\n",
       "      <td>NaN</td>\n",
       "      <td>NaN</td>\n",
       "      <td>NaN</td>\n",
       "      <td>https://twitter.com/dog_rates/status/892420643...</td>\n",
       "      <td>13</td>\n",
       "      <td>10</td>\n",
       "      <td>Phineas</td>\n",
       "      <td>None</td>\n",
       "      <td>None</td>\n",
       "      <td>None</td>\n",
       "      <td>None</td>\n",
       "    </tr>\n",
       "    <tr>\n",
       "      <th>1</th>\n",
       "      <td>892177421306343426</td>\n",
       "      <td>NaN</td>\n",
       "      <td>NaN</td>\n",
       "      <td>2017-08-01 00:17:27 +0000</td>\n",
       "      <td>&lt;a href=\"http://twitter.com/download/iphone\" r...</td>\n",
       "      <td>This is Tilly. She's just checking pup on you....</td>\n",
       "      <td>NaN</td>\n",
       "      <td>NaN</td>\n",
       "      <td>NaN</td>\n",
       "      <td>https://twitter.com/dog_rates/status/892177421...</td>\n",
       "      <td>13</td>\n",
       "      <td>10</td>\n",
       "      <td>Tilly</td>\n",
       "      <td>None</td>\n",
       "      <td>None</td>\n",
       "      <td>None</td>\n",
       "      <td>None</td>\n",
       "    </tr>\n",
       "    <tr>\n",
       "      <th>2</th>\n",
       "      <td>891815181378084864</td>\n",
       "      <td>NaN</td>\n",
       "      <td>NaN</td>\n",
       "      <td>2017-07-31 00:18:03 +0000</td>\n",
       "      <td>&lt;a href=\"http://twitter.com/download/iphone\" r...</td>\n",
       "      <td>This is Archie. He is a rare Norwegian Pouncin...</td>\n",
       "      <td>NaN</td>\n",
       "      <td>NaN</td>\n",
       "      <td>NaN</td>\n",
       "      <td>https://twitter.com/dog_rates/status/891815181...</td>\n",
       "      <td>12</td>\n",
       "      <td>10</td>\n",
       "      <td>Archie</td>\n",
       "      <td>None</td>\n",
       "      <td>None</td>\n",
       "      <td>None</td>\n",
       "      <td>None</td>\n",
       "    </tr>\n",
       "    <tr>\n",
       "      <th>3</th>\n",
       "      <td>891689557279858688</td>\n",
       "      <td>NaN</td>\n",
       "      <td>NaN</td>\n",
       "      <td>2017-07-30 15:58:51 +0000</td>\n",
       "      <td>&lt;a href=\"http://twitter.com/download/iphone\" r...</td>\n",
       "      <td>This is Darla. She commenced a snooze mid meal...</td>\n",
       "      <td>NaN</td>\n",
       "      <td>NaN</td>\n",
       "      <td>NaN</td>\n",
       "      <td>https://twitter.com/dog_rates/status/891689557...</td>\n",
       "      <td>13</td>\n",
       "      <td>10</td>\n",
       "      <td>Darla</td>\n",
       "      <td>None</td>\n",
       "      <td>None</td>\n",
       "      <td>None</td>\n",
       "      <td>None</td>\n",
       "    </tr>\n",
       "    <tr>\n",
       "      <th>4</th>\n",
       "      <td>891327558926688256</td>\n",
       "      <td>NaN</td>\n",
       "      <td>NaN</td>\n",
       "      <td>2017-07-29 16:00:24 +0000</td>\n",
       "      <td>&lt;a href=\"http://twitter.com/download/iphone\" r...</td>\n",
       "      <td>This is Franklin. He would like you to stop ca...</td>\n",
       "      <td>NaN</td>\n",
       "      <td>NaN</td>\n",
       "      <td>NaN</td>\n",
       "      <td>https://twitter.com/dog_rates/status/891327558...</td>\n",
       "      <td>12</td>\n",
       "      <td>10</td>\n",
       "      <td>Franklin</td>\n",
       "      <td>None</td>\n",
       "      <td>None</td>\n",
       "      <td>None</td>\n",
       "      <td>None</td>\n",
       "    </tr>\n",
       "    <tr>\n",
       "      <th>...</th>\n",
       "      <td>...</td>\n",
       "      <td>...</td>\n",
       "      <td>...</td>\n",
       "      <td>...</td>\n",
       "      <td>...</td>\n",
       "      <td>...</td>\n",
       "      <td>...</td>\n",
       "      <td>...</td>\n",
       "      <td>...</td>\n",
       "      <td>...</td>\n",
       "      <td>...</td>\n",
       "      <td>...</td>\n",
       "      <td>...</td>\n",
       "      <td>...</td>\n",
       "      <td>...</td>\n",
       "      <td>...</td>\n",
       "      <td>...</td>\n",
       "    </tr>\n",
       "    <tr>\n",
       "      <th>2351</th>\n",
       "      <td>666049248165822465</td>\n",
       "      <td>NaN</td>\n",
       "      <td>NaN</td>\n",
       "      <td>2015-11-16 00:24:50 +0000</td>\n",
       "      <td>&lt;a href=\"http://twitter.com/download/iphone\" r...</td>\n",
       "      <td>Here we have a 1949 1st generation vulpix. Enj...</td>\n",
       "      <td>NaN</td>\n",
       "      <td>NaN</td>\n",
       "      <td>NaN</td>\n",
       "      <td>https://twitter.com/dog_rates/status/666049248...</td>\n",
       "      <td>5</td>\n",
       "      <td>10</td>\n",
       "      <td>None</td>\n",
       "      <td>None</td>\n",
       "      <td>None</td>\n",
       "      <td>None</td>\n",
       "      <td>None</td>\n",
       "    </tr>\n",
       "    <tr>\n",
       "      <th>2352</th>\n",
       "      <td>666044226329800704</td>\n",
       "      <td>NaN</td>\n",
       "      <td>NaN</td>\n",
       "      <td>2015-11-16 00:04:52 +0000</td>\n",
       "      <td>&lt;a href=\"http://twitter.com/download/iphone\" r...</td>\n",
       "      <td>This is a purebred Piers Morgan. Loves to Netf...</td>\n",
       "      <td>NaN</td>\n",
       "      <td>NaN</td>\n",
       "      <td>NaN</td>\n",
       "      <td>https://twitter.com/dog_rates/status/666044226...</td>\n",
       "      <td>6</td>\n",
       "      <td>10</td>\n",
       "      <td>a</td>\n",
       "      <td>None</td>\n",
       "      <td>None</td>\n",
       "      <td>None</td>\n",
       "      <td>None</td>\n",
       "    </tr>\n",
       "    <tr>\n",
       "      <th>2353</th>\n",
       "      <td>666033412701032449</td>\n",
       "      <td>NaN</td>\n",
       "      <td>NaN</td>\n",
       "      <td>2015-11-15 23:21:54 +0000</td>\n",
       "      <td>&lt;a href=\"http://twitter.com/download/iphone\" r...</td>\n",
       "      <td>Here is a very happy pup. Big fan of well-main...</td>\n",
       "      <td>NaN</td>\n",
       "      <td>NaN</td>\n",
       "      <td>NaN</td>\n",
       "      <td>https://twitter.com/dog_rates/status/666033412...</td>\n",
       "      <td>9</td>\n",
       "      <td>10</td>\n",
       "      <td>a</td>\n",
       "      <td>None</td>\n",
       "      <td>None</td>\n",
       "      <td>None</td>\n",
       "      <td>None</td>\n",
       "    </tr>\n",
       "    <tr>\n",
       "      <th>2354</th>\n",
       "      <td>666029285002620928</td>\n",
       "      <td>NaN</td>\n",
       "      <td>NaN</td>\n",
       "      <td>2015-11-15 23:05:30 +0000</td>\n",
       "      <td>&lt;a href=\"http://twitter.com/download/iphone\" r...</td>\n",
       "      <td>This is a western brown Mitsubishi terrier. Up...</td>\n",
       "      <td>NaN</td>\n",
       "      <td>NaN</td>\n",
       "      <td>NaN</td>\n",
       "      <td>https://twitter.com/dog_rates/status/666029285...</td>\n",
       "      <td>7</td>\n",
       "      <td>10</td>\n",
       "      <td>a</td>\n",
       "      <td>None</td>\n",
       "      <td>None</td>\n",
       "      <td>None</td>\n",
       "      <td>None</td>\n",
       "    </tr>\n",
       "    <tr>\n",
       "      <th>2355</th>\n",
       "      <td>666020888022790149</td>\n",
       "      <td>NaN</td>\n",
       "      <td>NaN</td>\n",
       "      <td>2015-11-15 22:32:08 +0000</td>\n",
       "      <td>&lt;a href=\"http://twitter.com/download/iphone\" r...</td>\n",
       "      <td>Here we have a Japanese Irish Setter. Lost eye...</td>\n",
       "      <td>NaN</td>\n",
       "      <td>NaN</td>\n",
       "      <td>NaN</td>\n",
       "      <td>https://twitter.com/dog_rates/status/666020888...</td>\n",
       "      <td>8</td>\n",
       "      <td>10</td>\n",
       "      <td>None</td>\n",
       "      <td>None</td>\n",
       "      <td>None</td>\n",
       "      <td>None</td>\n",
       "      <td>None</td>\n",
       "    </tr>\n",
       "  </tbody>\n",
       "</table>\n",
       "<p>2356 rows × 17 columns</p>\n",
       "</div>"
      ],
      "text/plain": [
       "                tweet_id  in_reply_to_status_id  in_reply_to_user_id  \\\n",
       "0     892420643555336193                    NaN                  NaN   \n",
       "1     892177421306343426                    NaN                  NaN   \n",
       "2     891815181378084864                    NaN                  NaN   \n",
       "3     891689557279858688                    NaN                  NaN   \n",
       "4     891327558926688256                    NaN                  NaN   \n",
       "...                  ...                    ...                  ...   \n",
       "2351  666049248165822465                    NaN                  NaN   \n",
       "2352  666044226329800704                    NaN                  NaN   \n",
       "2353  666033412701032449                    NaN                  NaN   \n",
       "2354  666029285002620928                    NaN                  NaN   \n",
       "2355  666020888022790149                    NaN                  NaN   \n",
       "\n",
       "                      timestamp  \\\n",
       "0     2017-08-01 16:23:56 +0000   \n",
       "1     2017-08-01 00:17:27 +0000   \n",
       "2     2017-07-31 00:18:03 +0000   \n",
       "3     2017-07-30 15:58:51 +0000   \n",
       "4     2017-07-29 16:00:24 +0000   \n",
       "...                         ...   \n",
       "2351  2015-11-16 00:24:50 +0000   \n",
       "2352  2015-11-16 00:04:52 +0000   \n",
       "2353  2015-11-15 23:21:54 +0000   \n",
       "2354  2015-11-15 23:05:30 +0000   \n",
       "2355  2015-11-15 22:32:08 +0000   \n",
       "\n",
       "                                                 source  \\\n",
       "0     <a href=\"http://twitter.com/download/iphone\" r...   \n",
       "1     <a href=\"http://twitter.com/download/iphone\" r...   \n",
       "2     <a href=\"http://twitter.com/download/iphone\" r...   \n",
       "3     <a href=\"http://twitter.com/download/iphone\" r...   \n",
       "4     <a href=\"http://twitter.com/download/iphone\" r...   \n",
       "...                                                 ...   \n",
       "2351  <a href=\"http://twitter.com/download/iphone\" r...   \n",
       "2352  <a href=\"http://twitter.com/download/iphone\" r...   \n",
       "2353  <a href=\"http://twitter.com/download/iphone\" r...   \n",
       "2354  <a href=\"http://twitter.com/download/iphone\" r...   \n",
       "2355  <a href=\"http://twitter.com/download/iphone\" r...   \n",
       "\n",
       "                                                   text  retweeted_status_id  \\\n",
       "0     This is Phineas. He's a mystical boy. Only eve...                  NaN   \n",
       "1     This is Tilly. She's just checking pup on you....                  NaN   \n",
       "2     This is Archie. He is a rare Norwegian Pouncin...                  NaN   \n",
       "3     This is Darla. She commenced a snooze mid meal...                  NaN   \n",
       "4     This is Franklin. He would like you to stop ca...                  NaN   \n",
       "...                                                 ...                  ...   \n",
       "2351  Here we have a 1949 1st generation vulpix. Enj...                  NaN   \n",
       "2352  This is a purebred Piers Morgan. Loves to Netf...                  NaN   \n",
       "2353  Here is a very happy pup. Big fan of well-main...                  NaN   \n",
       "2354  This is a western brown Mitsubishi terrier. Up...                  NaN   \n",
       "2355  Here we have a Japanese Irish Setter. Lost eye...                  NaN   \n",
       "\n",
       "      retweeted_status_user_id retweeted_status_timestamp  \\\n",
       "0                          NaN                        NaN   \n",
       "1                          NaN                        NaN   \n",
       "2                          NaN                        NaN   \n",
       "3                          NaN                        NaN   \n",
       "4                          NaN                        NaN   \n",
       "...                        ...                        ...   \n",
       "2351                       NaN                        NaN   \n",
       "2352                       NaN                        NaN   \n",
       "2353                       NaN                        NaN   \n",
       "2354                       NaN                        NaN   \n",
       "2355                       NaN                        NaN   \n",
       "\n",
       "                                          expanded_urls  rating_numerator  \\\n",
       "0     https://twitter.com/dog_rates/status/892420643...                13   \n",
       "1     https://twitter.com/dog_rates/status/892177421...                13   \n",
       "2     https://twitter.com/dog_rates/status/891815181...                12   \n",
       "3     https://twitter.com/dog_rates/status/891689557...                13   \n",
       "4     https://twitter.com/dog_rates/status/891327558...                12   \n",
       "...                                                 ...               ...   \n",
       "2351  https://twitter.com/dog_rates/status/666049248...                 5   \n",
       "2352  https://twitter.com/dog_rates/status/666044226...                 6   \n",
       "2353  https://twitter.com/dog_rates/status/666033412...                 9   \n",
       "2354  https://twitter.com/dog_rates/status/666029285...                 7   \n",
       "2355  https://twitter.com/dog_rates/status/666020888...                 8   \n",
       "\n",
       "      rating_denominator      name doggo floofer pupper puppo  \n",
       "0                     10   Phineas  None    None   None  None  \n",
       "1                     10     Tilly  None    None   None  None  \n",
       "2                     10    Archie  None    None   None  None  \n",
       "3                     10     Darla  None    None   None  None  \n",
       "4                     10  Franklin  None    None   None  None  \n",
       "...                  ...       ...   ...     ...    ...   ...  \n",
       "2351                  10      None  None    None   None  None  \n",
       "2352                  10         a  None    None   None  None  \n",
       "2353                  10         a  None    None   None  None  \n",
       "2354                  10         a  None    None   None  None  \n",
       "2355                  10      None  None    None   None  None  \n",
       "\n",
       "[2356 rows x 17 columns]"
      ]
     },
     "execution_count": 14,
     "metadata": {},
     "output_type": "execute_result"
    }
   ],
   "source": [
    "\n",
    "twitter_arch"
   ]
  },
  {
   "cell_type": "code",
   "execution_count": 15,
   "id": "c68a15be",
   "metadata": {},
   "outputs": [],
   "source": [
    "# Visual assessment on excel from exported csv\n",
    "large_num = twitter_arch[twitter_arch.rating_numerator>15]\n",
    "large_num.to_csv('large_numerators.csv', index = False)"
   ]
  },
  {
   "cell_type": "markdown",
   "id": "33ca2905",
   "metadata": {},
   "source": [
    "#### Programmatic Assessment"
   ]
  },
  {
   "cell_type": "code",
   "execution_count": 16,
   "id": "8249fc8c",
   "metadata": {},
   "outputs": [
    {
     "name": "stdout",
     "output_type": "stream",
     "text": [
      "<class 'pandas.core.frame.DataFrame'>\n",
      "RangeIndex: 2356 entries, 0 to 2355\n",
      "Data columns (total 17 columns):\n",
      " #   Column                      Non-Null Count  Dtype  \n",
      "---  ------                      --------------  -----  \n",
      " 0   tweet_id                    2356 non-null   int64  \n",
      " 1   in_reply_to_status_id       78 non-null     float64\n",
      " 2   in_reply_to_user_id         78 non-null     float64\n",
      " 3   timestamp                   2356 non-null   object \n",
      " 4   source                      2356 non-null   object \n",
      " 5   text                        2356 non-null   object \n",
      " 6   retweeted_status_id         181 non-null    float64\n",
      " 7   retweeted_status_user_id    181 non-null    float64\n",
      " 8   retweeted_status_timestamp  181 non-null    object \n",
      " 9   expanded_urls               2297 non-null   object \n",
      " 10  rating_numerator            2356 non-null   int64  \n",
      " 11  rating_denominator          2356 non-null   int64  \n",
      " 12  name                        2356 non-null   object \n",
      " 13  doggo                       2356 non-null   object \n",
      " 14  floofer                     2356 non-null   object \n",
      " 15  pupper                      2356 non-null   object \n",
      " 16  puppo                       2356 non-null   object \n",
      "dtypes: float64(4), int64(3), object(10)\n",
      "memory usage: 313.0+ KB\n"
     ]
    }
   ],
   "source": [
    "# View info\n",
    "twitter_arch.info()"
   ]
  },
  {
   "cell_type": "code",
   "execution_count": 17,
   "id": "3b8e6df9",
   "metadata": {},
   "outputs": [
    {
     "data": {
      "text/html": [
       "<div>\n",
       "<style scoped>\n",
       "    .dataframe tbody tr th:only-of-type {\n",
       "        vertical-align: middle;\n",
       "    }\n",
       "\n",
       "    .dataframe tbody tr th {\n",
       "        vertical-align: top;\n",
       "    }\n",
       "\n",
       "    .dataframe thead th {\n",
       "        text-align: right;\n",
       "    }\n",
       "</style>\n",
       "<table border=\"1\" class=\"dataframe\">\n",
       "  <thead>\n",
       "    <tr style=\"text-align: right;\">\n",
       "      <th></th>\n",
       "      <th>tweet_id</th>\n",
       "      <th>in_reply_to_status_id</th>\n",
       "      <th>in_reply_to_user_id</th>\n",
       "      <th>retweeted_status_id</th>\n",
       "      <th>retweeted_status_user_id</th>\n",
       "      <th>rating_numerator</th>\n",
       "      <th>rating_denominator</th>\n",
       "    </tr>\n",
       "  </thead>\n",
       "  <tbody>\n",
       "    <tr>\n",
       "      <th>count</th>\n",
       "      <td>2.356000e+03</td>\n",
       "      <td>7.800000e+01</td>\n",
       "      <td>7.800000e+01</td>\n",
       "      <td>1.810000e+02</td>\n",
       "      <td>1.810000e+02</td>\n",
       "      <td>2356.000000</td>\n",
       "      <td>2356.000000</td>\n",
       "    </tr>\n",
       "    <tr>\n",
       "      <th>mean</th>\n",
       "      <td>7.427716e+17</td>\n",
       "      <td>7.455079e+17</td>\n",
       "      <td>2.014171e+16</td>\n",
       "      <td>7.720400e+17</td>\n",
       "      <td>1.241698e+16</td>\n",
       "      <td>13.126486</td>\n",
       "      <td>10.455433</td>\n",
       "    </tr>\n",
       "    <tr>\n",
       "      <th>std</th>\n",
       "      <td>6.856705e+16</td>\n",
       "      <td>7.582492e+16</td>\n",
       "      <td>1.252797e+17</td>\n",
       "      <td>6.236928e+16</td>\n",
       "      <td>9.599254e+16</td>\n",
       "      <td>45.876648</td>\n",
       "      <td>6.745237</td>\n",
       "    </tr>\n",
       "    <tr>\n",
       "      <th>min</th>\n",
       "      <td>6.660209e+17</td>\n",
       "      <td>6.658147e+17</td>\n",
       "      <td>1.185634e+07</td>\n",
       "      <td>6.661041e+17</td>\n",
       "      <td>7.832140e+05</td>\n",
       "      <td>0.000000</td>\n",
       "      <td>0.000000</td>\n",
       "    </tr>\n",
       "    <tr>\n",
       "      <th>25%</th>\n",
       "      <td>6.783989e+17</td>\n",
       "      <td>6.757419e+17</td>\n",
       "      <td>3.086374e+08</td>\n",
       "      <td>7.186315e+17</td>\n",
       "      <td>4.196984e+09</td>\n",
       "      <td>10.000000</td>\n",
       "      <td>10.000000</td>\n",
       "    </tr>\n",
       "    <tr>\n",
       "      <th>50%</th>\n",
       "      <td>7.196279e+17</td>\n",
       "      <td>7.038708e+17</td>\n",
       "      <td>4.196984e+09</td>\n",
       "      <td>7.804657e+17</td>\n",
       "      <td>4.196984e+09</td>\n",
       "      <td>11.000000</td>\n",
       "      <td>10.000000</td>\n",
       "    </tr>\n",
       "    <tr>\n",
       "      <th>75%</th>\n",
       "      <td>7.993373e+17</td>\n",
       "      <td>8.257804e+17</td>\n",
       "      <td>4.196984e+09</td>\n",
       "      <td>8.203146e+17</td>\n",
       "      <td>4.196984e+09</td>\n",
       "      <td>12.000000</td>\n",
       "      <td>10.000000</td>\n",
       "    </tr>\n",
       "    <tr>\n",
       "      <th>max</th>\n",
       "      <td>8.924206e+17</td>\n",
       "      <td>8.862664e+17</td>\n",
       "      <td>8.405479e+17</td>\n",
       "      <td>8.874740e+17</td>\n",
       "      <td>7.874618e+17</td>\n",
       "      <td>1776.000000</td>\n",
       "      <td>170.000000</td>\n",
       "    </tr>\n",
       "  </tbody>\n",
       "</table>\n",
       "</div>"
      ],
      "text/plain": [
       "           tweet_id  in_reply_to_status_id  in_reply_to_user_id  \\\n",
       "count  2.356000e+03           7.800000e+01         7.800000e+01   \n",
       "mean   7.427716e+17           7.455079e+17         2.014171e+16   \n",
       "std    6.856705e+16           7.582492e+16         1.252797e+17   \n",
       "min    6.660209e+17           6.658147e+17         1.185634e+07   \n",
       "25%    6.783989e+17           6.757419e+17         3.086374e+08   \n",
       "50%    7.196279e+17           7.038708e+17         4.196984e+09   \n",
       "75%    7.993373e+17           8.257804e+17         4.196984e+09   \n",
       "max    8.924206e+17           8.862664e+17         8.405479e+17   \n",
       "\n",
       "       retweeted_status_id  retweeted_status_user_id  rating_numerator  \\\n",
       "count         1.810000e+02              1.810000e+02       2356.000000   \n",
       "mean          7.720400e+17              1.241698e+16         13.126486   \n",
       "std           6.236928e+16              9.599254e+16         45.876648   \n",
       "min           6.661041e+17              7.832140e+05          0.000000   \n",
       "25%           7.186315e+17              4.196984e+09         10.000000   \n",
       "50%           7.804657e+17              4.196984e+09         11.000000   \n",
       "75%           8.203146e+17              4.196984e+09         12.000000   \n",
       "max           8.874740e+17              7.874618e+17       1776.000000   \n",
       "\n",
       "       rating_denominator  \n",
       "count         2356.000000  \n",
       "mean            10.455433  \n",
       "std              6.745237  \n",
       "min              0.000000  \n",
       "25%             10.000000  \n",
       "50%             10.000000  \n",
       "75%             10.000000  \n",
       "max            170.000000  "
      ]
     },
     "execution_count": 17,
     "metadata": {},
     "output_type": "execute_result"
    }
   ],
   "source": [
    "# View data statistics\n",
    "twitter_arch.describe()"
   ]
  },
  {
   "cell_type": "code",
   "execution_count": 18,
   "id": "d466e7ac",
   "metadata": {},
   "outputs": [
    {
     "data": {
      "text/plain": [
       "0"
      ]
     },
     "execution_count": 18,
     "metadata": {},
     "output_type": "execute_result"
    }
   ],
   "source": [
    "# Check for duplicates in entire dataframe\n",
    "twitter_arch.duplicated().sum()"
   ]
  },
  {
   "cell_type": "code",
   "execution_count": 19,
   "id": "7a5ccf9e",
   "metadata": {},
   "outputs": [],
   "source": [
    "# Check for duplicates in columns\n",
    "\n",
    "# Describe function to check duplicates\n",
    "\n",
    "def find_duplicates(df):\n",
    "    for col in df.columns:\n",
    "        dup = df[col].duplicated().sum()\n",
    "        print(col, ':', dup)"
   ]
  },
  {
   "cell_type": "code",
   "execution_count": 20,
   "id": "a1efd57f",
   "metadata": {},
   "outputs": [
    {
     "name": "stdout",
     "output_type": "stream",
     "text": [
      "tweet_id : 0\n",
      "in_reply_to_status_id : 2278\n",
      "in_reply_to_user_id : 2324\n",
      "timestamp : 0\n",
      "source : 2352\n",
      "text : 0\n",
      "retweeted_status_id : 2174\n",
      "retweeted_status_user_id : 2330\n",
      "retweeted_status_timestamp : 2174\n",
      "expanded_urls : 137\n",
      "rating_numerator : 2316\n",
      "rating_denominator : 2338\n",
      "name : 1399\n",
      "doggo : 2354\n",
      "floofer : 2354\n",
      "pupper : 2354\n",
      "puppo : 2354\n"
     ]
    }
   ],
   "source": [
    "find_duplicates(twitter_arch)"
   ]
  },
  {
   "cell_type": "code",
   "execution_count": 21,
   "id": "5803c71a",
   "metadata": {},
   "outputs": [
    {
     "data": {
      "text/plain": [
       "2356"
      ]
     },
     "execution_count": 21,
     "metadata": {},
     "output_type": "execute_result"
    }
   ],
   "source": [
    "twitter_arch.tweet_id.nunique()"
   ]
  },
  {
   "cell_type": "code",
   "execution_count": 22,
   "id": "21374484",
   "metadata": {},
   "outputs": [
    {
     "data": {
      "text/plain": [
       "<a href=\"http://twitter.com/download/iphone\" rel=\"nofollow\">Twitter for iPhone</a>     2221\n",
       "<a href=\"http://vine.co\" rel=\"nofollow\">Vine - Make a Scene</a>                          91\n",
       "<a href=\"http://twitter.com\" rel=\"nofollow\">Twitter Web Client</a>                       33\n",
       "<a href=\"https://about.twitter.com/products/tweetdeck\" rel=\"nofollow\">TweetDeck</a>      11\n",
       "Name: source, dtype: int64"
      ]
     },
     "execution_count": 22,
     "metadata": {},
     "output_type": "execute_result"
    }
   ],
   "source": [
    "# See value counts of unique entries in columns\n",
    "twitter_arch.source.value_counts()"
   ]
  },
  {
   "cell_type": "code",
   "execution_count": 23,
   "id": "2471a672",
   "metadata": {},
   "outputs": [
    {
     "data": {
      "text/plain": [
       "12      558\n",
       "11      464\n",
       "10      461\n",
       "13      351\n",
       "9       158\n",
       "8       102\n",
       "7        55\n",
       "14       54\n",
       "5        37\n",
       "6        32\n",
       "3        19\n",
       "4        17\n",
       "2         9\n",
       "1         9\n",
       "75        2\n",
       "15        2\n",
       "420       2\n",
       "0         2\n",
       "80        1\n",
       "144       1\n",
       "17        1\n",
       "26        1\n",
       "20        1\n",
       "121       1\n",
       "143       1\n",
       "44        1\n",
       "60        1\n",
       "45        1\n",
       "50        1\n",
       "99        1\n",
       "204       1\n",
       "1776      1\n",
       "165       1\n",
       "666       1\n",
       "27        1\n",
       "182       1\n",
       "24        1\n",
       "960       1\n",
       "84        1\n",
       "88        1\n",
       "Name: rating_numerator, dtype: int64"
      ]
     },
     "execution_count": 23,
     "metadata": {},
     "output_type": "execute_result"
    }
   ],
   "source": [
    "twitter_arch.rating_numerator.value_counts()"
   ]
  },
  {
   "cell_type": "code",
   "execution_count": 24,
   "id": "6af9b4e9",
   "metadata": {},
   "outputs": [
    {
     "data": {
      "text/plain": [
       "188     @dhmontgomery We also gave snoop dogg a 420/10...\n",
       "189     @s8n You tried very hard to portray this good ...\n",
       "290                                    @markhoppus 182/10\n",
       "313     @jonnysun @Lin_Manuel ok jomny I know you're e...\n",
       "340     RT @dog_rates: This is Logan, the Chow who liv...\n",
       "433     The floofs have been released I repeat the flo...\n",
       "516     Meet Sam. She smiles 24/7 &amp; secretly aspir...\n",
       "695     This is Logan, the Chow who lived. He solemnly...\n",
       "763     This is Sophie. She's a Jubilant Bush Pupper. ...\n",
       "902     Why does this never happen at my front door......\n",
       "979     This is Atticus. He's quite simply America af....\n",
       "1120    Say hello to this unbelievably well behaved sq...\n",
       "1202    This is Bluebert. He just saw that both #Final...\n",
       "1228    Happy Saturday here's 9 puppers on a bench. 99...\n",
       "1254    Here's a brigade of puppers. All look very pre...\n",
       "1274    From left to right:\\nCletus, Jerome, Alejandro...\n",
       "1351    Here is a whole flock of puppers.  60/50 I'll ...\n",
       "1433    Happy Wednesday here's a bucket of pups. 44/40...\n",
       "1634    Two sneaky puppers were not initially seen, mo...\n",
       "1635    Someone help the girl is being mugged. Several...\n",
       "1712    Here we have uncovered an entire battalion of ...\n",
       "1779    IT'S PUPPERGEDDON. Total of 144/120 ...I think...\n",
       "1843    Here we have an entire platoon of puppers. Tot...\n",
       "2074    After so many requests... here you go.\\n\\nGood...\n",
       "Name: text, dtype: object"
      ]
     },
     "execution_count": 24,
     "metadata": {},
     "output_type": "execute_result"
    }
   ],
   "source": [
    "large_num = twitter_arch[twitter_arch.rating_numerator>20]\n",
    "large_num['text']"
   ]
  },
  {
   "cell_type": "code",
   "execution_count": 25,
   "id": "eef6055b",
   "metadata": {},
   "outputs": [
    {
     "data": {
      "text/plain": [
       "10     2333\n",
       "11        3\n",
       "50        3\n",
       "20        2\n",
       "80        2\n",
       "70        1\n",
       "7         1\n",
       "15        1\n",
       "150       1\n",
       "170       1\n",
       "0         1\n",
       "90        1\n",
       "40        1\n",
       "130       1\n",
       "110       1\n",
       "16        1\n",
       "120       1\n",
       "2         1\n",
       "Name: rating_denominator, dtype: int64"
      ]
     },
     "execution_count": 25,
     "metadata": {},
     "output_type": "execute_result"
    }
   ],
   "source": [
    "twitter_arch.rating_denominator.value_counts()"
   ]
  },
  {
   "cell_type": "code",
   "execution_count": 26,
   "id": "deddb4c4",
   "metadata": {},
   "outputs": [
    {
     "data": {
      "text/plain": [
       "None     2259\n",
       "doggo      97\n",
       "Name: doggo, dtype: int64"
      ]
     },
     "execution_count": 26,
     "metadata": {},
     "output_type": "execute_result"
    }
   ],
   "source": [
    "twitter_arch.doggo.value_counts()"
   ]
  },
  {
   "cell_type": "code",
   "execution_count": 27,
   "id": "0510122e",
   "metadata": {},
   "outputs": [
    {
     "data": {
      "text/plain": [
       "None       2346\n",
       "floofer      10\n",
       "Name: floofer, dtype: int64"
      ]
     },
     "execution_count": 27,
     "metadata": {},
     "output_type": "execute_result"
    }
   ],
   "source": [
    "twitter_arch.floofer.value_counts()"
   ]
  },
  {
   "cell_type": "code",
   "execution_count": 28,
   "id": "595d6a49",
   "metadata": {},
   "outputs": [
    {
     "data": {
      "text/plain": [
       "None      2099\n",
       "pupper     257\n",
       "Name: pupper, dtype: int64"
      ]
     },
     "execution_count": 28,
     "metadata": {},
     "output_type": "execute_result"
    }
   ],
   "source": [
    "twitter_arch.pupper.value_counts()"
   ]
  },
  {
   "cell_type": "code",
   "execution_count": 29,
   "id": "31827376",
   "metadata": {},
   "outputs": [
    {
     "data": {
      "text/plain": [
       "None     2326\n",
       "puppo      30\n",
       "Name: puppo, dtype: int64"
      ]
     },
     "execution_count": 29,
     "metadata": {},
     "output_type": "execute_result"
    }
   ],
   "source": [
    "twitter_arch.puppo.value_counts()"
   ]
  },
  {
   "cell_type": "code",
   "execution_count": 30,
   "id": "deccb19d",
   "metadata": {},
   "outputs": [
    {
     "data": {
      "text/plain": [
       "array(['Phineas', 'Tilly', 'Archie', 'Darla', 'Franklin', 'None', 'Jax',\n",
       "       'Zoey', 'Cassie', 'Koda', 'Bruno', 'Ted', 'Stuart', 'Oliver',\n",
       "       'Jim', 'Zeke', 'Ralphus', 'Canela', 'Gerald', 'Jeffrey', 'such',\n",
       "       'Maya', 'Mingus', 'Derek', 'Roscoe', 'Waffles', 'Jimbo', 'Maisey',\n",
       "       'Lilly', 'Earl', 'Lola', 'Kevin', 'Yogi', 'Noah', 'Bella',\n",
       "       'Grizzwald', 'Rusty', 'Gus', 'Stanley', 'Alfy', 'Koko', 'Rey',\n",
       "       'Gary', 'a', 'Elliot', 'Louis', 'Jesse', 'Romeo', 'Bailey',\n",
       "       'Duddles', 'Jack', 'Emmy', 'Steven', 'Beau', 'Snoopy', 'Shadow',\n",
       "       'Terrance', 'Aja', 'Penny', 'Dante', 'Nelly', 'Ginger', 'Benedict',\n",
       "       'Venti', 'Goose', 'Nugget', 'Cash', 'Coco', 'Jed', 'Sebastian',\n",
       "       'Walter', 'Sierra', 'Monkey', 'Harry', 'Kody', 'Lassie', 'Rover',\n",
       "       'Napolean', 'Dawn', 'Boomer', 'Cody', 'Rumble', 'Clifford',\n",
       "       'quite', 'Dewey', 'Scout', 'Gizmo', 'Cooper', 'Harold', 'Shikha',\n",
       "       'Jamesy', 'Lili', 'Sammy', 'Meatball', 'Paisley', 'Albus',\n",
       "       'Neptune', 'Quinn', 'Belle', 'Zooey', 'Dave', 'Jersey', 'Hobbes',\n",
       "       'Burt', 'Lorenzo', 'Carl', 'Jordy', 'Milky', 'Trooper', 'Winston',\n",
       "       'Sophie', 'Wyatt', 'Rosie', 'Thor', 'Oscar', 'Luna', 'Callie',\n",
       "       'Cermet', 'George', 'Marlee', 'Arya', 'Einstein', 'Alice',\n",
       "       'Rumpole', 'Benny', 'Aspen', 'Jarod', 'Wiggles', 'General',\n",
       "       'Sailor', 'Astrid', 'Iggy', 'Snoop', 'Kyle', 'Leo', 'Riley',\n",
       "       'Gidget', 'Noosh', 'Odin', 'Jerry', 'Charlie', 'Georgie', 'Rontu',\n",
       "       'Cannon', 'Furzey', 'Daisy', 'Tuck', 'Barney', 'Vixen', 'Jarvis',\n",
       "       'Mimosa', 'Pickles', 'Bungalo', 'Brady', 'Margo', 'Sadie', 'Hank',\n",
       "       'Tycho', 'Stephan', 'Indie', 'Winnie', 'Bentley', 'Ken', 'Max',\n",
       "       'Maddie', 'Pipsy', 'Monty', 'Sojourner', 'Odie', 'Arlo', 'Sunny',\n",
       "       'Vincent', 'Lucy', 'Clark', 'Mookie', 'Meera', 'Buddy', 'Ava',\n",
       "       'Rory', 'Eli', 'Ash', 'Tucker', 'Tobi', 'Chester', 'Wilson',\n",
       "       'Sunshine', 'Lipton', 'Gabby', 'Bronte', 'Poppy', 'Rhino',\n",
       "       'Willow', 'not', 'Orion', 'Eevee', 'Smiley', 'Logan', 'Moreton',\n",
       "       'Klein', 'Miguel', 'Emanuel', 'Kuyu', 'Dutch', 'Pete', 'Scooter',\n",
       "       'Reggie', 'Kyro', 'Samson', 'Loki', 'Mia', 'Malcolm', 'Dexter',\n",
       "       'Alfie', 'Fiona', 'one', 'Mutt', 'Bear', 'Doobert', 'Beebop',\n",
       "       'Alexander', 'Sailer', 'Brutus', 'Kona', 'Boots', 'Ralphie',\n",
       "       'Phil', 'Cupid', 'Pawnd', 'Pilot', 'Ike', 'Mo', 'Toby', 'Sweet',\n",
       "       'Pablo', 'Nala', 'Balto', 'Crawford', 'Gabe', 'Mattie', 'Jimison',\n",
       "       'Hercules', 'Duchess', 'Harlso', 'Sampson', 'Sundance', 'Luca',\n",
       "       'Flash', 'Finn', 'Peaches', 'Howie', 'Jazzy', 'Anna', 'Bo',\n",
       "       'Seamus', 'Wafer', 'Chelsea', 'Tom', 'Moose', 'Florence', 'Autumn',\n",
       "       'Dido', 'Eugene', 'Herschel', 'Strudel', 'Tebow', 'Chloe', 'Betty',\n",
       "       'Timber', 'Binky', 'Dudley', 'Comet', 'Larry', 'Levi', 'Akumi',\n",
       "       'Titan', 'Olivia', 'Alf', 'Oshie', 'Bruce', 'Chubbs', 'Sky',\n",
       "       'Atlas', 'Eleanor', 'Layla', 'Rocky', 'Baron', 'Tyr', 'Bauer',\n",
       "       'Swagger', 'Brandi', 'Mary', 'Moe', 'Halo', 'Augie', 'Craig',\n",
       "       'Sam', 'Hunter', 'Pavlov', 'Maximus', 'Wallace', 'Ito', 'Milo',\n",
       "       'Ollie', 'Cali', 'Lennon', 'incredibly', 'Major', 'Duke',\n",
       "       'Reginald', 'Sansa', 'Shooter', 'Django', 'Diogi', 'Sonny',\n",
       "       'Philbert', 'Marley', 'Severus', 'Ronnie', 'Anakin', 'Bones',\n",
       "       'Mauve', 'Chef', 'Doc', 'Sobe', 'Longfellow', 'Mister', 'Iroh',\n",
       "       'Baloo', 'Stubert', 'Paull', 'Timison', 'Davey', 'Pancake',\n",
       "       'Tyrone', 'Snicku', 'Ruby', 'Brody', 'Rizzy', 'Mack', 'Butter',\n",
       "       'Nimbus', 'Laika', 'Dobby', 'Juno', 'Maude', 'Lily', 'Newt',\n",
       "       'Benji', 'Nida', 'Robin', 'Monster', 'BeBe', 'Remus', 'Mabel',\n",
       "       'Misty', 'Happy', 'Mosby', 'Maggie', 'Leela', 'Ralphy', 'Brownie',\n",
       "       'Meyer', 'Stella', 'mad', 'Frank', 'Tonks', 'Lincoln', 'Oakley',\n",
       "       'Dale', 'Rizzo', 'Arnie', 'Pinot', 'Dallas', 'Hero', 'Frankie',\n",
       "       'Stormy', 'Mairi', 'Loomis', 'Godi', 'Kenny', 'Deacon', 'Timmy',\n",
       "       'Harper', 'Chipson', 'Combo', 'Dash', 'Bell', 'Hurley', 'Jay',\n",
       "       'Mya', 'Strider', 'an', 'Wesley', 'Solomon', 'Huck', 'very', 'O',\n",
       "       'Blue', 'Finley', 'Sprinkles', 'Heinrich', 'Shakespeare', 'Fizz',\n",
       "       'Chip', 'Grey', 'Roosevelt', 'Gromit', 'Willem', 'Dakota', 'Dixie',\n",
       "       'Al', 'Jackson', 'just', 'Carbon', 'DonDon', 'Kirby', 'Lou',\n",
       "       'Nollie', 'Chevy', 'Tito', 'Louie', 'Rupert', 'Rufus', 'Brudge',\n",
       "       'Shadoe', 'Colby', 'Angel', 'Brat', 'Tove', 'my', 'Aubie', 'Kota',\n",
       "       'Eve', 'Glenn', 'Shelby', 'Sephie', 'Bonaparte', 'Albert',\n",
       "       'Wishes', 'Rose', 'Theo', 'Rocco', 'Fido', 'Emma', 'Spencer',\n",
       "       'Lilli', 'Boston', 'Brandonald', 'Corey', 'Leonard', 'Chompsky',\n",
       "       'Beckham', 'Devón', 'Gert', 'Watson', 'Rubio', 'Keith', 'Dex',\n",
       "       'Carly', 'Ace', 'Tayzie', 'Grizzie', 'Fred', 'Gilbert', 'Zoe',\n",
       "       'Stewie', 'Calvin', 'Lilah', 'Spanky', 'Jameson', 'Piper',\n",
       "       'Atticus', 'Blu', 'Dietrich', 'Divine', 'Tripp', 'his', 'Cora',\n",
       "       'Huxley', 'Keurig', 'Bookstore', 'Linus', 'Abby', 'Shaggy',\n",
       "       'Shiloh', 'Gustav', 'Arlen', 'Percy', 'Lenox', 'Sugar', 'Harvey',\n",
       "       'Blanket', 'actually', 'Geno', 'Stark', 'Beya', 'Kilo', 'Kayla',\n",
       "       'Maxaroni', 'Doug', 'Edmund', 'Aqua', 'Theodore', 'Chase',\n",
       "       'getting', 'Rorie', 'Simba', 'Charles', 'Bayley', 'Axel',\n",
       "       'Storkson', 'Remy', 'Chadrick', 'Kellogg', 'Buckley', 'Livvie',\n",
       "       'Terry', 'Hermione', 'Ralpher', 'Aldrick', 'this', 'unacceptable',\n",
       "       'Rooney', 'Crystal', 'Ziva', 'Stefan', 'Pupcasso', 'Puff',\n",
       "       'Flurpson', 'Coleman', 'Enchilada', 'Raymond', 'all', 'Rueben',\n",
       "       'Cilantro', 'Karll', 'Sprout', 'Blitz', 'Bloop', 'Lillie',\n",
       "       'Ashleigh', 'Kreggory', 'Sarge', 'Luther', 'Ivar', 'Jangle',\n",
       "       'Schnitzel', 'Panda', 'Berkeley', 'Ralphé', 'Charleson', 'Clyde',\n",
       "       'Harnold', 'Sid', 'Pippa', 'Otis', 'Carper', 'Bowie',\n",
       "       'Alexanderson', 'Suki', 'Barclay', 'Skittle', 'Ebby', 'Flávio',\n",
       "       'Smokey', 'Link', 'Jennifur', 'Ozzy', 'Bluebert', 'Stephanus',\n",
       "       'Bubbles', 'old', 'Zeus', 'Bertson', 'Nico', 'Michelangelope',\n",
       "       'Siba', 'Calbert', 'Curtis', 'Travis', 'Thumas', 'Kanu', 'Lance',\n",
       "       'Opie', 'Kane', 'Olive', 'Chuckles', 'Staniel', 'Sora', 'Beemo',\n",
       "       'Gunner', 'infuriating', 'Lacy', 'Tater', 'Olaf', 'Cecil', 'Vince',\n",
       "       'Karma', 'Billy', 'Walker', 'Rodney', 'Klevin', 'Malikai',\n",
       "       'Bobble', 'River', 'Jebberson', 'Remington', 'Farfle', 'Jiminus',\n",
       "       'Clarkus', 'Finnegus', 'Cupcake', 'Kathmandu', 'Ellie', 'Katie',\n",
       "       'Kara', 'Adele', 'Zara', 'Ambrose', 'Jimothy', 'Bode', 'Terrenth',\n",
       "       'Reese', 'Chesterson', 'Lucia', 'Bisquick', 'Ralphson', 'Socks',\n",
       "       'Rambo', 'Rudy', 'Fiji', 'Rilo', 'Bilbo', 'Coopson', 'Yoda',\n",
       "       'Millie', 'Chet', 'Crouton', 'Daniel', 'Kaia', 'Murphy', 'Dotsy',\n",
       "       'Eazy', 'Coops', 'Fillup', 'Miley', 'Charl', 'Reagan', 'Yukon',\n",
       "       'CeCe', 'Cuddles', 'Claude', 'Jessiga', 'Carter', 'Ole', 'Pherb',\n",
       "       'Blipson', 'Reptar', 'Trevith', 'Berb', 'Bob', 'Colin', 'Brian',\n",
       "       'Oliviér', 'Grady', 'Kobe', 'Freddery', 'Bodie', 'Dunkin', 'Wally',\n",
       "       'Tupawc', 'Amber', 'Edgar', 'Teddy', 'Kingsley', 'Brockly',\n",
       "       'Richie', 'Molly', 'Vinscent', 'Cedrick', 'Hazel', 'Lolo', 'Eriq',\n",
       "       'Phred', 'the', 'Oddie', 'Maxwell', 'Geoff', 'Covach', 'Durg',\n",
       "       'Fynn', 'Ricky', 'Herald', 'Lucky', 'Ferg', 'Trip', 'Clarence',\n",
       "       'Hamrick', 'Brad', 'Pubert', 'Frönq', 'Derby', 'Lizzie', 'Ember',\n",
       "       'Blakely', 'Opal', 'Marq', 'Kramer', 'Barry', 'Gordon', 'Baxter',\n",
       "       'Mona', 'Horace', 'Crimson', 'Birf', 'Hammond', 'Lorelei', 'Marty',\n",
       "       'Brooks', 'Petrick', 'Hubertson', 'Gerbald', 'Oreo', 'Bruiser',\n",
       "       'Perry', 'Bobby', 'Jeph', 'Obi', 'Tino', 'Kulet', 'Sweets', 'Lupe',\n",
       "       'Tiger', 'Jiminy', 'Griffin', 'Banjo', 'Brandy', 'Lulu', 'Darrel',\n",
       "       'Taco', 'Joey', 'Patrick', 'Kreg', 'Todo', 'Tess', 'Ulysses',\n",
       "       'Toffee', 'Apollo', 'Asher', 'Glacier', 'Chuck', 'Champ', 'Ozzie',\n",
       "       'Griswold', 'Cheesy', 'Moofasa', 'Hector', 'Goliath', 'Kawhi',\n",
       "       'by', 'Emmie', 'Penelope', 'Willie', 'Rinna', 'Mike', 'William',\n",
       "       'Dwight', 'Evy', 'officially', 'Rascal', 'Linda', 'Tug', 'Tango',\n",
       "       'Grizz', 'Jerome', 'Crumpet', 'Jessifer', 'Izzy', 'Ralph', 'Sandy',\n",
       "       'Humphrey', 'Tassy', 'Juckson', 'Chuq', 'Tyrus', 'Karl',\n",
       "       'Godzilla', 'Vinnie', 'Kenneth', 'Herm', 'Bert', 'Striker',\n",
       "       'Donny', 'Pepper', 'Bernie', 'Buddah', 'Lenny', 'Arnold', 'Zuzu',\n",
       "       'Mollie', 'Laela', 'Tedders', 'Superpup', 'Rufio', 'Jeb', 'Rodman',\n",
       "       'Jonah', 'Chesney', 'life', 'Henry', 'Bobbay', 'Mitch', 'Kaiya',\n",
       "       'Acro', 'Aiden', 'Obie', 'Dot', 'Shnuggles', 'Kendall', 'Jeffri',\n",
       "       'Steve', 'Mac', 'Fletcher', 'Kenzie', 'Pumpkin', 'Schnozz',\n",
       "       'Gustaf', 'Cheryl', 'Ed', 'Leonidas', 'Norman', 'Caryl', 'Scott',\n",
       "       'Taz', 'Darby', 'Jackie', 'light', 'Jazz', 'Franq', 'Pippin',\n",
       "       'Rolf', 'Snickers', 'Ridley', 'Cal', 'Bradley', 'Bubba', 'Tuco',\n",
       "       'Patch', 'Mojo', 'Batdog', 'Dylan', 'space', 'Mark', 'JD',\n",
       "       'Alejandro', 'Scruffers', 'Pip', 'Julius', 'Tanner', 'Sparky',\n",
       "       'Anthony', 'Holly', 'Jett', 'Amy', 'Sage', 'Andy', 'Mason',\n",
       "       'Trigger', 'Antony', 'Creg', 'Traviss', 'Gin', 'Jeffrie', 'Danny',\n",
       "       'Ester', 'Pluto', 'Bloo', 'Edd', 'Willy', 'Herb', 'Damon',\n",
       "       'Peanut', 'Nigel', 'Butters', 'Sandra', 'Fabio', 'Randall', 'Liam',\n",
       "       'Tommy', 'Ben', 'Raphael', 'Julio', 'Andru', 'Kloey', 'Shawwn',\n",
       "       'Skye', 'Kollin', 'Ronduh', 'Billl', 'Saydee', 'Dug', 'Tessa',\n",
       "       'Sully', 'Kirk', 'Ralf', 'Clarq', 'Jaspers', 'Samsom', 'Harrison',\n",
       "       'Chaz', 'Jeremy', 'Jaycob', 'Lambeau', 'Ruffles', 'Amélie', 'Bobb',\n",
       "       'Banditt', 'Kevon', 'Winifred', 'Hanz', 'Churlie', 'Zeek',\n",
       "       'Timofy', 'Maks', 'Jomathan', 'Kallie', 'Marvin', 'Spark',\n",
       "       'Gòrdón', 'Jo', 'DayZ', 'Jareld', 'Torque', 'Ron', 'Skittles',\n",
       "       'Cleopatricia', 'Erik', 'Stu', 'Tedrick', 'Filup', 'Kial',\n",
       "       'Naphaniel', 'Dook', 'Hall', 'Philippe', 'Biden', 'Fwed',\n",
       "       'Genevieve', 'Joshwa', 'Bradlay', 'Clybe', 'Keet', 'Carll',\n",
       "       'Jockson', 'Josep', 'Lugan', 'Christoper'], dtype=object)"
      ]
     },
     "execution_count": 30,
     "metadata": {},
     "output_type": "execute_result"
    }
   ],
   "source": [
    "# Have a look at dog names\n",
    "twitter_arch.name.unique()"
   ]
  },
  {
   "cell_type": "code",
   "execution_count": 31,
   "id": "e4de3f55",
   "metadata": {},
   "outputs": [
    {
     "data": {
      "text/plain": [
       "array(['such', 'a', 'quite', 'not', 'one', 'incredibly', 'mad', 'an',\n",
       "       'very', 'just', 'my', 'his', 'actually', 'getting', 'this',\n",
       "       'unacceptable', 'all', 'old', 'infuriating', 'the', 'by',\n",
       "       'officially', 'life', 'light', 'space'], dtype=object)"
      ]
     },
     "execution_count": 31,
     "metadata": {},
     "output_type": "execute_result"
    }
   ],
   "source": [
    "# Some names seem to be off: wrong name from tweet must have been picked\n",
    "odd_names = twitter_arch[twitter_arch.name.str.islower()]\n",
    "odd_names.name.unique()"
   ]
  },
  {
   "cell_type": "code",
   "execution_count": 32,
   "id": "51ce9a7b",
   "metadata": {},
   "outputs": [
    {
     "data": {
      "text/plain": [
       "25"
      ]
     },
     "execution_count": 32,
     "metadata": {},
     "output_type": "execute_result"
    }
   ],
   "source": [
    "# See how many odd names exist\n",
    "\n",
    "odd_names.name.nunique()"
   ]
  },
  {
   "cell_type": "code",
   "execution_count": 33,
   "id": "46cbc295",
   "metadata": {},
   "outputs": [
    {
     "data": {
      "text/plain": [
       "None          745\n",
       "a              55\n",
       "Charlie        12\n",
       "Cooper         11\n",
       "Lucy           11\n",
       "             ... \n",
       "Dex             1\n",
       "Ace             1\n",
       "Tayzie          1\n",
       "Grizzie         1\n",
       "Christoper      1\n",
       "Name: name, Length: 957, dtype: int64"
      ]
     },
     "execution_count": 33,
     "metadata": {},
     "output_type": "execute_result"
    }
   ],
   "source": [
    "twitter_arch.name.value_counts()"
   ]
  },
  {
   "cell_type": "markdown",
   "id": "4db23cb6",
   "metadata": {},
   "source": [
    "### Assess Image Prediction Data"
   ]
  },
  {
   "cell_type": "markdown",
   "id": "e8b6c529",
   "metadata": {},
   "source": [
    "#### Visual Assessment"
   ]
  },
  {
   "cell_type": "code",
   "execution_count": 34,
   "id": "bd5102c5",
   "metadata": {},
   "outputs": [
    {
     "data": {
      "text/html": [
       "<div>\n",
       "<style scoped>\n",
       "    .dataframe tbody tr th:only-of-type {\n",
       "        vertical-align: middle;\n",
       "    }\n",
       "\n",
       "    .dataframe tbody tr th {\n",
       "        vertical-align: top;\n",
       "    }\n",
       "\n",
       "    .dataframe thead th {\n",
       "        text-align: right;\n",
       "    }\n",
       "</style>\n",
       "<table border=\"1\" class=\"dataframe\">\n",
       "  <thead>\n",
       "    <tr style=\"text-align: right;\">\n",
       "      <th></th>\n",
       "      <th>tweet_id</th>\n",
       "      <th>jpg_url</th>\n",
       "      <th>img_num</th>\n",
       "      <th>p1</th>\n",
       "      <th>p1_conf</th>\n",
       "      <th>p1_dog</th>\n",
       "      <th>p2</th>\n",
       "      <th>p2_conf</th>\n",
       "      <th>p2_dog</th>\n",
       "      <th>p3</th>\n",
       "      <th>p3_conf</th>\n",
       "      <th>p3_dog</th>\n",
       "    </tr>\n",
       "  </thead>\n",
       "  <tbody>\n",
       "    <tr>\n",
       "      <th>0</th>\n",
       "      <td>666020888022790149</td>\n",
       "      <td>https://pbs.twimg.com/media/CT4udn0WwAA0aMy.jpg</td>\n",
       "      <td>1</td>\n",
       "      <td>Welsh_springer_spaniel</td>\n",
       "      <td>0.465074</td>\n",
       "      <td>True</td>\n",
       "      <td>collie</td>\n",
       "      <td>0.156665</td>\n",
       "      <td>True</td>\n",
       "      <td>Shetland_sheepdog</td>\n",
       "      <td>0.061428</td>\n",
       "      <td>True</td>\n",
       "    </tr>\n",
       "    <tr>\n",
       "      <th>1</th>\n",
       "      <td>666029285002620928</td>\n",
       "      <td>https://pbs.twimg.com/media/CT42GRgUYAA5iDo.jpg</td>\n",
       "      <td>1</td>\n",
       "      <td>redbone</td>\n",
       "      <td>0.506826</td>\n",
       "      <td>True</td>\n",
       "      <td>miniature_pinscher</td>\n",
       "      <td>0.074192</td>\n",
       "      <td>True</td>\n",
       "      <td>Rhodesian_ridgeback</td>\n",
       "      <td>0.072010</td>\n",
       "      <td>True</td>\n",
       "    </tr>\n",
       "    <tr>\n",
       "      <th>2</th>\n",
       "      <td>666033412701032449</td>\n",
       "      <td>https://pbs.twimg.com/media/CT4521TWwAEvMyu.jpg</td>\n",
       "      <td>1</td>\n",
       "      <td>German_shepherd</td>\n",
       "      <td>0.596461</td>\n",
       "      <td>True</td>\n",
       "      <td>malinois</td>\n",
       "      <td>0.138584</td>\n",
       "      <td>True</td>\n",
       "      <td>bloodhound</td>\n",
       "      <td>0.116197</td>\n",
       "      <td>True</td>\n",
       "    </tr>\n",
       "    <tr>\n",
       "      <th>3</th>\n",
       "      <td>666044226329800704</td>\n",
       "      <td>https://pbs.twimg.com/media/CT5Dr8HUEAA-lEu.jpg</td>\n",
       "      <td>1</td>\n",
       "      <td>Rhodesian_ridgeback</td>\n",
       "      <td>0.408143</td>\n",
       "      <td>True</td>\n",
       "      <td>redbone</td>\n",
       "      <td>0.360687</td>\n",
       "      <td>True</td>\n",
       "      <td>miniature_pinscher</td>\n",
       "      <td>0.222752</td>\n",
       "      <td>True</td>\n",
       "    </tr>\n",
       "    <tr>\n",
       "      <th>4</th>\n",
       "      <td>666049248165822465</td>\n",
       "      <td>https://pbs.twimg.com/media/CT5IQmsXIAAKY4A.jpg</td>\n",
       "      <td>1</td>\n",
       "      <td>miniature_pinscher</td>\n",
       "      <td>0.560311</td>\n",
       "      <td>True</td>\n",
       "      <td>Rottweiler</td>\n",
       "      <td>0.243682</td>\n",
       "      <td>True</td>\n",
       "      <td>Doberman</td>\n",
       "      <td>0.154629</td>\n",
       "      <td>True</td>\n",
       "    </tr>\n",
       "    <tr>\n",
       "      <th>...</th>\n",
       "      <td>...</td>\n",
       "      <td>...</td>\n",
       "      <td>...</td>\n",
       "      <td>...</td>\n",
       "      <td>...</td>\n",
       "      <td>...</td>\n",
       "      <td>...</td>\n",
       "      <td>...</td>\n",
       "      <td>...</td>\n",
       "      <td>...</td>\n",
       "      <td>...</td>\n",
       "      <td>...</td>\n",
       "    </tr>\n",
       "    <tr>\n",
       "      <th>2070</th>\n",
       "      <td>891327558926688256</td>\n",
       "      <td>https://pbs.twimg.com/media/DF6hr6BUMAAzZgT.jpg</td>\n",
       "      <td>2</td>\n",
       "      <td>basset</td>\n",
       "      <td>0.555712</td>\n",
       "      <td>True</td>\n",
       "      <td>English_springer</td>\n",
       "      <td>0.225770</td>\n",
       "      <td>True</td>\n",
       "      <td>German_short-haired_pointer</td>\n",
       "      <td>0.175219</td>\n",
       "      <td>True</td>\n",
       "    </tr>\n",
       "    <tr>\n",
       "      <th>2071</th>\n",
       "      <td>891689557279858688</td>\n",
       "      <td>https://pbs.twimg.com/media/DF_q7IAWsAEuuN8.jpg</td>\n",
       "      <td>1</td>\n",
       "      <td>paper_towel</td>\n",
       "      <td>0.170278</td>\n",
       "      <td>False</td>\n",
       "      <td>Labrador_retriever</td>\n",
       "      <td>0.168086</td>\n",
       "      <td>True</td>\n",
       "      <td>spatula</td>\n",
       "      <td>0.040836</td>\n",
       "      <td>False</td>\n",
       "    </tr>\n",
       "    <tr>\n",
       "      <th>2072</th>\n",
       "      <td>891815181378084864</td>\n",
       "      <td>https://pbs.twimg.com/media/DGBdLU1WsAANxJ9.jpg</td>\n",
       "      <td>1</td>\n",
       "      <td>Chihuahua</td>\n",
       "      <td>0.716012</td>\n",
       "      <td>True</td>\n",
       "      <td>malamute</td>\n",
       "      <td>0.078253</td>\n",
       "      <td>True</td>\n",
       "      <td>kelpie</td>\n",
       "      <td>0.031379</td>\n",
       "      <td>True</td>\n",
       "    </tr>\n",
       "    <tr>\n",
       "      <th>2073</th>\n",
       "      <td>892177421306343426</td>\n",
       "      <td>https://pbs.twimg.com/media/DGGmoV4XsAAUL6n.jpg</td>\n",
       "      <td>1</td>\n",
       "      <td>Chihuahua</td>\n",
       "      <td>0.323581</td>\n",
       "      <td>True</td>\n",
       "      <td>Pekinese</td>\n",
       "      <td>0.090647</td>\n",
       "      <td>True</td>\n",
       "      <td>papillon</td>\n",
       "      <td>0.068957</td>\n",
       "      <td>True</td>\n",
       "    </tr>\n",
       "    <tr>\n",
       "      <th>2074</th>\n",
       "      <td>892420643555336193</td>\n",
       "      <td>https://pbs.twimg.com/media/DGKD1-bXoAAIAUK.jpg</td>\n",
       "      <td>1</td>\n",
       "      <td>orange</td>\n",
       "      <td>0.097049</td>\n",
       "      <td>False</td>\n",
       "      <td>bagel</td>\n",
       "      <td>0.085851</td>\n",
       "      <td>False</td>\n",
       "      <td>banana</td>\n",
       "      <td>0.076110</td>\n",
       "      <td>False</td>\n",
       "    </tr>\n",
       "  </tbody>\n",
       "</table>\n",
       "<p>2075 rows × 12 columns</p>\n",
       "</div>"
      ],
      "text/plain": [
       "                tweet_id                                          jpg_url  \\\n",
       "0     666020888022790149  https://pbs.twimg.com/media/CT4udn0WwAA0aMy.jpg   \n",
       "1     666029285002620928  https://pbs.twimg.com/media/CT42GRgUYAA5iDo.jpg   \n",
       "2     666033412701032449  https://pbs.twimg.com/media/CT4521TWwAEvMyu.jpg   \n",
       "3     666044226329800704  https://pbs.twimg.com/media/CT5Dr8HUEAA-lEu.jpg   \n",
       "4     666049248165822465  https://pbs.twimg.com/media/CT5IQmsXIAAKY4A.jpg   \n",
       "...                  ...                                              ...   \n",
       "2070  891327558926688256  https://pbs.twimg.com/media/DF6hr6BUMAAzZgT.jpg   \n",
       "2071  891689557279858688  https://pbs.twimg.com/media/DF_q7IAWsAEuuN8.jpg   \n",
       "2072  891815181378084864  https://pbs.twimg.com/media/DGBdLU1WsAANxJ9.jpg   \n",
       "2073  892177421306343426  https://pbs.twimg.com/media/DGGmoV4XsAAUL6n.jpg   \n",
       "2074  892420643555336193  https://pbs.twimg.com/media/DGKD1-bXoAAIAUK.jpg   \n",
       "\n",
       "      img_num                      p1   p1_conf  p1_dog                  p2  \\\n",
       "0           1  Welsh_springer_spaniel  0.465074    True              collie   \n",
       "1           1                 redbone  0.506826    True  miniature_pinscher   \n",
       "2           1         German_shepherd  0.596461    True            malinois   \n",
       "3           1     Rhodesian_ridgeback  0.408143    True             redbone   \n",
       "4           1      miniature_pinscher  0.560311    True          Rottweiler   \n",
       "...       ...                     ...       ...     ...                 ...   \n",
       "2070        2                  basset  0.555712    True    English_springer   \n",
       "2071        1             paper_towel  0.170278   False  Labrador_retriever   \n",
       "2072        1               Chihuahua  0.716012    True            malamute   \n",
       "2073        1               Chihuahua  0.323581    True            Pekinese   \n",
       "2074        1                  orange  0.097049   False               bagel   \n",
       "\n",
       "       p2_conf  p2_dog                           p3   p3_conf  p3_dog  \n",
       "0     0.156665    True            Shetland_sheepdog  0.061428    True  \n",
       "1     0.074192    True          Rhodesian_ridgeback  0.072010    True  \n",
       "2     0.138584    True                   bloodhound  0.116197    True  \n",
       "3     0.360687    True           miniature_pinscher  0.222752    True  \n",
       "4     0.243682    True                     Doberman  0.154629    True  \n",
       "...        ...     ...                          ...       ...     ...  \n",
       "2070  0.225770    True  German_short-haired_pointer  0.175219    True  \n",
       "2071  0.168086    True                      spatula  0.040836   False  \n",
       "2072  0.078253    True                       kelpie  0.031379    True  \n",
       "2073  0.090647    True                     papillon  0.068957    True  \n",
       "2074  0.085851   False                       banana  0.076110   False  \n",
       "\n",
       "[2075 rows x 12 columns]"
      ]
     },
     "execution_count": 34,
     "metadata": {},
     "output_type": "execute_result"
    }
   ],
   "source": [
    "image_pred"
   ]
  },
  {
   "cell_type": "markdown",
   "id": "ca41462b",
   "metadata": {},
   "source": [
    "#### Programmatic Assessment"
   ]
  },
  {
   "cell_type": "code",
   "execution_count": 35,
   "id": "c0d0f141",
   "metadata": {},
   "outputs": [
    {
     "data": {
      "text/html": [
       "<div>\n",
       "<style scoped>\n",
       "    .dataframe tbody tr th:only-of-type {\n",
       "        vertical-align: middle;\n",
       "    }\n",
       "\n",
       "    .dataframe tbody tr th {\n",
       "        vertical-align: top;\n",
       "    }\n",
       "\n",
       "    .dataframe thead th {\n",
       "        text-align: right;\n",
       "    }\n",
       "</style>\n",
       "<table border=\"1\" class=\"dataframe\">\n",
       "  <thead>\n",
       "    <tr style=\"text-align: right;\">\n",
       "      <th></th>\n",
       "      <th>tweet_id</th>\n",
       "      <th>jpg_url</th>\n",
       "      <th>img_num</th>\n",
       "      <th>p1</th>\n",
       "      <th>p1_conf</th>\n",
       "      <th>p1_dog</th>\n",
       "      <th>p2</th>\n",
       "      <th>p2_conf</th>\n",
       "      <th>p2_dog</th>\n",
       "      <th>p3</th>\n",
       "      <th>p3_conf</th>\n",
       "      <th>p3_dog</th>\n",
       "    </tr>\n",
       "  </thead>\n",
       "  <tbody>\n",
       "    <tr>\n",
       "      <th>0</th>\n",
       "      <td>666020888022790149</td>\n",
       "      <td>https://pbs.twimg.com/media/CT4udn0WwAA0aMy.jpg</td>\n",
       "      <td>1</td>\n",
       "      <td>Welsh_springer_spaniel</td>\n",
       "      <td>0.465074</td>\n",
       "      <td>True</td>\n",
       "      <td>collie</td>\n",
       "      <td>0.156665</td>\n",
       "      <td>True</td>\n",
       "      <td>Shetland_sheepdog</td>\n",
       "      <td>0.061428</td>\n",
       "      <td>True</td>\n",
       "    </tr>\n",
       "    <tr>\n",
       "      <th>1</th>\n",
       "      <td>666029285002620928</td>\n",
       "      <td>https://pbs.twimg.com/media/CT42GRgUYAA5iDo.jpg</td>\n",
       "      <td>1</td>\n",
       "      <td>redbone</td>\n",
       "      <td>0.506826</td>\n",
       "      <td>True</td>\n",
       "      <td>miniature_pinscher</td>\n",
       "      <td>0.074192</td>\n",
       "      <td>True</td>\n",
       "      <td>Rhodesian_ridgeback</td>\n",
       "      <td>0.072010</td>\n",
       "      <td>True</td>\n",
       "    </tr>\n",
       "    <tr>\n",
       "      <th>2</th>\n",
       "      <td>666033412701032449</td>\n",
       "      <td>https://pbs.twimg.com/media/CT4521TWwAEvMyu.jpg</td>\n",
       "      <td>1</td>\n",
       "      <td>German_shepherd</td>\n",
       "      <td>0.596461</td>\n",
       "      <td>True</td>\n",
       "      <td>malinois</td>\n",
       "      <td>0.138584</td>\n",
       "      <td>True</td>\n",
       "      <td>bloodhound</td>\n",
       "      <td>0.116197</td>\n",
       "      <td>True</td>\n",
       "    </tr>\n",
       "    <tr>\n",
       "      <th>3</th>\n",
       "      <td>666044226329800704</td>\n",
       "      <td>https://pbs.twimg.com/media/CT5Dr8HUEAA-lEu.jpg</td>\n",
       "      <td>1</td>\n",
       "      <td>Rhodesian_ridgeback</td>\n",
       "      <td>0.408143</td>\n",
       "      <td>True</td>\n",
       "      <td>redbone</td>\n",
       "      <td>0.360687</td>\n",
       "      <td>True</td>\n",
       "      <td>miniature_pinscher</td>\n",
       "      <td>0.222752</td>\n",
       "      <td>True</td>\n",
       "    </tr>\n",
       "    <tr>\n",
       "      <th>4</th>\n",
       "      <td>666049248165822465</td>\n",
       "      <td>https://pbs.twimg.com/media/CT5IQmsXIAAKY4A.jpg</td>\n",
       "      <td>1</td>\n",
       "      <td>miniature_pinscher</td>\n",
       "      <td>0.560311</td>\n",
       "      <td>True</td>\n",
       "      <td>Rottweiler</td>\n",
       "      <td>0.243682</td>\n",
       "      <td>True</td>\n",
       "      <td>Doberman</td>\n",
       "      <td>0.154629</td>\n",
       "      <td>True</td>\n",
       "    </tr>\n",
       "  </tbody>\n",
       "</table>\n",
       "</div>"
      ],
      "text/plain": [
       "             tweet_id                                          jpg_url  \\\n",
       "0  666020888022790149  https://pbs.twimg.com/media/CT4udn0WwAA0aMy.jpg   \n",
       "1  666029285002620928  https://pbs.twimg.com/media/CT42GRgUYAA5iDo.jpg   \n",
       "2  666033412701032449  https://pbs.twimg.com/media/CT4521TWwAEvMyu.jpg   \n",
       "3  666044226329800704  https://pbs.twimg.com/media/CT5Dr8HUEAA-lEu.jpg   \n",
       "4  666049248165822465  https://pbs.twimg.com/media/CT5IQmsXIAAKY4A.jpg   \n",
       "\n",
       "   img_num                      p1   p1_conf  p1_dog                  p2  \\\n",
       "0        1  Welsh_springer_spaniel  0.465074    True              collie   \n",
       "1        1                 redbone  0.506826    True  miniature_pinscher   \n",
       "2        1         German_shepherd  0.596461    True            malinois   \n",
       "3        1     Rhodesian_ridgeback  0.408143    True             redbone   \n",
       "4        1      miniature_pinscher  0.560311    True          Rottweiler   \n",
       "\n",
       "    p2_conf  p2_dog                   p3   p3_conf  p3_dog  \n",
       "0  0.156665    True    Shetland_sheepdog  0.061428    True  \n",
       "1  0.074192    True  Rhodesian_ridgeback  0.072010    True  \n",
       "2  0.138584    True           bloodhound  0.116197    True  \n",
       "3  0.360687    True   miniature_pinscher  0.222752    True  \n",
       "4  0.243682    True             Doberman  0.154629    True  "
      ]
     },
     "execution_count": 35,
     "metadata": {},
     "output_type": "execute_result"
    }
   ],
   "source": [
    "# View first 5 rows\n",
    "image_pred.head()"
   ]
  },
  {
   "cell_type": "code",
   "execution_count": 36,
   "id": "d7e88172",
   "metadata": {},
   "outputs": [
    {
     "name": "stdout",
     "output_type": "stream",
     "text": [
      "<class 'pandas.core.frame.DataFrame'>\n",
      "RangeIndex: 2075 entries, 0 to 2074\n",
      "Data columns (total 12 columns):\n",
      " #   Column    Non-Null Count  Dtype  \n",
      "---  ------    --------------  -----  \n",
      " 0   tweet_id  2075 non-null   int64  \n",
      " 1   jpg_url   2075 non-null   object \n",
      " 2   img_num   2075 non-null   int64  \n",
      " 3   p1        2075 non-null   object \n",
      " 4   p1_conf   2075 non-null   float64\n",
      " 5   p1_dog    2075 non-null   bool   \n",
      " 6   p2        2075 non-null   object \n",
      " 7   p2_conf   2075 non-null   float64\n",
      " 8   p2_dog    2075 non-null   bool   \n",
      " 9   p3        2075 non-null   object \n",
      " 10  p3_conf   2075 non-null   float64\n",
      " 11  p3_dog    2075 non-null   bool   \n",
      "dtypes: bool(3), float64(3), int64(2), object(4)\n",
      "memory usage: 152.1+ KB\n"
     ]
    }
   ],
   "source": [
    "# View info\n",
    "image_pred.info()"
   ]
  },
  {
   "cell_type": "code",
   "execution_count": 37,
   "id": "a37a767d",
   "metadata": {},
   "outputs": [
    {
     "data": {
      "text/html": [
       "<div>\n",
       "<style scoped>\n",
       "    .dataframe tbody tr th:only-of-type {\n",
       "        vertical-align: middle;\n",
       "    }\n",
       "\n",
       "    .dataframe tbody tr th {\n",
       "        vertical-align: top;\n",
       "    }\n",
       "\n",
       "    .dataframe thead th {\n",
       "        text-align: right;\n",
       "    }\n",
       "</style>\n",
       "<table border=\"1\" class=\"dataframe\">\n",
       "  <thead>\n",
       "    <tr style=\"text-align: right;\">\n",
       "      <th></th>\n",
       "      <th>tweet_id</th>\n",
       "      <th>img_num</th>\n",
       "      <th>p1_conf</th>\n",
       "      <th>p2_conf</th>\n",
       "      <th>p3_conf</th>\n",
       "    </tr>\n",
       "  </thead>\n",
       "  <tbody>\n",
       "    <tr>\n",
       "      <th>count</th>\n",
       "      <td>2.075000e+03</td>\n",
       "      <td>2075.000000</td>\n",
       "      <td>2075.000000</td>\n",
       "      <td>2.075000e+03</td>\n",
       "      <td>2.075000e+03</td>\n",
       "    </tr>\n",
       "    <tr>\n",
       "      <th>mean</th>\n",
       "      <td>7.384514e+17</td>\n",
       "      <td>1.203855</td>\n",
       "      <td>0.594548</td>\n",
       "      <td>1.345886e-01</td>\n",
       "      <td>6.032417e-02</td>\n",
       "    </tr>\n",
       "    <tr>\n",
       "      <th>std</th>\n",
       "      <td>6.785203e+16</td>\n",
       "      <td>0.561875</td>\n",
       "      <td>0.271174</td>\n",
       "      <td>1.006657e-01</td>\n",
       "      <td>5.090593e-02</td>\n",
       "    </tr>\n",
       "    <tr>\n",
       "      <th>min</th>\n",
       "      <td>6.660209e+17</td>\n",
       "      <td>1.000000</td>\n",
       "      <td>0.044333</td>\n",
       "      <td>1.011300e-08</td>\n",
       "      <td>1.740170e-10</td>\n",
       "    </tr>\n",
       "    <tr>\n",
       "      <th>25%</th>\n",
       "      <td>6.764835e+17</td>\n",
       "      <td>1.000000</td>\n",
       "      <td>0.364412</td>\n",
       "      <td>5.388625e-02</td>\n",
       "      <td>1.622240e-02</td>\n",
       "    </tr>\n",
       "    <tr>\n",
       "      <th>50%</th>\n",
       "      <td>7.119988e+17</td>\n",
       "      <td>1.000000</td>\n",
       "      <td>0.588230</td>\n",
       "      <td>1.181810e-01</td>\n",
       "      <td>4.944380e-02</td>\n",
       "    </tr>\n",
       "    <tr>\n",
       "      <th>75%</th>\n",
       "      <td>7.932034e+17</td>\n",
       "      <td>1.000000</td>\n",
       "      <td>0.843855</td>\n",
       "      <td>1.955655e-01</td>\n",
       "      <td>9.180755e-02</td>\n",
       "    </tr>\n",
       "    <tr>\n",
       "      <th>max</th>\n",
       "      <td>8.924206e+17</td>\n",
       "      <td>4.000000</td>\n",
       "      <td>1.000000</td>\n",
       "      <td>4.880140e-01</td>\n",
       "      <td>2.734190e-01</td>\n",
       "    </tr>\n",
       "  </tbody>\n",
       "</table>\n",
       "</div>"
      ],
      "text/plain": [
       "           tweet_id      img_num      p1_conf       p2_conf       p3_conf\n",
       "count  2.075000e+03  2075.000000  2075.000000  2.075000e+03  2.075000e+03\n",
       "mean   7.384514e+17     1.203855     0.594548  1.345886e-01  6.032417e-02\n",
       "std    6.785203e+16     0.561875     0.271174  1.006657e-01  5.090593e-02\n",
       "min    6.660209e+17     1.000000     0.044333  1.011300e-08  1.740170e-10\n",
       "25%    6.764835e+17     1.000000     0.364412  5.388625e-02  1.622240e-02\n",
       "50%    7.119988e+17     1.000000     0.588230  1.181810e-01  4.944380e-02\n",
       "75%    7.932034e+17     1.000000     0.843855  1.955655e-01  9.180755e-02\n",
       "max    8.924206e+17     4.000000     1.000000  4.880140e-01  2.734190e-01"
      ]
     },
     "execution_count": 37,
     "metadata": {},
     "output_type": "execute_result"
    }
   ],
   "source": [
    "# View data statistics\n",
    "image_pred.describe()"
   ]
  },
  {
   "cell_type": "code",
   "execution_count": 38,
   "id": "43b8293f",
   "metadata": {},
   "outputs": [
    {
     "data": {
      "text/plain": [
       "0"
      ]
     },
     "execution_count": 38,
     "metadata": {},
     "output_type": "execute_result"
    }
   ],
   "source": [
    "# Check entire dataframe for duplicates\n",
    "image_pred.duplicated().sum()"
   ]
  },
  {
   "cell_type": "code",
   "execution_count": 39,
   "id": "7fd3756a",
   "metadata": {},
   "outputs": [
    {
     "name": "stdout",
     "output_type": "stream",
     "text": [
      "tweet_id : 0\n",
      "jpg_url : 66\n",
      "img_num : 2071\n",
      "p1 : 1697\n",
      "p1_conf : 69\n",
      "p1_dog : 2073\n",
      "p2 : 1670\n",
      "p2_conf : 71\n",
      "p2_dog : 2073\n",
      "p3 : 1667\n",
      "p3_conf : 69\n",
      "p3_dog : 2073\n"
     ]
    }
   ],
   "source": [
    "# Check for duplicates in columns using pre-defined function\n",
    "find_duplicates(image_pred)"
   ]
  },
  {
   "cell_type": "markdown",
   "id": "bbd50efb",
   "metadata": {},
   "source": [
    "### Assess Tweet JSON Data"
   ]
  },
  {
   "cell_type": "markdown",
   "id": "09b9256b",
   "metadata": {},
   "source": [
    "#### Visual Assessment"
   ]
  },
  {
   "cell_type": "code",
   "execution_count": 40,
   "id": "24be4f80",
   "metadata": {},
   "outputs": [
    {
     "data": {
      "text/html": [
       "<div>\n",
       "<style scoped>\n",
       "    .dataframe tbody tr th:only-of-type {\n",
       "        vertical-align: middle;\n",
       "    }\n",
       "\n",
       "    .dataframe tbody tr th {\n",
       "        vertical-align: top;\n",
       "    }\n",
       "\n",
       "    .dataframe thead th {\n",
       "        text-align: right;\n",
       "    }\n",
       "</style>\n",
       "<table border=\"1\" class=\"dataframe\">\n",
       "  <thead>\n",
       "    <tr style=\"text-align: right;\">\n",
       "      <th></th>\n",
       "      <th>tweet_id</th>\n",
       "      <th>retweet_count</th>\n",
       "      <th>favorite_count</th>\n",
       "      <th>retweeted</th>\n",
       "    </tr>\n",
       "  </thead>\n",
       "  <tbody>\n",
       "    <tr>\n",
       "      <th>0</th>\n",
       "      <td>892420643555336193</td>\n",
       "      <td>8853</td>\n",
       "      <td>39467</td>\n",
       "      <td>False</td>\n",
       "    </tr>\n",
       "    <tr>\n",
       "      <th>1</th>\n",
       "      <td>892177421306343426</td>\n",
       "      <td>6514</td>\n",
       "      <td>33819</td>\n",
       "      <td>False</td>\n",
       "    </tr>\n",
       "    <tr>\n",
       "      <th>2</th>\n",
       "      <td>891815181378084864</td>\n",
       "      <td>4328</td>\n",
       "      <td>25461</td>\n",
       "      <td>False</td>\n",
       "    </tr>\n",
       "    <tr>\n",
       "      <th>3</th>\n",
       "      <td>891689557279858688</td>\n",
       "      <td>8964</td>\n",
       "      <td>42908</td>\n",
       "      <td>False</td>\n",
       "    </tr>\n",
       "    <tr>\n",
       "      <th>4</th>\n",
       "      <td>891327558926688256</td>\n",
       "      <td>9774</td>\n",
       "      <td>41048</td>\n",
       "      <td>False</td>\n",
       "    </tr>\n",
       "    <tr>\n",
       "      <th>...</th>\n",
       "      <td>...</td>\n",
       "      <td>...</td>\n",
       "      <td>...</td>\n",
       "      <td>...</td>\n",
       "    </tr>\n",
       "    <tr>\n",
       "      <th>2349</th>\n",
       "      <td>666049248165822465</td>\n",
       "      <td>41</td>\n",
       "      <td>111</td>\n",
       "      <td>False</td>\n",
       "    </tr>\n",
       "    <tr>\n",
       "      <th>2350</th>\n",
       "      <td>666044226329800704</td>\n",
       "      <td>147</td>\n",
       "      <td>311</td>\n",
       "      <td>False</td>\n",
       "    </tr>\n",
       "    <tr>\n",
       "      <th>2351</th>\n",
       "      <td>666033412701032449</td>\n",
       "      <td>47</td>\n",
       "      <td>128</td>\n",
       "      <td>False</td>\n",
       "    </tr>\n",
       "    <tr>\n",
       "      <th>2352</th>\n",
       "      <td>666029285002620928</td>\n",
       "      <td>48</td>\n",
       "      <td>132</td>\n",
       "      <td>False</td>\n",
       "    </tr>\n",
       "    <tr>\n",
       "      <th>2353</th>\n",
       "      <td>666020888022790149</td>\n",
       "      <td>532</td>\n",
       "      <td>2535</td>\n",
       "      <td>False</td>\n",
       "    </tr>\n",
       "  </tbody>\n",
       "</table>\n",
       "<p>2354 rows × 4 columns</p>\n",
       "</div>"
      ],
      "text/plain": [
       "                tweet_id  retweet_count  favorite_count  retweeted\n",
       "0     892420643555336193           8853           39467      False\n",
       "1     892177421306343426           6514           33819      False\n",
       "2     891815181378084864           4328           25461      False\n",
       "3     891689557279858688           8964           42908      False\n",
       "4     891327558926688256           9774           41048      False\n",
       "...                  ...            ...             ...        ...\n",
       "2349  666049248165822465             41             111      False\n",
       "2350  666044226329800704            147             311      False\n",
       "2351  666033412701032449             47             128      False\n",
       "2352  666029285002620928             48             132      False\n",
       "2353  666020888022790149            532            2535      False\n",
       "\n",
       "[2354 rows x 4 columns]"
      ]
     },
     "execution_count": 40,
     "metadata": {},
     "output_type": "execute_result"
    }
   ],
   "source": [
    "tweet_data"
   ]
  },
  {
   "cell_type": "markdown",
   "id": "2069106b",
   "metadata": {},
   "source": [
    "#### Programmatic Assessment"
   ]
  },
  {
   "cell_type": "code",
   "execution_count": 41,
   "id": "cd8a120f",
   "metadata": {},
   "outputs": [
    {
     "data": {
      "text/html": [
       "<div>\n",
       "<style scoped>\n",
       "    .dataframe tbody tr th:only-of-type {\n",
       "        vertical-align: middle;\n",
       "    }\n",
       "\n",
       "    .dataframe tbody tr th {\n",
       "        vertical-align: top;\n",
       "    }\n",
       "\n",
       "    .dataframe thead th {\n",
       "        text-align: right;\n",
       "    }\n",
       "</style>\n",
       "<table border=\"1\" class=\"dataframe\">\n",
       "  <thead>\n",
       "    <tr style=\"text-align: right;\">\n",
       "      <th></th>\n",
       "      <th>tweet_id</th>\n",
       "      <th>retweet_count</th>\n",
       "      <th>favorite_count</th>\n",
       "      <th>retweeted</th>\n",
       "    </tr>\n",
       "  </thead>\n",
       "  <tbody>\n",
       "    <tr>\n",
       "      <th>0</th>\n",
       "      <td>892420643555336193</td>\n",
       "      <td>8853</td>\n",
       "      <td>39467</td>\n",
       "      <td>False</td>\n",
       "    </tr>\n",
       "    <tr>\n",
       "      <th>1</th>\n",
       "      <td>892177421306343426</td>\n",
       "      <td>6514</td>\n",
       "      <td>33819</td>\n",
       "      <td>False</td>\n",
       "    </tr>\n",
       "    <tr>\n",
       "      <th>2</th>\n",
       "      <td>891815181378084864</td>\n",
       "      <td>4328</td>\n",
       "      <td>25461</td>\n",
       "      <td>False</td>\n",
       "    </tr>\n",
       "    <tr>\n",
       "      <th>3</th>\n",
       "      <td>891689557279858688</td>\n",
       "      <td>8964</td>\n",
       "      <td>42908</td>\n",
       "      <td>False</td>\n",
       "    </tr>\n",
       "    <tr>\n",
       "      <th>4</th>\n",
       "      <td>891327558926688256</td>\n",
       "      <td>9774</td>\n",
       "      <td>41048</td>\n",
       "      <td>False</td>\n",
       "    </tr>\n",
       "  </tbody>\n",
       "</table>\n",
       "</div>"
      ],
      "text/plain": [
       "             tweet_id  retweet_count  favorite_count  retweeted\n",
       "0  892420643555336193           8853           39467      False\n",
       "1  892177421306343426           6514           33819      False\n",
       "2  891815181378084864           4328           25461      False\n",
       "3  891689557279858688           8964           42908      False\n",
       "4  891327558926688256           9774           41048      False"
      ]
     },
     "execution_count": 41,
     "metadata": {},
     "output_type": "execute_result"
    }
   ],
   "source": [
    "# View first 5 rows\n",
    "tweet_data.head()"
   ]
  },
  {
   "cell_type": "code",
   "execution_count": 42,
   "id": "28d40294",
   "metadata": {},
   "outputs": [
    {
     "name": "stdout",
     "output_type": "stream",
     "text": [
      "<class 'pandas.core.frame.DataFrame'>\n",
      "RangeIndex: 2354 entries, 0 to 2353\n",
      "Data columns (total 4 columns):\n",
      " #   Column          Non-Null Count  Dtype\n",
      "---  ------          --------------  -----\n",
      " 0   tweet_id        2354 non-null   int64\n",
      " 1   retweet_count   2354 non-null   int64\n",
      " 2   favorite_count  2354 non-null   int64\n",
      " 3   retweeted       2354 non-null   bool \n",
      "dtypes: bool(1), int64(3)\n",
      "memory usage: 57.6 KB\n"
     ]
    }
   ],
   "source": [
    "# View info\n",
    "tweet_data.info()"
   ]
  },
  {
   "cell_type": "code",
   "execution_count": 43,
   "id": "8a9fafcf",
   "metadata": {},
   "outputs": [
    {
     "data": {
      "text/html": [
       "<div>\n",
       "<style scoped>\n",
       "    .dataframe tbody tr th:only-of-type {\n",
       "        vertical-align: middle;\n",
       "    }\n",
       "\n",
       "    .dataframe tbody tr th {\n",
       "        vertical-align: top;\n",
       "    }\n",
       "\n",
       "    .dataframe thead th {\n",
       "        text-align: right;\n",
       "    }\n",
       "</style>\n",
       "<table border=\"1\" class=\"dataframe\">\n",
       "  <thead>\n",
       "    <tr style=\"text-align: right;\">\n",
       "      <th></th>\n",
       "      <th>tweet_id</th>\n",
       "      <th>retweet_count</th>\n",
       "      <th>favorite_count</th>\n",
       "    </tr>\n",
       "  </thead>\n",
       "  <tbody>\n",
       "    <tr>\n",
       "      <th>count</th>\n",
       "      <td>2.354000e+03</td>\n",
       "      <td>2354.000000</td>\n",
       "      <td>2354.000000</td>\n",
       "    </tr>\n",
       "    <tr>\n",
       "      <th>mean</th>\n",
       "      <td>7.426978e+17</td>\n",
       "      <td>3164.797366</td>\n",
       "      <td>8080.968564</td>\n",
       "    </tr>\n",
       "    <tr>\n",
       "      <th>std</th>\n",
       "      <td>6.852812e+16</td>\n",
       "      <td>5284.770364</td>\n",
       "      <td>11814.771334</td>\n",
       "    </tr>\n",
       "    <tr>\n",
       "      <th>min</th>\n",
       "      <td>6.660209e+17</td>\n",
       "      <td>0.000000</td>\n",
       "      <td>0.000000</td>\n",
       "    </tr>\n",
       "    <tr>\n",
       "      <th>25%</th>\n",
       "      <td>6.783975e+17</td>\n",
       "      <td>624.500000</td>\n",
       "      <td>1415.000000</td>\n",
       "    </tr>\n",
       "    <tr>\n",
       "      <th>50%</th>\n",
       "      <td>7.194596e+17</td>\n",
       "      <td>1473.500000</td>\n",
       "      <td>3603.500000</td>\n",
       "    </tr>\n",
       "    <tr>\n",
       "      <th>75%</th>\n",
       "      <td>7.993058e+17</td>\n",
       "      <td>3652.000000</td>\n",
       "      <td>10122.250000</td>\n",
       "    </tr>\n",
       "    <tr>\n",
       "      <th>max</th>\n",
       "      <td>8.924206e+17</td>\n",
       "      <td>79515.000000</td>\n",
       "      <td>132810.000000</td>\n",
       "    </tr>\n",
       "  </tbody>\n",
       "</table>\n",
       "</div>"
      ],
      "text/plain": [
       "           tweet_id  retweet_count  favorite_count\n",
       "count  2.354000e+03    2354.000000     2354.000000\n",
       "mean   7.426978e+17    3164.797366     8080.968564\n",
       "std    6.852812e+16    5284.770364    11814.771334\n",
       "min    6.660209e+17       0.000000        0.000000\n",
       "25%    6.783975e+17     624.500000     1415.000000\n",
       "50%    7.194596e+17    1473.500000     3603.500000\n",
       "75%    7.993058e+17    3652.000000    10122.250000\n",
       "max    8.924206e+17   79515.000000   132810.000000"
      ]
     },
     "execution_count": 43,
     "metadata": {},
     "output_type": "execute_result"
    }
   ],
   "source": [
    "# View data statistics\n",
    "tweet_data.describe()"
   ]
  },
  {
   "cell_type": "code",
   "execution_count": 44,
   "id": "384539d8",
   "metadata": {},
   "outputs": [
    {
     "data": {
      "text/plain": [
       "0"
      ]
     },
     "execution_count": 44,
     "metadata": {},
     "output_type": "execute_result"
    }
   ],
   "source": [
    "# Check entire dataframe for duplicates\n",
    "tweet_data.duplicated().sum()"
   ]
  },
  {
   "cell_type": "code",
   "execution_count": 45,
   "id": "e997fb14",
   "metadata": {},
   "outputs": [
    {
     "name": "stdout",
     "output_type": "stream",
     "text": [
      "tweet_id : 0\n",
      "retweet_count : 630\n",
      "favorite_count : 347\n",
      "retweeted : 2353\n"
     ]
    }
   ],
   "source": [
    "# Check for duplicates in columns using pre-defined function\n",
    "find_duplicates(tweet_data)"
   ]
  },
  {
   "cell_type": "markdown",
   "id": "1ca5c343",
   "metadata": {},
   "source": [
    "### Findings\n",
    "\n",
    "#### Quality\n",
    "###### twitter_arch\n",
    "- Wrong datatype on tweet_id column; Wrong datatype on timestamp column\n",
    "- Entries with retweet_status_id contain retweeted tweets \n",
    "- There are rating_denominator entries that are not 10\n",
    "- Incorrect numerator values\n",
    "- Some dog names are unusual; possibly picked the wrong section of the tweet\n",
    "- Missing data in in_reply_to_status_id, in_reply_to_user_id, retweeted_status_id, retweeted_status_user_id, retweeted_status_timestamp\n",
    "- Columns with unnecessary data\n",
    "\n",
    "###### image_pred\n",
    "- Wrong datatype on tweet_id\n",
    "- Inconsistent capitalization in breed names\n",
    "\n",
    "###### tweet_data\n",
    "- Wrong datatype on tweet_id, favorite_count and retweet_count columns\n",
    "\n",
    "\n",
    "#### Tidiness\n",
    "###### twitter_arch\n",
    "- Dog stages can be combined into 1 column\n",
    "- Month and year data can be derived from timesstamp column for visualization\n",
    "- Source column content can be better represented to identify source of ratings and source URL\n",
    "\n",
    "###### image_pred\n",
    "- The confidence interval columns present as pivoted data, dataframe can be condensed to better represent this information\n",
    "\n",
    "###### general tidiness\n",
    "- The 3 datasets can be merged on tweet_id to form 1 dataset"
   ]
  },
  {
   "cell_type": "markdown",
   "id": "023bd0a9",
   "metadata": {},
   "source": [
    "<a id='cleaning'></a>\n",
    "## Cleaning Data"
   ]
  },
  {
   "cell_type": "markdown",
   "id": "b7b7f89f",
   "metadata": {},
   "source": [
    "### Cleaning Data Quality Issues\n",
    "#### twitter_arch\n",
    "\n",
    "- ##### *Wrong datatype on tweet_id and timestamp columns*"
   ]
  },
  {
   "cell_type": "markdown",
   "id": "0aa01bde",
   "metadata": {},
   "source": [
    "#### Define\n",
    "\n",
    "Change datatype of tweet_id to string using astype function\n",
    "\n",
    "Change datatype of timestamp to datetime"
   ]
  },
  {
   "cell_type": "markdown",
   "id": "03e1a86e",
   "metadata": {},
   "source": [
    "#### Code"
   ]
  },
  {
   "cell_type": "code",
   "execution_count": 46,
   "id": "299cde76",
   "metadata": {},
   "outputs": [],
   "source": [
    "# Make a copy of the dataframe\n",
    "twitter_arch_clean = twitter_arch.copy()"
   ]
  },
  {
   "cell_type": "code",
   "execution_count": 47,
   "id": "d9f24463",
   "metadata": {},
   "outputs": [],
   "source": [
    "# Change tweet_id column type to string\n",
    "twitter_arch_clean.tweet_id = twitter_arch_clean.tweet_id.astype(str)\n",
    "# Change timestamp datatype to datetime\n",
    "twitter_arch_clean.timestamp = pd.to_datetime(twitter_arch_clean.timestamp)"
   ]
  },
  {
   "cell_type": "markdown",
   "id": "df2515f9",
   "metadata": {},
   "source": [
    "#### Test"
   ]
  },
  {
   "cell_type": "code",
   "execution_count": 48,
   "id": "6e8df84c",
   "metadata": {
    "scrolled": true
   },
   "outputs": [
    {
     "name": "stdout",
     "output_type": "stream",
     "text": [
      "<class 'pandas.core.frame.DataFrame'>\n",
      "RangeIndex: 2356 entries, 0 to 2355\n",
      "Data columns (total 17 columns):\n",
      " #   Column                      Non-Null Count  Dtype              \n",
      "---  ------                      --------------  -----              \n",
      " 0   tweet_id                    2356 non-null   object             \n",
      " 1   in_reply_to_status_id       78 non-null     float64            \n",
      " 2   in_reply_to_user_id         78 non-null     float64            \n",
      " 3   timestamp                   2356 non-null   datetime64[ns, UTC]\n",
      " 4   source                      2356 non-null   object             \n",
      " 5   text                        2356 non-null   object             \n",
      " 6   retweeted_status_id         181 non-null    float64            \n",
      " 7   retweeted_status_user_id    181 non-null    float64            \n",
      " 8   retweeted_status_timestamp  181 non-null    object             \n",
      " 9   expanded_urls               2297 non-null   object             \n",
      " 10  rating_numerator            2356 non-null   int64              \n",
      " 11  rating_denominator          2356 non-null   int64              \n",
      " 12  name                        2356 non-null   object             \n",
      " 13  doggo                       2356 non-null   object             \n",
      " 14  floofer                     2356 non-null   object             \n",
      " 15  pupper                      2356 non-null   object             \n",
      " 16  puppo                       2356 non-null   object             \n",
      "dtypes: datetime64[ns, UTC](1), float64(4), int64(2), object(10)\n",
      "memory usage: 313.0+ KB\n"
     ]
    }
   ],
   "source": [
    "twitter_arch_clean.info()"
   ]
  },
  {
   "cell_type": "markdown",
   "id": "b0f8e70c",
   "metadata": {},
   "source": [
    "- ##### *Entries with retweet_status_id contain retweeted tweets*"
   ]
  },
  {
   "cell_type": "markdown",
   "id": "8a21620d",
   "metadata": {},
   "source": [
    "#### Define\n",
    "Get rid of rewtweeted data points by getting the snippet of data where retweeted_status_id is null"
   ]
  },
  {
   "cell_type": "markdown",
   "id": "7a4a5f6b",
   "metadata": {},
   "source": [
    "#### Code"
   ]
  },
  {
   "cell_type": "code",
   "execution_count": 49,
   "id": "10ae8842",
   "metadata": {},
   "outputs": [],
   "source": [
    "twitter_arch_clean = twitter_arch_clean[twitter_arch_clean['retweeted_status_user_id'].isna()]"
   ]
  },
  {
   "cell_type": "markdown",
   "id": "02d74e9d",
   "metadata": {},
   "source": [
    "#### Test"
   ]
  },
  {
   "cell_type": "code",
   "execution_count": 50,
   "id": "c81df9ce",
   "metadata": {},
   "outputs": [
    {
     "name": "stdout",
     "output_type": "stream",
     "text": [
      "<class 'pandas.core.frame.DataFrame'>\n",
      "Int64Index: 2175 entries, 0 to 2355\n",
      "Data columns (total 17 columns):\n",
      " #   Column                      Non-Null Count  Dtype              \n",
      "---  ------                      --------------  -----              \n",
      " 0   tweet_id                    2175 non-null   object             \n",
      " 1   in_reply_to_status_id       78 non-null     float64            \n",
      " 2   in_reply_to_user_id         78 non-null     float64            \n",
      " 3   timestamp                   2175 non-null   datetime64[ns, UTC]\n",
      " 4   source                      2175 non-null   object             \n",
      " 5   text                        2175 non-null   object             \n",
      " 6   retweeted_status_id         0 non-null      float64            \n",
      " 7   retweeted_status_user_id    0 non-null      float64            \n",
      " 8   retweeted_status_timestamp  0 non-null      object             \n",
      " 9   expanded_urls               2117 non-null   object             \n",
      " 10  rating_numerator            2175 non-null   int64              \n",
      " 11  rating_denominator          2175 non-null   int64              \n",
      " 12  name                        2175 non-null   object             \n",
      " 13  doggo                       2175 non-null   object             \n",
      " 14  floofer                     2175 non-null   object             \n",
      " 15  pupper                      2175 non-null   object             \n",
      " 16  puppo                       2175 non-null   object             \n",
      "dtypes: datetime64[ns, UTC](1), float64(4), int64(2), object(10)\n",
      "memory usage: 305.9+ KB\n"
     ]
    }
   ],
   "source": [
    "twitter_arch_clean.info()"
   ]
  },
  {
   "cell_type": "markdown",
   "id": "4d561c8b",
   "metadata": {},
   "source": [
    "- #### *Incorrect numerator values*"
   ]
  },
  {
   "cell_type": "markdown",
   "id": "b420a63e",
   "metadata": {},
   "source": [
    "#### Define\n",
    "\n",
    "After visual assessment of the twitter_arch_clean from the exported csv file, the entries that are greater than 15 and less than 10 have been evaluated and the correct rating identified from the tweet text. \n",
    "Becasue they aren't too many, these will be directly sssigned based on the tweet id"
   ]
  },
  {
   "cell_type": "markdown",
   "id": "378c5617",
   "metadata": {},
   "source": [
    "#### Code"
   ]
  },
  {
   "cell_type": "code",
   "execution_count": 51,
   "id": "fd65e6c3",
   "metadata": {},
   "outputs": [],
   "source": [
    "# convert datatype to float\n",
    "#twitter_arch_clean.rating_numerator = twitter_arch_clean.rating_numerator.astype(float)\n",
    "\n",
    "\n",
    "#twitter_archive_clean[twitter_archive_clean.text.str.contains(r\"(\\d+\\.\\d*\\/\\d+)\")][['text', 'rating_numerator']]\n",
    "#twitter_archive_clean.text.str.extract('(\\d+(\\.\\d+)?\\/\\d+(\\.\\d+)?)', expand = True)[0]"
   ]
  },
  {
   "cell_type": "code",
   "execution_count": 52,
   "id": "623afdcb",
   "metadata": {},
   "outputs": [],
   "source": [
    "#Building from reviewer recommendation\n",
    "# Use regex to extract ratings from scratch and assign obtained values\n",
    "df = twitter_arch_clean.copy()\n",
    "df['rating'] = df.text.str.extract('(\\d+(\\.\\d+)?\\/\\d+(\\.\\d+)?)', expand = True)[0]\n",
    "df['numerator'] = df['rating'].str.split('/', expand = True)[0]\n",
    "\n",
    "twitter_arch_clean['rating_numerator'] = df['numerator']\n",
    "\n"
   ]
  },
  {
   "cell_type": "code",
   "execution_count": 53,
   "id": "ca0f7eeb",
   "metadata": {},
   "outputs": [],
   "source": [
    "# Individually assign correct rating to select values above 10 that had wrong rating\n",
    "\n",
    "twitter_arch_clean.loc[(twitter_arch_clean.tweet_id == 881633300179243008), 'rating_numerator'] = 13\n",
    "twitter_arch_clean.loc[(twitter_arch_clean.tweet_id == 835246439529840640), 'rating_numerator'] = 13\n",
    "twitter_arch_clean.loc[(twitter_arch_clean.tweet_id == 820690176645140481), 'rating_numerator'] = 12\n",
    "twitter_arch_clean.loc[(twitter_arch_clean.tweet_id == 786709082849828864), 'rating_numerator'] = 10\n",
    "twitter_arch_clean.loc[(twitter_arch_clean.tweet_id == 778027034220126208), 'rating_numerator'] = 11\n",
    "twitter_arch_clean.loc[(twitter_arch_clean.tweet_id == 716439118184652801), 'rating_numerator'] = 10\n",
    "twitter_arch_clean.loc[(twitter_arch_clean.tweet_id == 713900603437621249), 'rating_numerator'] = 11\n",
    "twitter_arch_clean.loc[(twitter_arch_clean.tweet_id == 710658690886586372), 'rating_numerator'] = 10\n",
    "twitter_arch_clean.loc[(twitter_arch_clean.tweet_id == 704054845121142784), 'rating_numerator'] = 12\n",
    "twitter_arch_clean.loc[(twitter_arch_clean.tweet_id == 697463031882764288), 'rating_numerator'] = 11\n",
    "twitter_arch_clean.loc[(twitter_arch_clean.tweet_id == 684225744407494656), 'rating_numerator'] = 13\n",
    "twitter_arch_clean.loc[(twitter_arch_clean.tweet_id == 684222868335505415), 'rating_numerator'] = 11\n",
    "twitter_arch_clean.loc[(twitter_arch_clean.tweet_id == 680494726643068929), 'rating_numerator'] = 11\n",
    "twitter_arch_clean.loc[(twitter_arch_clean.tweet_id == 677716515794329600), 'rating_numerator'] = 12\n",
    "twitter_arch_clean.loc[(twitter_arch_clean.tweet_id == 675853064436391936), 'rating_numerator'] = 11\n",
    "\n",
    "# Change datatype to float\n",
    "twitter_arch_clean.rating_numerator  = twitter_arch_clean.rating_numerator.astype(float)"
   ]
  },
  {
   "cell_type": "markdown",
   "id": "0f72cdd5",
   "metadata": {},
   "source": [
    "#### Test"
   ]
  },
  {
   "cell_type": "code",
   "execution_count": 54,
   "id": "0c2d6282",
   "metadata": {},
   "outputs": [
    {
     "data": {
      "text/plain": [
       "array([1.300e+01, 1.200e+01, 1.400e+01, 1.350e+01, 1.700e+01, 1.100e+01,\n",
       "       1.000e+01, 4.200e+02, 6.660e+02, 6.000e+00, 1.820e+02, 1.500e+01,\n",
       "       9.600e+02, 0.000e+00, 7.000e+00, 8.400e+01, 2.400e+01, 9.750e+00,\n",
       "       5.000e+00, 1.127e+01, 3.000e+00, 8.000e+00, 9.000e+00, 4.000e+00,\n",
       "       1.650e+02, 1.776e+03, 2.040e+02, 5.000e+01, 9.900e+01, 8.000e+01,\n",
       "       4.500e+01, 6.000e+01, 4.400e+01, 1.000e+00, 1.430e+02, 1.210e+02,\n",
       "       2.000e+01, 9.500e+00, 1.126e+01, 2.000e+00, 1.440e+02, 8.800e+01])"
      ]
     },
     "execution_count": 54,
     "metadata": {},
     "output_type": "execute_result"
    }
   ],
   "source": [
    "twitter_arch_clean.rating_numerator.unique()"
   ]
  },
  {
   "cell_type": "markdown",
   "id": "8b6ce0a1",
   "metadata": {},
   "source": [
    "- ##### *There are rating_denominator entries that are not 10*"
   ]
  },
  {
   "cell_type": "markdown",
   "id": "74cd0b23",
   "metadata": {},
   "source": [
    "#### Define\n",
    "Change all entries of the rating_denominator column to 10"
   ]
  },
  {
   "cell_type": "markdown",
   "id": "df33363a",
   "metadata": {},
   "source": [
    "#### Code"
   ]
  },
  {
   "cell_type": "code",
   "execution_count": 55,
   "id": "e61525e2",
   "metadata": {},
   "outputs": [],
   "source": [
    "# Assign all column entries to 10\n",
    "twitter_arch_clean['rating_denominator'] = 10"
   ]
  },
  {
   "cell_type": "markdown",
   "id": "c5e69fd8",
   "metadata": {},
   "source": [
    "#### Test"
   ]
  },
  {
   "cell_type": "code",
   "execution_count": 56,
   "id": "1da5b011",
   "metadata": {},
   "outputs": [
    {
     "data": {
      "text/plain": [
       "10    2175\n",
       "Name: rating_denominator, dtype: int64"
      ]
     },
     "execution_count": 56,
     "metadata": {},
     "output_type": "execute_result"
    }
   ],
   "source": [
    "twitter_arch_clean.rating_denominator.value_counts()"
   ]
  },
  {
   "cell_type": "code",
   "execution_count": 57,
   "id": "aad9d7b4",
   "metadata": {},
   "outputs": [
    {
     "data": {
      "text/plain": [
       "tweet_id                      0\n",
       "in_reply_to_status_id         0\n",
       "in_reply_to_user_id           0\n",
       "timestamp                     0\n",
       "source                        0\n",
       "text                          0\n",
       "retweeted_status_id           0\n",
       "retweeted_status_user_id      0\n",
       "retweeted_status_timestamp    0\n",
       "expanded_urls                 0\n",
       "rating_numerator              0\n",
       "rating_denominator            0\n",
       "name                          0\n",
       "doggo                         0\n",
       "floofer                       0\n",
       "pupper                        0\n",
       "puppo                         0\n",
       "dtype: int64"
      ]
     },
     "execution_count": 57,
     "metadata": {},
     "output_type": "execute_result"
    }
   ],
   "source": [
    "twitter_arch_clean.query('rating_denominator != 10').count()"
   ]
  },
  {
   "cell_type": "markdown",
   "id": "dc0aa58e",
   "metadata": {},
   "source": [
    "- ##### *Some dog names are unusual; possibly picked the wrong section of the tweet*\n"
   ]
  },
  {
   "cell_type": "markdown",
   "id": "c3345eb6",
   "metadata": {},
   "source": [
    "#### Define\n",
    "\n",
    "These dog names start with lowercase letters and are possibly as a result in erroneous name picking by the tool used to extract them and will be replaced by 'Unknown'\n",
    "\n",
    "We have enties of dogname 'None'. These will be replaced by 'Unknown as well'"
   ]
  },
  {
   "cell_type": "markdown",
   "id": "6a706094",
   "metadata": {},
   "source": [
    "#### Code"
   ]
  },
  {
   "cell_type": "code",
   "execution_count": 58,
   "id": "0452fa79",
   "metadata": {},
   "outputs": [],
   "source": [
    "# Replace 'None' with Unknown\n",
    "twitter_arch_clean.name = twitter_arch_clean.name.replace('None','Unknown')\n",
    "\n",
    "# Replace entries with lowercase values with 'Unknown'\n",
    "odd_names = twitter_arch_clean[twitter_arch_clean.name.str.islower()]\n",
    "odd = odd_names.name.unique()\n",
    "for name in odd:\n",
    "    twitter_arch_clean.name = twitter_arch_clean.name.replace(odd,'Unknown')"
   ]
  },
  {
   "cell_type": "markdown",
   "id": "798965ba",
   "metadata": {},
   "source": [
    "#### Test"
   ]
  },
  {
   "cell_type": "code",
   "execution_count": 59,
   "id": "0c90a64a",
   "metadata": {},
   "outputs": [
    {
     "data": {
      "text/plain": [
       "array(['Phineas', 'Tilly', 'Archie', 'Darla', 'Franklin', 'Unknown',\n",
       "       'Jax', 'Zoey', 'Cassie', 'Koda', 'Bruno', 'Ted', 'Stuart',\n",
       "       'Oliver', 'Jim', 'Zeke', 'Ralphus', 'Gerald', 'Jeffrey', 'Canela',\n",
       "       'Maya', 'Mingus', 'Derek', 'Roscoe', 'Waffles', 'Jimbo', 'Maisey',\n",
       "       'Earl', 'Lola', 'Kevin', 'Yogi', 'Noah', 'Bella', 'Grizzwald',\n",
       "       'Rusty', 'Gus', 'Stanley', 'Alfy', 'Koko', 'Rey', 'Gary', 'Elliot',\n",
       "       'Louis', 'Jesse', 'Romeo', 'Bailey', 'Duddles', 'Jack', 'Steven',\n",
       "       'Beau', 'Snoopy', 'Shadow', 'Emmy', 'Aja', 'Penny', 'Dante',\n",
       "       'Nelly', 'Ginger', 'Benedict', 'Venti', 'Goose', 'Nugget', 'Cash',\n",
       "       'Jed', 'Sebastian', 'Sierra', 'Monkey', 'Harry', 'Kody', 'Lassie',\n",
       "       'Rover', 'Napolean', 'Boomer', 'Cody', 'Rumble', 'Clifford',\n",
       "       'Dewey', 'Scout', 'Gizmo', 'Walter', 'Cooper', 'Harold', 'Shikha',\n",
       "       'Lili', 'Jamesy', 'Coco', 'Sammy', 'Meatball', 'Paisley', 'Albus',\n",
       "       'Neptune', 'Belle', 'Quinn', 'Zooey', 'Dave', 'Jersey', 'Hobbes',\n",
       "       'Burt', 'Lorenzo', 'Carl', 'Jordy', 'Milky', 'Trooper', 'Sophie',\n",
       "       'Wyatt', 'Rosie', 'Thor', 'Oscar', 'Callie', 'Cermet', 'Marlee',\n",
       "       'Arya', 'Einstein', 'Alice', 'Rumpole', 'Benny', 'Aspen', 'Jarod',\n",
       "       'Wiggles', 'General', 'Sailor', 'Iggy', 'Snoop', 'Kyle', 'Leo',\n",
       "       'Riley', 'Noosh', 'Odin', 'Jerry', 'Georgie', 'Rontu', 'Cannon',\n",
       "       'Furzey', 'Daisy', 'Tuck', 'Barney', 'Vixen', 'Jarvis', 'Mimosa',\n",
       "       'Pickles', 'Brady', 'Luna', 'Charlie', 'Margo', 'Sadie', 'Hank',\n",
       "       'Tycho', 'Indie', 'Winnie', 'George', 'Bentley', 'Max', 'Dawn',\n",
       "       'Maddie', 'Monty', 'Sojourner', 'Winston', 'Odie', 'Arlo',\n",
       "       'Vincent', 'Lucy', 'Clark', 'Mookie', 'Meera', 'Ava', 'Eli', 'Ash',\n",
       "       'Tucker', 'Tobi', 'Chester', 'Wilson', 'Sunshine', 'Lipton',\n",
       "       'Bronte', 'Poppy', 'Gidget', 'Rhino', 'Willow', 'Orion', 'Eevee',\n",
       "       'Smiley', 'Miguel', 'Emanuel', 'Kuyu', 'Dutch', 'Pete', 'Scooter',\n",
       "       'Reggie', 'Lilly', 'Samson', 'Mia', 'Astrid', 'Malcolm', 'Dexter',\n",
       "       'Alfie', 'Fiona', 'Mutt', 'Bear', 'Doobert', 'Beebop', 'Alexander',\n",
       "       'Sailer', 'Brutus', 'Kona', 'Boots', 'Ralphie', 'Loki', 'Cupid',\n",
       "       'Pawnd', 'Pilot', 'Ike', 'Mo', 'Toby', 'Sweet', 'Pablo', 'Nala',\n",
       "       'Crawford', 'Gabe', 'Jimison', 'Duchess', 'Harlso', 'Sundance',\n",
       "       'Luca', 'Flash', 'Sunny', 'Howie', 'Jazzy', 'Anna', 'Finn', 'Bo',\n",
       "       'Wafer', 'Tom', 'Florence', 'Autumn', 'Buddy', 'Dido', 'Eugene',\n",
       "       'Ken', 'Strudel', 'Tebow', 'Chloe', 'Timber', 'Binky', 'Moose',\n",
       "       'Dudley', 'Comet', 'Akumi', 'Titan', 'Olivia', 'Alf', 'Oshie',\n",
       "       'Chubbs', 'Sky', 'Atlas', 'Eleanor', 'Layla', 'Rocky', 'Baron',\n",
       "       'Tyr', 'Bauer', 'Swagger', 'Brandi', 'Mary', 'Moe', 'Halo',\n",
       "       'Augie', 'Craig', 'Sam', 'Hunter', 'Pavlov', 'Phil', 'Kyro',\n",
       "       'Wallace', 'Ito', 'Seamus', 'Ollie', 'Stephan', 'Lennon', 'Major',\n",
       "       'Duke', 'Sansa', 'Shooter', 'Django', 'Diogi', 'Sonny', 'Marley',\n",
       "       'Severus', 'Ronnie', 'Milo', 'Bones', 'Mauve', 'Chef', 'Doc',\n",
       "       'Peaches', 'Sobe', 'Longfellow', 'Mister', 'Iroh', 'Pancake',\n",
       "       'Snicku', 'Ruby', 'Brody', 'Mack', 'Nimbus', 'Laika', 'Maximus',\n",
       "       'Dobby', 'Moreton', 'Juno', 'Maude', 'Lily', 'Newt', 'Benji',\n",
       "       'Nida', 'Robin', 'Monster', 'BeBe', 'Remus', 'Levi', 'Mabel',\n",
       "       'Misty', 'Betty', 'Mosby', 'Maggie', 'Bruce', 'Happy', 'Ralphy',\n",
       "       'Brownie', 'Rizzy', 'Stella', 'Butter', 'Frank', 'Tonks',\n",
       "       'Lincoln', 'Rory', 'Logan', 'Dale', 'Rizzo', 'Arnie', 'Mattie',\n",
       "       'Pinot', 'Dallas', 'Hero', 'Frankie', 'Stormy', 'Reginald',\n",
       "       'Balto', 'Mairi', 'Loomis', 'Godi', 'Cali', 'Deacon', 'Timmy',\n",
       "       'Sampson', 'Chipson', 'Combo', 'Oakley', 'Dash', 'Hercules', 'Jay',\n",
       "       'Mya', 'Strider', 'Wesley', 'Solomon', 'Huck', 'O', 'Blue',\n",
       "       'Anakin', 'Finley', 'Sprinkles', 'Heinrich', 'Shakespeare',\n",
       "       'Chelsea', 'Bungalo', 'Chip', 'Grey', 'Roosevelt', 'Willem',\n",
       "       'Davey', 'Dakota', 'Fizz', 'Dixie', 'Al', 'Jackson', 'Carbon',\n",
       "       'Klein', 'DonDon', 'Kirby', 'Lou', 'Chevy', 'Tito', 'Philbert',\n",
       "       'Louie', 'Rupert', 'Rufus', 'Brudge', 'Shadoe', 'Angel', 'Brat',\n",
       "       'Tove', 'Gromit', 'Aubie', 'Kota', 'Leela', 'Glenn', 'Shelby',\n",
       "       'Sephie', 'Bonaparte', 'Albert', 'Wishes', 'Rose', 'Theo', 'Rocco',\n",
       "       'Fido', 'Emma', 'Spencer', 'Lilli', 'Boston', 'Brandonald',\n",
       "       'Corey', 'Leonard', 'Beckham', 'Devón', 'Gert', 'Watson', 'Keith',\n",
       "       'Dex', 'Ace', 'Tayzie', 'Grizzie', 'Fred', 'Gilbert', 'Meyer',\n",
       "       'Zoe', 'Stewie', 'Calvin', 'Lilah', 'Spanky', 'Jameson', 'Piper',\n",
       "       'Atticus', 'Blu', 'Dietrich', 'Divine', 'Tripp', 'Cora', 'Huxley',\n",
       "       'Keurig', 'Bookstore', 'Linus', 'Abby', 'Shiloh', 'Gustav',\n",
       "       'Arlen', 'Percy', 'Lenox', 'Sugar', 'Harvey', 'Blanket', 'Geno',\n",
       "       'Stark', 'Beya', 'Kilo', 'Kayla', 'Maxaroni', 'Bell', 'Doug',\n",
       "       'Edmund', 'Aqua', 'Theodore', 'Baloo', 'Chase', 'Nollie', 'Rorie',\n",
       "       'Simba', 'Charles', 'Bayley', 'Axel', 'Storkson', 'Remy',\n",
       "       'Chadrick', 'Kellogg', 'Buckley', 'Livvie', 'Terry', 'Hermione',\n",
       "       'Ralpher', 'Aldrick', 'Larry', 'Rooney', 'Crystal', 'Ziva',\n",
       "       'Stefan', 'Pupcasso', 'Puff', 'Flurpson', 'Coleman', 'Enchilada',\n",
       "       'Raymond', 'Rueben', 'Cilantro', 'Karll', 'Sprout', 'Blitz',\n",
       "       'Bloop', 'Colby', 'Lillie', 'Ashleigh', 'Kreggory', 'Sarge',\n",
       "       'Luther', 'Ivar', 'Jangle', 'Schnitzel', 'Panda', 'Berkeley',\n",
       "       'Ralphé', 'Charleson', 'Clyde', 'Harnold', 'Sid', 'Pippa', 'Otis',\n",
       "       'Carper', 'Bowie', 'Alexanderson', 'Suki', 'Barclay', 'Skittle',\n",
       "       'Ebby', 'Flávio', 'Smokey', 'Link', 'Jennifur', 'Ozzy', 'Bluebert',\n",
       "       'Stephanus', 'Bubbles', 'Zeus', 'Bertson', 'Nico',\n",
       "       'Michelangelope', 'Siba', 'Calbert', 'Curtis', 'Travis', 'Thumas',\n",
       "       'Kanu', 'Lance', 'Opie', 'Stubert', 'Kane', 'Olive', 'Chuckles',\n",
       "       'Staniel', 'Sora', 'Beemo', 'Gunner', 'Lacy', 'Tater', 'Olaf',\n",
       "       'Cecil', 'Vince', 'Karma', 'Billy', 'Walker', 'Rodney', 'Klevin',\n",
       "       'Malikai', 'Bobble', 'River', 'Jebberson', 'Remington', 'Farfle',\n",
       "       'Jiminus', 'Harper', 'Clarkus', 'Finnegus', 'Cupcake', 'Kathmandu',\n",
       "       'Ellie', 'Katie', 'Kara', 'Adele', 'Zara', 'Ambrose', 'Jimothy',\n",
       "       'Bode', 'Terrenth', 'Reese', 'Chesterson', 'Lucia', 'Bisquick',\n",
       "       'Ralphson', 'Socks', 'Rambo', 'Rudy', 'Fiji', 'Rilo', 'Bilbo',\n",
       "       'Coopson', 'Yoda', 'Millie', 'Chet', 'Crouton', 'Daniel', 'Kaia',\n",
       "       'Murphy', 'Dotsy', 'Eazy', 'Coops', 'Fillup', 'Miley', 'Charl',\n",
       "       'Reagan', 'Yukon', 'CeCe', 'Cuddles', 'Claude', 'Jessiga',\n",
       "       'Carter', 'Ole', 'Pherb', 'Blipson', 'Reptar', 'Trevith', 'Berb',\n",
       "       'Bob', 'Colin', 'Brian', 'Oliviér', 'Grady', 'Kobe', 'Freddery',\n",
       "       'Bodie', 'Dunkin', 'Wally', 'Tupawc', 'Amber', 'Herschel', 'Edgar',\n",
       "       'Teddy', 'Kingsley', 'Brockly', 'Richie', 'Molly', 'Vinscent',\n",
       "       'Cedrick', 'Hazel', 'Lolo', 'Eriq', 'Phred', 'Oddie', 'Maxwell',\n",
       "       'Geoff', 'Covach', 'Durg', 'Fynn', 'Ricky', 'Herald', 'Lucky',\n",
       "       'Ferg', 'Trip', 'Clarence', 'Hamrick', 'Brad', 'Pubert', 'Frönq',\n",
       "       'Derby', 'Lizzie', 'Ember', 'Blakely', 'Opal', 'Marq', 'Kramer',\n",
       "       'Barry', 'Tyrone', 'Gordon', 'Baxter', 'Mona', 'Horace', 'Crimson',\n",
       "       'Birf', 'Hammond', 'Lorelei', 'Marty', 'Brooks', 'Petrick',\n",
       "       'Hubertson', 'Gerbald', 'Oreo', 'Bruiser', 'Perry', 'Bobby',\n",
       "       'Jeph', 'Obi', 'Tino', 'Kulet', 'Sweets', 'Lupe', 'Tiger',\n",
       "       'Jiminy', 'Griffin', 'Banjo', 'Brandy', 'Lulu', 'Darrel', 'Taco',\n",
       "       'Joey', 'Patrick', 'Kreg', 'Todo', 'Tess', 'Ulysses', 'Toffee',\n",
       "       'Apollo', 'Carly', 'Asher', 'Glacier', 'Chuck', 'Champ', 'Ozzie',\n",
       "       'Griswold', 'Cheesy', 'Moofasa', 'Hector', 'Goliath', 'Kawhi',\n",
       "       'Emmie', 'Penelope', 'Willie', 'Rinna', 'Mike', 'William',\n",
       "       'Dwight', 'Evy', 'Hurley', 'Rubio', 'Chompsky', 'Rascal', 'Linda',\n",
       "       'Tug', 'Tango', 'Grizz', 'Jerome', 'Crumpet', 'Jessifer', 'Izzy',\n",
       "       'Ralph', 'Sandy', 'Humphrey', 'Tassy', 'Juckson', 'Chuq', 'Tyrus',\n",
       "       'Karl', 'Godzilla', 'Vinnie', 'Kenneth', 'Herm', 'Bert', 'Striker',\n",
       "       'Donny', 'Pepper', 'Bernie', 'Buddah', 'Lenny', 'Arnold', 'Zuzu',\n",
       "       'Mollie', 'Laela', 'Tedders', 'Superpup', 'Rufio', 'Jeb', 'Rodman',\n",
       "       'Jonah', 'Chesney', 'Kenny', 'Henry', 'Bobbay', 'Mitch', 'Kaiya',\n",
       "       'Acro', 'Aiden', 'Obie', 'Dot', 'Shnuggles', 'Kendall', 'Jeffri',\n",
       "       'Steve', 'Eve', 'Mac', 'Fletcher', 'Kenzie', 'Pumpkin', 'Schnozz',\n",
       "       'Gustaf', 'Cheryl', 'Ed', 'Leonidas', 'Norman', 'Caryl', 'Scott',\n",
       "       'Taz', 'Darby', 'Jackie', 'Jazz', 'Franq', 'Pippin', 'Rolf',\n",
       "       'Snickers', 'Ridley', 'Cal', 'Bradley', 'Bubba', 'Tuco', 'Patch',\n",
       "       'Mojo', 'Batdog', 'Dylan', 'Mark', 'JD', 'Alejandro', 'Scruffers',\n",
       "       'Pip', 'Julius', 'Tanner', 'Sparky', 'Anthony', 'Holly', 'Jett',\n",
       "       'Amy', 'Sage', 'Andy', 'Mason', 'Trigger', 'Antony', 'Creg',\n",
       "       'Traviss', 'Gin', 'Jeffrie', 'Danny', 'Ester', 'Pluto', 'Bloo',\n",
       "       'Edd', 'Paull', 'Willy', 'Herb', 'Damon', 'Peanut', 'Nigel',\n",
       "       'Butters', 'Sandra', 'Fabio', 'Randall', 'Liam', 'Tommy', 'Ben',\n",
       "       'Raphael', 'Julio', 'Andru', 'Kloey', 'Shawwn', 'Skye', 'Kollin',\n",
       "       'Ronduh', 'Billl', 'Saydee', 'Dug', 'Tessa', 'Sully', 'Kirk',\n",
       "       'Ralf', 'Clarq', 'Jaspers', 'Samsom', 'Terrance', 'Harrison',\n",
       "       'Chaz', 'Jeremy', 'Jaycob', 'Lambeau', 'Ruffles', 'Amélie', 'Bobb',\n",
       "       'Banditt', 'Kevon', 'Winifred', 'Hanz', 'Churlie', 'Zeek',\n",
       "       'Timofy', 'Maks', 'Jomathan', 'Kallie', 'Marvin', 'Spark',\n",
       "       'Gòrdón', 'Jo', 'DayZ', 'Jareld', 'Torque', 'Ron', 'Skittles',\n",
       "       'Cleopatricia', 'Erik', 'Stu', 'Tedrick', 'Shaggy', 'Filup',\n",
       "       'Kial', 'Naphaniel', 'Dook', 'Hall', 'Philippe', 'Biden', 'Fwed',\n",
       "       'Genevieve', 'Joshwa', 'Timison', 'Bradlay', 'Pipsy', 'Clybe',\n",
       "       'Keet', 'Carll', 'Jockson', 'Josep', 'Lugan', 'Christoper'],\n",
       "      dtype=object)"
      ]
     },
     "execution_count": 59,
     "metadata": {},
     "output_type": "execute_result"
    }
   ],
   "source": [
    "# View names\n",
    "twitter_arch_clean.name.unique()"
   ]
  },
  {
   "cell_type": "code",
   "execution_count": 60,
   "id": "579cc80a",
   "metadata": {},
   "outputs": [
    {
     "data": {
      "text/plain": [
       "array([], dtype=object)"
      ]
     },
     "execution_count": 60,
     "metadata": {},
     "output_type": "execute_result"
    }
   ],
   "source": [
    "# See if wrong stripped names appear in dataset\n",
    "odd_names = twitter_arch_clean[twitter_arch_clean.name.str.islower()]\n",
    "odd_names.name.unique()"
   ]
  },
  {
   "cell_type": "code",
   "execution_count": 61,
   "id": "64d2423a",
   "metadata": {},
   "outputs": [
    {
     "data": {
      "text/html": [
       "<div>\n",
       "<style scoped>\n",
       "    .dataframe tbody tr th:only-of-type {\n",
       "        vertical-align: middle;\n",
       "    }\n",
       "\n",
       "    .dataframe tbody tr th {\n",
       "        vertical-align: top;\n",
       "    }\n",
       "\n",
       "    .dataframe thead th {\n",
       "        text-align: right;\n",
       "    }\n",
       "</style>\n",
       "<table border=\"1\" class=\"dataframe\">\n",
       "  <thead>\n",
       "    <tr style=\"text-align: right;\">\n",
       "      <th></th>\n",
       "      <th>tweet_id</th>\n",
       "      <th>in_reply_to_status_id</th>\n",
       "      <th>in_reply_to_user_id</th>\n",
       "      <th>timestamp</th>\n",
       "      <th>source</th>\n",
       "      <th>text</th>\n",
       "      <th>retweeted_status_id</th>\n",
       "      <th>retweeted_status_user_id</th>\n",
       "      <th>retweeted_status_timestamp</th>\n",
       "      <th>expanded_urls</th>\n",
       "      <th>rating_numerator</th>\n",
       "      <th>rating_denominator</th>\n",
       "      <th>name</th>\n",
       "      <th>doggo</th>\n",
       "      <th>floofer</th>\n",
       "      <th>pupper</th>\n",
       "      <th>puppo</th>\n",
       "    </tr>\n",
       "  </thead>\n",
       "  <tbody>\n",
       "  </tbody>\n",
       "</table>\n",
       "</div>"
      ],
      "text/plain": [
       "Empty DataFrame\n",
       "Columns: [tweet_id, in_reply_to_status_id, in_reply_to_user_id, timestamp, source, text, retweeted_status_id, retweeted_status_user_id, retweeted_status_timestamp, expanded_urls, rating_numerator, rating_denominator, name, doggo, floofer, pupper, puppo]\n",
       "Index: []"
      ]
     },
     "execution_count": 61,
     "metadata": {},
     "output_type": "execute_result"
    }
   ],
   "source": [
    "#See if any names are 'None'\n",
    "none_name = twitter_arch_clean[twitter_arch_clean.name == 'None']\n",
    "none_name"
   ]
  },
  {
   "cell_type": "markdown",
   "id": "9633ec7c",
   "metadata": {},
   "source": [
    "- ##### *Source column content can be better represented to identify source of ratings*"
   ]
  },
  {
   "cell_type": "markdown",
   "id": "31c53fa3",
   "metadata": {},
   "source": [
    "#### Define\n",
    "\n",
    "The source of the data can be clearly identified by extracting actual data from the html string from the 'source' column using strip function; source url can be extracted using regex"
   ]
  },
  {
   "cell_type": "markdown",
   "id": "45a73cd3",
   "metadata": {},
   "source": [
    "##### Code"
   ]
  },
  {
   "cell_type": "code",
   "execution_count": 62,
   "id": "9a314480",
   "metadata": {},
   "outputs": [],
   "source": [
    "# Extract source URL\n",
    "twitter_arch_clean['source_url'] = twitter_arch_clean.source.str.extract('((http://)([a-zA-Z.\\w//\\s]+))')[0]"
   ]
  },
  {
   "cell_type": "code",
   "execution_count": null,
   "id": "bc8589bd",
   "metadata": {},
   "outputs": [],
   "source": []
  },
  {
   "cell_type": "code",
   "execution_count": 63,
   "id": "7a28f0a9",
   "metadata": {},
   "outputs": [],
   "source": [
    "# extract source text from source column\n",
    "twitter_arch_clean.source = twitter_arch_clean.source.str.split('>',expand = True)[1].str.split('<', expand = True)[0]"
   ]
  },
  {
   "cell_type": "markdown",
   "id": "75620ea2",
   "metadata": {},
   "source": [
    "#### Test"
   ]
  },
  {
   "cell_type": "code",
   "execution_count": 64,
   "id": "02f8ab3a",
   "metadata": {},
   "outputs": [
    {
     "data": {
      "text/plain": [
       "Twitter for iPhone     2042\n",
       "Vine - Make a Scene      91\n",
       "Twitter Web Client       31\n",
       "TweetDeck                11\n",
       "Name: source, dtype: int64"
      ]
     },
     "execution_count": 64,
     "metadata": {},
     "output_type": "execute_result"
    }
   ],
   "source": [
    "twitter_arch_clean.source.value_counts()"
   ]
  },
  {
   "cell_type": "markdown",
   "id": "bb891fdc",
   "metadata": {},
   "source": [
    "- #### *Missing data in in_reply_to_status_id, in_reply_to_user_id, retweeted_status_id, retweeted_status_user_id, retweeted_status_timestamp*"
   ]
  },
  {
   "cell_type": "markdown",
   "id": "f6d09e87",
   "metadata": {},
   "source": [
    "#### Define\n",
    "\n",
    "These columns have a significant amount of missing data and should therefore be dropped"
   ]
  },
  {
   "cell_type": "markdown",
   "id": "18aaa227",
   "metadata": {},
   "source": [
    "#### Code"
   ]
  },
  {
   "cell_type": "code",
   "execution_count": 65,
   "id": "a02269d8",
   "metadata": {},
   "outputs": [],
   "source": [
    "# Drop columns\n",
    "twitter_arch_clean.drop(['in_reply_to_status_id','in_reply_to_user_id','retweeted_status_id','retweeted_status_user_id', 'retweeted_status_timestamp'], axis = 1, inplace = True)"
   ]
  },
  {
   "cell_type": "markdown",
   "id": "0feac1f5",
   "metadata": {},
   "source": [
    "#### Test"
   ]
  },
  {
   "cell_type": "code",
   "execution_count": 66,
   "id": "8cbf6eb4",
   "metadata": {},
   "outputs": [
    {
     "name": "stdout",
     "output_type": "stream",
     "text": [
      "<class 'pandas.core.frame.DataFrame'>\n",
      "Int64Index: 2175 entries, 0 to 2355\n",
      "Data columns (total 13 columns):\n",
      " #   Column              Non-Null Count  Dtype              \n",
      "---  ------              --------------  -----              \n",
      " 0   tweet_id            2175 non-null   object             \n",
      " 1   timestamp           2175 non-null   datetime64[ns, UTC]\n",
      " 2   source              2175 non-null   object             \n",
      " 3   text                2175 non-null   object             \n",
      " 4   expanded_urls       2117 non-null   object             \n",
      " 5   rating_numerator    2175 non-null   float64            \n",
      " 6   rating_denominator  2175 non-null   int64              \n",
      " 7   name                2175 non-null   object             \n",
      " 8   doggo               2175 non-null   object             \n",
      " 9   floofer             2175 non-null   object             \n",
      " 10  pupper              2175 non-null   object             \n",
      " 11  puppo               2175 non-null   object             \n",
      " 12  source_url          2164 non-null   object             \n",
      "dtypes: datetime64[ns, UTC](1), float64(1), int64(1), object(10)\n",
      "memory usage: 237.9+ KB\n"
     ]
    }
   ],
   "source": [
    "twitter_arch_clean.info()"
   ]
  },
  {
   "cell_type": "markdown",
   "id": "77b73dcd",
   "metadata": {},
   "source": [
    "- #### *Columns with unnecessary data*"
   ]
  },
  {
   "cell_type": "markdown",
   "id": "6e30ed46",
   "metadata": {},
   "source": [
    "#### Define\n",
    "\n",
    "Columns with unnecessary data are in_reply_to_status_id, in_reply_to_user_id, retweeted_status_id, retweeted_status_user_id, retweeted_status_timestamp, expanded_url. The first 5 columns have been dropped above. expanded_url will be dropped as well"
   ]
  },
  {
   "cell_type": "markdown",
   "id": "b89abc97",
   "metadata": {},
   "source": [
    "#### Code"
   ]
  },
  {
   "cell_type": "code",
   "execution_count": 67,
   "id": "d3576283",
   "metadata": {},
   "outputs": [],
   "source": [
    "twitter_arch_clean.drop(['expanded_urls'], axis = 1, inplace = True)"
   ]
  },
  {
   "cell_type": "markdown",
   "id": "b6bec3d6",
   "metadata": {},
   "source": [
    "#### Test"
   ]
  },
  {
   "cell_type": "code",
   "execution_count": 68,
   "id": "4b98d113",
   "metadata": {},
   "outputs": [
    {
     "data": {
      "text/plain": [
       "Index(['tweet_id', 'timestamp', 'source', 'text', 'rating_numerator',\n",
       "       'rating_denominator', 'name', 'doggo', 'floofer', 'pupper', 'puppo',\n",
       "       'source_url'],\n",
       "      dtype='object')"
      ]
     },
     "execution_count": 68,
     "metadata": {},
     "output_type": "execute_result"
    }
   ],
   "source": [
    "twitter_arch_clean.columns"
   ]
  },
  {
   "cell_type": "markdown",
   "id": "1446c962",
   "metadata": {},
   "source": [
    "##### image_pred"
   ]
  },
  {
   "cell_type": "markdown",
   "id": "9669f1a3",
   "metadata": {},
   "source": [
    "- #### *Wrong datatype on tweet_id*"
   ]
  },
  {
   "cell_type": "markdown",
   "id": "500df4d5",
   "metadata": {},
   "source": [
    "#### Define\n",
    "\n",
    "Change datatype on tweet_id from int to string using astype function"
   ]
  },
  {
   "cell_type": "markdown",
   "id": "1c3a2c2a",
   "metadata": {},
   "source": [
    "#### Code\n",
    "\n"
   ]
  },
  {
   "cell_type": "code",
   "execution_count": 69,
   "id": "742051cd",
   "metadata": {},
   "outputs": [],
   "source": [
    "# Make a copy of the data\n",
    "image_pred_clean = image_pred.copy()"
   ]
  },
  {
   "cell_type": "code",
   "execution_count": 70,
   "id": "2b939231",
   "metadata": {},
   "outputs": [],
   "source": [
    "# Change tweet_id column type to string\n",
    "image_pred_clean.tweet_id = image_pred_clean.tweet_id.astype(str)"
   ]
  },
  {
   "cell_type": "markdown",
   "id": "d1652918",
   "metadata": {},
   "source": [
    "#### Test\n"
   ]
  },
  {
   "cell_type": "code",
   "execution_count": 71,
   "id": "612ec21a",
   "metadata": {},
   "outputs": [
    {
     "name": "stdout",
     "output_type": "stream",
     "text": [
      "<class 'pandas.core.frame.DataFrame'>\n",
      "RangeIndex: 2075 entries, 0 to 2074\n",
      "Data columns (total 12 columns):\n",
      " #   Column    Non-Null Count  Dtype  \n",
      "---  ------    --------------  -----  \n",
      " 0   tweet_id  2075 non-null   object \n",
      " 1   jpg_url   2075 non-null   object \n",
      " 2   img_num   2075 non-null   int64  \n",
      " 3   p1        2075 non-null   object \n",
      " 4   p1_conf   2075 non-null   float64\n",
      " 5   p1_dog    2075 non-null   bool   \n",
      " 6   p2        2075 non-null   object \n",
      " 7   p2_conf   2075 non-null   float64\n",
      " 8   p2_dog    2075 non-null   bool   \n",
      " 9   p3        2075 non-null   object \n",
      " 10  p3_conf   2075 non-null   float64\n",
      " 11  p3_dog    2075 non-null   bool   \n",
      "dtypes: bool(3), float64(3), int64(1), object(5)\n",
      "memory usage: 152.1+ KB\n"
     ]
    }
   ],
   "source": [
    "image_pred_clean.info()"
   ]
  },
  {
   "cell_type": "markdown",
   "id": "54370354",
   "metadata": {},
   "source": [
    "- #### *Inconsistent formating of dog breeds*"
   ]
  },
  {
   "cell_type": "markdown",
   "id": "97e243ea",
   "metadata": {},
   "source": [
    "#### Define\n",
    "\n",
    "Some dog breeds start with a capital letter and others don't. To maintain consistensy, have the first letters of every word capitalized.\n",
    "\n",
    "Words are also separated by _. The _ will be removed and title function used in breed name"
   ]
  },
  {
   "cell_type": "markdown",
   "id": "e1ad8196",
   "metadata": {},
   "source": [
    "#### Code"
   ]
  },
  {
   "cell_type": "code",
   "execution_count": 72,
   "id": "f5b23dbc",
   "metadata": {},
   "outputs": [],
   "source": [
    "# View different breeds in p1, p2 and p3"
   ]
  },
  {
   "cell_type": "code",
   "execution_count": 73,
   "id": "46dc7b57",
   "metadata": {},
   "outputs": [
    {
     "data": {
      "text/plain": [
       "array(['Welsh_springer_spaniel', 'redbone', 'German_shepherd',\n",
       "       'Rhodesian_ridgeback', 'miniature_pinscher',\n",
       "       'Bernese_mountain_dog', 'box_turtle', 'chow', 'shopping_cart',\n",
       "       'miniature_poodle', 'golden_retriever', 'Gordon_setter',\n",
       "       'Walker_hound', 'pug', 'bloodhound', 'Lhasa', 'English_setter',\n",
       "       'hen', 'desktop_computer', 'Italian_greyhound', 'Maltese_dog',\n",
       "       'three-toed_sloth', 'ox', 'malamute', 'guinea_pig',\n",
       "       'soft-coated_wheaten_terrier', 'Chihuahua',\n",
       "       'black-and-tan_coonhound', 'coho', 'toy_terrier',\n",
       "       'Blenheim_spaniel', 'Pembroke', 'llama',\n",
       "       'Chesapeake_Bay_retriever', 'curly-coated_retriever', 'dalmatian',\n",
       "       'Ibizan_hound', 'Border_collie', 'Labrador_retriever', 'seat_belt',\n",
       "       'snail', 'miniature_schnauzer', 'Airedale', 'triceratops', 'swab',\n",
       "       'hay', 'hyena', 'jigsaw_puzzle', 'West_Highland_white_terrier',\n",
       "       'toy_poodle', 'giant_schnauzer', 'vizsla', 'vacuum', 'Rottweiler',\n",
       "       'Siberian_husky', 'teddy', 'papillon', 'Saint_Bernard',\n",
       "       'porcupine', 'goose', 'Tibetan_terrier', 'borzoi', 'beagle',\n",
       "       'hare', 'Yorkshire_terrier', 'Pomeranian', 'electric_fan',\n",
       "       'web_site', 'ibex', 'kuvasz', 'fire_engine', 'lorikeet',\n",
       "       'flat-coated_retriever', 'toyshop', 'common_iguana',\n",
       "       'Norwegian_elkhound', 'frilled_lizard', 'leatherback_turtle',\n",
       "       'hamster', 'Angora', 'Arctic_fox', 'trombone', 'canoe',\n",
       "       'king_penguin', 'shopping_basket', 'standard_poodle',\n",
       "       'Staffordshire_bullterrier', 'basenji', 'Lakeland_terrier',\n",
       "       'American_Staffordshire_terrier', 'bearskin', 'Shih-Tzu',\n",
       "       'bustard', 'crash_helmet', 'French_bulldog', 'Pekinese',\n",
       "       'komondor', 'ski_mask', 'malinois', 'kelpie', 'Brittany_spaniel',\n",
       "       'cocker_spaniel', 'shower_curtain', 'basset', 'jellyfish',\n",
       "       'doormat', 'Arabian_camel', 'lynx', 'hog', 'comic_book', 'minivan',\n",
       "       'seashore', 'cuirass', 'Brabancon_griffon', 'candle', 'Eskimo_dog',\n",
       "       'weasel', 'Christmas_stocking', 'washbasin', 'car_mirror',\n",
       "       'piggy_bank', 'pot', 'boathouse', 'mud_turtle',\n",
       "       'German_short-haired_pointer', 'Shetland_sheepdog',\n",
       "       'Irish_terrier', 'cairn', 'platypus', 'English_springer',\n",
       "       'whippet', 'ping-pong_ball', 'sea_urchin', 'bow_tie',\n",
       "       'window_shade', \"jack-o'-lantern\", 'sorrel', 'Sussex_spaniel',\n",
       "       'peacock', 'axolotl', 'wool', 'banana', 'Dandie_Dinmont',\n",
       "       'Norwich_terrier', 'wood_rabbit', 'dhole', 'keeshond',\n",
       "       'Norfolk_terrier', 'lacewing', 'dingo', 'brown_bear',\n",
       "       'Old_English_sheepdog', 'scorpion', 'flamingo', 'microphone',\n",
       "       'Samoyed', 'pitcher', 'African_hunting_dog', 'refrigerator',\n",
       "       'picket_fence', 'tub', 'zebra', 'hermit_crab', 'swing', 'Doberman',\n",
       "       'park_bench', 'feather_boa', 'Loafer', 'stone_wall', 'ice_bear',\n",
       "       'prayer_rug', 'chimpanzee', 'china_cabinet', 'bee_eater',\n",
       "       'tennis_ball', 'carton', 'killer_whale', 'ostrich', 'terrapin',\n",
       "       'Siamese_cat', 'gondola', 'Great_Pyrenees', 'microwave',\n",
       "       'starfish', 'sandbar', 'tusker', 'motor_scooter', 'ram',\n",
       "       'leaf_beetle', 'wombat', 'schipperke', 'Newfoundland',\n",
       "       'bull_mastiff', 'water_bottle', 'suit', 'toilet_seat', 'collie',\n",
       "       'robin', 'Cardigan', 'Greater_Swiss_Mountain_dog', 'slug',\n",
       "       'toilet_tissue', 'acorn_squash', 'soccer_ball',\n",
       "       'African_crocodile', 'tick', 'ocarina', 'boxer', 'street_sign',\n",
       "       'bow', 'stove', 'paper_towel', 'upright', 'dough',\n",
       "       'Scottish_deerhound', 'bath_towel', 'standard_schnauzer',\n",
       "       'walking_stick', 'Irish_water_spaniel', 'bubble', 'Boston_bull',\n",
       "       'book_jacket', 'rain_barrel', 'black-footed_ferret', 'guenon',\n",
       "       'Japanese_spaniel', 'water_buffalo', 'patio', 'cowboy_hat',\n",
       "       'dogsled', 'maze', 'harp', 'panpipe', 'cash_machine', 'mailbox',\n",
       "       'wallaby', 'EntleBucher', 'earthstar', 'pillow', 'bluetick',\n",
       "       'space_heater', 'carousel', 'Irish_setter', 'birdhouse', 'snorkel',\n",
       "       'bald_eagle', 'koala', 'Leonberg', 'cheetah', 'minibus',\n",
       "       'Weimaraner', 'clog', 'dishwasher', 'white_wolf', 'sliding_door',\n",
       "       'damselfly', 'Great_Dane', 'Tibetan_mastiff', 'cheeseburger',\n",
       "       'fiddler_crab', 'bannister', 'crane', 'Scotch_terrier',\n",
       "       'snowmobile', 'badger', 'bighorn', 'geyser', 'barrow', 'bison',\n",
       "       'Mexican_hairless', 'ice_lolly', 'sea_lion', 'dining_table',\n",
       "       'groenendael', 'Australian_terrier', 'beaver', 'briard',\n",
       "       'Appenzeller', 'grey_fox', 'mousetrap', 'hippopotamus',\n",
       "       'Border_terrier', 'hummingbird', 'tailed_frog', 'otter',\n",
       "       'Egyptian_cat', 'four-poster', 'wild_boar', 'bathtub', 'agama',\n",
       "       'muzzle', 'hotdog', 'bib', 'espresso', 'timber_wolf', 'meerkat',\n",
       "       'nail', 'hammer', 'home_theater', 'alp', 'bonnet', 'handkerchief',\n",
       "       'hand_blower', 'polecat', 'lakeside', 'studio_couch', 'cup',\n",
       "       'cliff', 'Bedlington_terrier', 'lawn_mower', 'balloon',\n",
       "       'sunglasses', 'rapeseed', 'traffic_light', 'coil', 'binoculars',\n",
       "       'paddle', 'tiger_shark', 'sulphur-crested_cockatoo',\n",
       "       'wire-haired_fox_terrier', 'Saluki', 'American_black_bear',\n",
       "       'rotisserie', 'conch', 'skunk', 'bookshop', 'radio_telescope',\n",
       "       'cougar', 'African_grey', 'coral_reef', 'lion', 'maillot',\n",
       "       'Madagascar_cat', 'tabby', 'silky_terrier', 'giant_panda',\n",
       "       'long-horned_beetle', 'Afghan_hound', 'clumber', 'sundial',\n",
       "       'padlock', 'pool_table', 'quilt', 'beach_wagon', 'remote_control',\n",
       "       'bakery', 'pedestal', 'gas_pump', 'bookcase', 'shield', 'loupe',\n",
       "       'restaurant', 'prison', 'school_bus', 'cowboy_boot', 'jersey',\n",
       "       'wooden_spoon', 'leopard', 'mortarboard', 'teapot',\n",
       "       'military_uniform', 'washer', 'coffee_mug', 'fountain',\n",
       "       'pencil_box', 'barbell', 'grille', 'revolver', 'envelope',\n",
       "       'syringe', 'marmot', 'pole', 'laptop', 'basketball', 'tricycle',\n",
       "       'convertible', 'limousine', 'orange'], dtype=object)"
      ]
     },
     "execution_count": 73,
     "metadata": {},
     "output_type": "execute_result"
    }
   ],
   "source": [
    "image_pred_clean.p1.unique()"
   ]
  },
  {
   "cell_type": "code",
   "execution_count": 74,
   "id": "38103010",
   "metadata": {},
   "outputs": [
    {
     "data": {
      "text/plain": [
       "array(['collie', 'miniature_pinscher', 'malinois', 'redbone',\n",
       "       'Rottweiler', 'English_springer', 'mud_turtle', 'Tibetan_mastiff',\n",
       "       'shopping_basket', 'komondor', 'Yorkshire_terrier',\n",
       "       'English_foxhound', 'bull_mastiff', 'German_shepherd', 'Shih-Tzu',\n",
       "       'Newfoundland', 'cock', 'desk', 'toy_terrier', 'toy_poodle',\n",
       "       'otter', 'Chesapeake_Bay_retriever', 'Siberian_husky', 'skunk',\n",
       "       'Afghan_hound', 'bloodhound', 'barracouta', 'papillon',\n",
       "       'cocker_spaniel', 'chow', 'Irish_terrier', 'chain_saw', 'beagle',\n",
       "       'giant_schnauzer', 'Labrador_retriever', 'Pembroke', 'Chihuahua',\n",
       "       'Weimaraner', 'slug', 'Brittany_spaniel', 'standard_schnauzer',\n",
       "       'teddy', 'armadillo', 'African_hunting_dog', 'vizsla', 'doormat',\n",
       "       'pug', 'Italian_greyhound', 'Samoyed', 'Pomeranian',\n",
       "       'miniature_poodle', 'Lakeland_terrier', 'Irish_setter', 'swab',\n",
       "       'malamute', 'bath_towel', 'Border_collie', 'Leonberg', 'drake',\n",
       "       'French_bulldog', 'ice_bear', 'Christmas_stocking',\n",
       "       'golden_retriever', 'standard_poodle', 'dhole', 'kuvasz',\n",
       "       'Cardigan', 'silky_terrier', 'spotlight', 'dishwasher', 'bighorn',\n",
       "       'tow_truck', 'hummingbird', 'English_setter', 'prayer_rug',\n",
       "       'frilled_lizard', 'Pekinese', 'ox', 'boxer', 'hog', 'guinea_pig',\n",
       "       'hen', 'wallaby', 'cowboy_boot', 'cornet', 'minivan', 'paddle',\n",
       "       'basset', 'hamper', 'Bedlington_terrier', 'Shetland_sheepdog',\n",
       "       'bow', 'Lhasa', 'pelican', 'toaster', 'groenendael',\n",
       "       'Australian_terrier', 'llama', 'knee_pad', 'pillow',\n",
       "       'Ibizan_hound', 'Old_English_sheepdog', 'Welsh_springer_spaniel',\n",
       "       'coral_reef', 'bison', 'waffle_iron', 'tabby', 'bib', 'police_van',\n",
       "       'Eskimo_dog', 'breastplate', 'German_short-haired_pointer',\n",
       "       'Norfolk_terrier', 'Blenheim_spaniel', 'pickup',\n",
       "       'miniature_schnauzer', 'lampshade', 'Tibetan_terrier',\n",
       "       'Siamese_cat', 'borzoi', 'studio_couch', 'toilet_seat', 'hamster',\n",
       "       'seat_belt', 'keeshond', 'koala', 'hair_spray', 'Saint_Bernard',\n",
       "       'tray', 'American_Staffordshire_terrier', 'birdhouse', 'terrapin',\n",
       "       'Staffordshire_bullterrier', 'briard',\n",
       "       'West_Highland_white_terrier', 'spotted_salamander', 'tennis_ball',\n",
       "       'porcupine', 'cardigan', 'corn', 'basenji', 'otterhound',\n",
       "       'European_gallinule', 'indri', 'tailed_frog', 'beach_wagon',\n",
       "       'siamang', 'orange', 'home_theater', 'cairn', 'hare',\n",
       "       'Norwegian_elkhound', 'Brabancon_griffon', 'American_black_bear',\n",
       "       'sulphur_butterfly', 'Sealyham_terrier', 'Walker_hound',\n",
       "       'tarantula', 'Persian_cat', 'coral_fungus', 'accordion', 'kelpie',\n",
       "       'Great_Pyrenees', 'wood_rabbit', 'black-and-tan_coonhound',\n",
       "       'sunglasses', 'plow', 'whippet', 'rain_barrel', 'bathtub', 'tiger',\n",
       "       'snail', 'tick', 'wire-haired_fox_terrier', 'water_bottle', 'wig',\n",
       "       'platypus', 'Irish_wolfhound', 'ram', 'gorilla',\n",
       "       'entertainment_center', 'toucan', 'mask', 'shopping_cart',\n",
       "       'Sussex_spaniel', 'crate', 'grey_whale', 'badger', 'Airedale',\n",
       "       'Arabian_camel', 'cockroach', 'lifeboat', 'rotisserie', 'goldfish',\n",
       "       'stingray', 'warthog', 'bobsled', 'rhinoceros_beetle', 'beaver',\n",
       "       'brown_bear', 'Maltese_dog', 'weasel', 'quill',\n",
       "       'Rhodesian_ridgeback', 'Arctic_fox', 'ashcan', 'bow_tie',\n",
       "       'soft-coated_wheaten_terrier', 'schipperke', 'bearskin',\n",
       "       'Kerry_blue_terrier', 'ice_lolly', 'American_alligator',\n",
       "       'mosquito_net', 'sea_lion', 'Boston_bull', 'nail',\n",
       "       'black-footed_ferret', 'promontory', 'sarong', 'Doberman',\n",
       "       'space_heater', 'Great_Dane', 'mailbox', 'Saluki', 'bakery',\n",
       "       'sandal', 'leafhopper', 'barrel', 'water_buffalo', 'polecat',\n",
       "       'macaque', 'Japanese_spaniel', 'folding_chair', 'trench_coat',\n",
       "       'Angora', 'junco', 'crib', 'dalmatian', 'snowmobile',\n",
       "       'flat-coated_retriever', 'streetcar', 'window_screen', 'bannister',\n",
       "       'hair_slide', 'meerkat', 'cannon', 'jaguar', 'Border_terrier',\n",
       "       'Greater_Swiss_Mountain_dog', 'hay', 'apron', 'cloak', 'radiator',\n",
       "       'muzzle', 'feather_boa', 'rifle', 'chimpanzee', 'loggerhead',\n",
       "       'torch', 'Mexican_hairless', 'spindle', 'triceratops',\n",
       "       'Appenzeller', 'stove', 'dingo', 'oscilloscope', 'common_newt',\n",
       "       'hotdog', 'medicine_chest', 'quail', 'horse_cart', 'four-poster',\n",
       "       'pier', 'red_fox', 'affenpinscher', 'assault_rifle',\n",
       "       'mashed_potato', 'moped', 'hyena', 'seashore', 'tub', 'sports_car',\n",
       "       'swing', 'mink', 'bluetick', 'neck_brace', 'grey_fox', 'mongoose',\n",
       "       'fur_coat', 'Scotch_terrier', 'spatula', 'paper_towel', 'shoji',\n",
       "       'toyshop', 'banded_gecko', 'peacock', 'crossword_puzzle',\n",
       "       'tree_frog', 'wombat', 'turnstile', 'sleeping_bag', 'quilt',\n",
       "       'Gila_monster', 'giant_panda', 'Dandie_Dinmont', 'handkerchief',\n",
       "       'sombrero', 'Indian_elephant', 'coffee_mug', 'gibbon', 'carton',\n",
       "       'screw', 'minibus', 'hatchet', 'window_shade', 'lawn_mower',\n",
       "       'washbasin', 'sock', 'prison', 'patio', 'china_cabinet',\n",
       "       'chain_mail', 'breakwater', 'computer_keyboard', 'goose',\n",
       "       'lakeside', 'solar_dish', 'table_lamp', 'Windsor_tie',\n",
       "       'punching_bag', 'comic_book', 'sunglass', 'great_white_shark',\n",
       "       'timber_wolf', 'fountain', 'dugong', 'marmot', 'barbershop',\n",
       "       'shovel', 'curly-coated_retriever', 'lesser_panda', 'monitor',\n",
       "       'crutch', 'cash_machine', 'printer', 'volcano', 'wallet', 'laptop',\n",
       "       'bathing_cap', 'confectionery', 'dam', 'killer_whale', 'canoe',\n",
       "       'Madagascar_cat', 'jean', 'boathouse', 'cliff', 'maillot', 'iPod',\n",
       "       'hand-held_computer', 'black_widow', 'Norwich_terrier', 'necklace',\n",
       "       'dining_table', 'binoculars', 'cradle', 'sea_urchin', 'cougar',\n",
       "       'EntleBucher', 'basketball', 'lighter', 'saltshaker', 'harvester',\n",
       "       'television', 'envelope', 'house_finch', 'web_site', 'palace',\n",
       "       'shower_curtain', 'cab', 'snorkel', 'jigsaw_puzzle', 'sweatshirt',\n",
       "       'white_wolf', 'sliding_door', 'academic_gown', 'cowboy_hat',\n",
       "       'can_opener', 'cup', 'rule', 'soccer_ball', 'bucket', 'racket',\n",
       "       'menu', 'purse', 'Bernese_mountain_dog', 'dumbbell', 'projectile',\n",
       "       'dock', 'oxygen_mask', 'sandbar', 'umbrella', 'shower_cap',\n",
       "       'bagel'], dtype=object)"
      ]
     },
     "execution_count": 74,
     "metadata": {},
     "output_type": "execute_result"
    }
   ],
   "source": [
    "image_pred_clean.p2.unique()"
   ]
  },
  {
   "cell_type": "code",
   "execution_count": 75,
   "id": "094e40c2",
   "metadata": {},
   "outputs": [
    {
     "data": {
      "text/plain": [
       "array(['Shetland_sheepdog', 'Rhodesian_ridgeback', 'bloodhound',\n",
       "       'miniature_pinscher', 'Doberman', 'Greater_Swiss_Mountain_dog',\n",
       "       'terrapin', 'fur_coat', 'golden_retriever',\n",
       "       'soft-coated_wheaten_terrier', 'Labrador_retriever', 'Pekinese',\n",
       "       'Ibizan_hound', 'French_bulldog', 'malinois', 'Dandie_Dinmont',\n",
       "       'borzoi', 'partridge', 'bookcase', 'basenji', 'miniature_poodle',\n",
       "       'great_grey_owl', 'groenendael', 'Eskimo_dog', 'hamster', 'briard',\n",
       "       'papillon', 'flat-coated_retriever', 'gar', 'Chihuahua',\n",
       "       'Shih-Tzu', 'Pomeranian', 'dingo', 'power_drill', 'Saluki',\n",
       "       'Great_Pyrenees', 'West_Highland_white_terrier', 'collie',\n",
       "       'toy_poodle', 'vizsla', 'acorn', 'giant_schnauzer', 'teddy',\n",
       "       'common_iguana', 'wig', 'water_buffalo', 'coyote', 'seat_belt',\n",
       "       'kelpie', 'space_heater', 'Brabancon_griffon', 'standard_poodle',\n",
       "       'beagle', 'Irish_water_spaniel', 'bluetick', 'Weimaraner',\n",
       "       'Chesapeake_Bay_retriever', 'toilet_tissue',\n",
       "       'black-and-tan_coonhound', 'kuvasz', 'Christmas_stocking',\n",
       "       'badger', 'hen', 'Staffordshire_bullterrier', 'Yorkshire_terrier',\n",
       "       'Lakeland_terrier', 'weasel', 'ski_mask', 'cocker_spaniel',\n",
       "       'Australian_terrier', 'lampshade', 'oscilloscope', 'ram', 'jeep',\n",
       "       'ice_bear', 'African_grey', 'Great_Dane', 'curly-coated_retriever',\n",
       "       'doormat', 'African_chameleon', 'schipperke', 'muzzle',\n",
       "       'triceratops', 'Newfoundland', 'Band_Aid', 'wood_rabbit',\n",
       "       'white_wolf', 'giant_panda', 'Welsh_springer_spaniel',\n",
       "       'French_horn', 'toy_terrier', 'Pembroke', 'Cardigan', 'bassinet',\n",
       "       'pug', 'Afghan_hound', 'American_Staffordshire_terrier', 'whippet',\n",
       "       'English_setter', 'panpipe', 'crane', 'mouse', 'titi', 'Angora',\n",
       "       'Boston_bull', 'silky_terrier', 'Japanese_spaniel', 'sandbar',\n",
       "       'balance_beam', 'black-footed_ferret', 'miniature_schnauzer',\n",
       "       'Blenheim_spaniel', 'bathtub', 'Saint_Bernard', 'redbone',\n",
       "       'goldfish', 'Norfolk_terrier', 'llama', 'koala', 'pillow',\n",
       "       'jersey', 'chow', 'minibus', 'malamute', 'bulletproof_vest',\n",
       "       'beach_wagon', 'cairn', 'plunger', 'paper_towel', 'wing',\n",
       "       'English_foxhound', 'Brittany_spaniel', 'bolete', 'ashcan',\n",
       "       'box_turtle', 'guinea_pig', 'bison', 'bull_mastiff', 'racket',\n",
       "       'cardoon', 'Tibetan_mastiff', 'window_screen', 'Irish_terrier',\n",
       "       'agama', 'common_newt', 'car_wheel', 'gorilla', 'bagel', 'clumber',\n",
       "       'Egyptian_cat', 'television', 'boxer', 'brown_bear', 'leafhopper',\n",
       "       'German_shepherd', 'Border_collie', 'menu', 'wolf_spider',\n",
       "       'bathing_cap', 'stinkhorn', 'drumstick', 'mask',\n",
       "       'Scottish_deerhound', 'shower_curtain', 'Appenzeller',\n",
       "       'plastic_bag', 'swimming_trunks', 'prairie_chicken', 'red_wolf',\n",
       "       'Maltese_dog', 'snail', 'gibbon', 'Gordon_setter', 'black_swan',\n",
       "       'beacon', 'wool', 'cowboy_boot', 'Rottweiler', 'poncho', 'swing',\n",
       "       'Arctic_fox', 'bib', 'Italian_greyhound', 'steam_locomotive',\n",
       "       'fountain', 'chickadee', 'abaya', 'Border_terrier', 'bubble',\n",
       "       'chimpanzee', 'hammerhead', 'Norwegian_elkhound',\n",
       "       'Norwich_terrier', 'Airedale', 'Siamese_cat', 'sea_cucumber',\n",
       "       'seashore', 'nipple', 'moped', 'Arabian_camel', 'crayfish',\n",
       "       'wallaby', 'wire-haired_fox_terrier', 'toilet_seat',\n",
       "       'Old_English_sheepdog', 'pajama', 'Walker_hound', 'shovel',\n",
       "       'bucket', 'Sealyham_terrier', 'Windsor_tie', 'Siberian_husky',\n",
       "       'quill', 'Persian_cat', 'European_fire_salamander',\n",
       "       'three-toed_sloth', 'swab', 'echidna', 'tennis_ball', 'Lhasa',\n",
       "       'coral_reef', 'keeshond', 'mink', 'screw', 'basset', 'wreck',\n",
       "       'kimono', 'German_short-haired_pointer', 'joystick', 'microwave',\n",
       "       'Tibetan_terrier', 'Irish_wolfhound', 'Samoyed', 'loggerhead',\n",
       "       'French_loaf', 'Irish_setter', 'komondor', 'purse', 'greenhouse',\n",
       "       'broccoli', 'shopping_basket', 'macaque', 'squirrel_monkey',\n",
       "       'green_lizard', 'parallel_bars', 'cloak', 'chest', 'sundial',\n",
       "       'mosquito_net', 'bath_towel', 'cuirass', 'zebra', 'lumbermill',\n",
       "       'wallet', 'feather_boa', 'English_springer', 'electric_fan',\n",
       "       'hippopotamus', 'ox', 'quilt', 'assault_rifle', 'axolotl', 'pot',\n",
       "       'toyshop', 'pizza', 'scuba_diver', 'beaver', 'Mexican_hairless',\n",
       "       'cliff', 'loupe', 'wild_boar', 'jaguar', 'hog', 'polecat', 'lion',\n",
       "       'EntleBucher', 'hand-held_computer', 'washbasin', 'whiptail',\n",
       "       'rock_crab', 'hare', 'shoji', 'sombrero', 'bell_cote', 'rifle',\n",
       "       'goose', 'pickup', 'sunglasses', 'limousine', 'bow_tie', 'pretzel',\n",
       "       'marmot', 'ice_lolly', 'vacuum', 'dalmatian', 'prison',\n",
       "       'shower_cap', 'sliding_door', 'dugong', 'otterhound', 'eel',\n",
       "       'binder', 'bullfrog', 'soap_dispenser', 'sea_lion', 'carton',\n",
       "       'brass', 'mitten', 'golfcart', 'cougar', 'warthog', 'umbrella',\n",
       "       'neck_brace', 'cup', 'book_jacket', 'padlock', 'cab', 'chime',\n",
       "       'Leonberg', 'viaduct', 'American_black_bear', 'tub', 'hand_blower',\n",
       "       'king_penguin', 'rotisserie', 'bannister', 'passenger_car',\n",
       "       'mongoose', 'dhole', 'consomme', 'valley', 'park_bench',\n",
       "       'mushroom', 'barrow', 'parachute', 'desktop_computer', 'snorkel',\n",
       "       'wok', 'affenpinscher', 'space_shuttle', 'rain_barrel',\n",
       "       'ballplayer', 'mountain_tent', 'oxcart', 'buckeye', 'sunglass',\n",
       "       'croquet_ball', 'refrigerator', 'snow_leopard', 'tripod',\n",
       "       'rapeseed', 'tiger_cat', 'Bernese_mountain_dog', 'notebook',\n",
       "       'maraca', 'pool_table', 'lakeside', 'theater_curtain', 'pier',\n",
       "       'cheetah', 'mousetrap', 'pop_bottle', 'soccer_ball', 'wombat',\n",
       "       'rhinoceros_beetle', 'paddlewheel', 'paintbrush', 'maze',\n",
       "       'hatchet', 'chain', 'jigsaw_puzzle', 'switch',\n",
       "       'Kerry_blue_terrier', 'barbell', 'convertible',\n",
       "       'entertainment_center', 'file', 'guillotine', 'nail',\n",
       "       'standard_schnauzer', 'bow', 'grocery_store', 'boathouse', 'conch',\n",
       "       'Bouvier_des_Flandres', 'grey_fox', 'shopping_cart', 'meerkat',\n",
       "       'grand_piano', 'envelope', 'screen', 'coffeepot', 'printer',\n",
       "       'otter', 'restaurant', 'bonnet', 'crossword_puzzle', 'go-kart',\n",
       "       'Sussex_spaniel', 'orangutan', 'canoe', 'barber_chair',\n",
       "       'traffic_light', 'ibex', 'can_opener', 'Indian_elephant',\n",
       "       'spatula', 'banana'], dtype=object)"
      ]
     },
     "execution_count": 75,
     "metadata": {},
     "output_type": "execute_result"
    }
   ],
   "source": [
    "image_pred_clean.p3.unique()"
   ]
  },
  {
   "cell_type": "code",
   "execution_count": 76,
   "id": "1efcdd2e",
   "metadata": {},
   "outputs": [],
   "source": [
    "# Remove _\n",
    "image_pred_clean.p1 = image_pred_clean.p1.str.replace('_', ' ')\n",
    "image_pred_clean.p2 = image_pred_clean.p2.str.replace('_', ' ')\n",
    "image_pred_clean.p3 = image_pred_clean.p3.str.replace('_', ' ')"
   ]
  },
  {
   "cell_type": "code",
   "execution_count": 77,
   "id": "de2098f4",
   "metadata": {},
   "outputs": [],
   "source": [
    "# Capitalize all first letters\n",
    "image_pred_clean.p1 = image_pred_clean.p1.str.title()\n",
    "image_pred_clean.p2 = image_pred_clean.p2.str.title()\n",
    "image_pred_clean.p3 = image_pred_clean.p3.str.title()"
   ]
  },
  {
   "cell_type": "markdown",
   "id": "bb5f40ac",
   "metadata": {},
   "source": [
    "#### Test"
   ]
  },
  {
   "cell_type": "code",
   "execution_count": 78,
   "id": "c71eb1ad",
   "metadata": {},
   "outputs": [
    {
     "data": {
      "text/plain": [
       "array(['Welsh Springer Spaniel', 'Redbone', 'German Shepherd',\n",
       "       'Rhodesian Ridgeback', 'Miniature Pinscher',\n",
       "       'Bernese Mountain Dog', 'Box Turtle', 'Chow', 'Shopping Cart',\n",
       "       'Miniature Poodle', 'Golden Retriever', 'Gordon Setter',\n",
       "       'Walker Hound', 'Pug', 'Bloodhound', 'Lhasa', 'English Setter',\n",
       "       'Hen', 'Desktop Computer', 'Italian Greyhound', 'Maltese Dog',\n",
       "       'Three-Toed Sloth', 'Ox', 'Malamute', 'Guinea Pig',\n",
       "       'Soft-Coated Wheaten Terrier', 'Chihuahua',\n",
       "       'Black-And-Tan Coonhound', 'Coho', 'Toy Terrier',\n",
       "       'Blenheim Spaniel', 'Pembroke', 'Llama',\n",
       "       'Chesapeake Bay Retriever', 'Curly-Coated Retriever', 'Dalmatian',\n",
       "       'Ibizan Hound', 'Border Collie', 'Labrador Retriever', 'Seat Belt',\n",
       "       'Snail', 'Miniature Schnauzer', 'Airedale', 'Triceratops', 'Swab',\n",
       "       'Hay', 'Hyena', 'Jigsaw Puzzle', 'West Highland White Terrier',\n",
       "       'Toy Poodle', 'Giant Schnauzer', 'Vizsla', 'Vacuum', 'Rottweiler',\n",
       "       'Siberian Husky', 'Teddy', 'Papillon', 'Saint Bernard',\n",
       "       'Porcupine', 'Goose', 'Tibetan Terrier', 'Borzoi', 'Beagle',\n",
       "       'Hare', 'Yorkshire Terrier', 'Pomeranian', 'Electric Fan',\n",
       "       'Web Site', 'Ibex', 'Kuvasz', 'Fire Engine', 'Lorikeet',\n",
       "       'Flat-Coated Retriever', 'Toyshop', 'Common Iguana',\n",
       "       'Norwegian Elkhound', 'Frilled Lizard', 'Leatherback Turtle',\n",
       "       'Hamster', 'Angora', 'Arctic Fox', 'Trombone', 'Canoe',\n",
       "       'King Penguin', 'Shopping Basket', 'Standard Poodle',\n",
       "       'Staffordshire Bullterrier', 'Basenji', 'Lakeland Terrier',\n",
       "       'American Staffordshire Terrier', 'Bearskin', 'Shih-Tzu',\n",
       "       'Bustard', 'Crash Helmet', 'French Bulldog', 'Pekinese',\n",
       "       'Komondor', 'Ski Mask', 'Malinois', 'Kelpie', 'Brittany Spaniel',\n",
       "       'Cocker Spaniel', 'Shower Curtain', 'Basset', 'Jellyfish',\n",
       "       'Doormat', 'Arabian Camel', 'Lynx', 'Hog', 'Comic Book', 'Minivan',\n",
       "       'Seashore', 'Cuirass', 'Brabancon Griffon', 'Candle', 'Eskimo Dog',\n",
       "       'Weasel', 'Christmas Stocking', 'Washbasin', 'Car Mirror',\n",
       "       'Piggy Bank', 'Pot', 'Boathouse', 'Mud Turtle',\n",
       "       'German Short-Haired Pointer', 'Shetland Sheepdog',\n",
       "       'Irish Terrier', 'Cairn', 'Platypus', 'English Springer',\n",
       "       'Whippet', 'Ping-Pong Ball', 'Sea Urchin', 'Bow Tie',\n",
       "       'Window Shade', \"Jack-O'-Lantern\", 'Sorrel', 'Sussex Spaniel',\n",
       "       'Peacock', 'Axolotl', 'Wool', 'Banana', 'Dandie Dinmont',\n",
       "       'Norwich Terrier', 'Wood Rabbit', 'Dhole', 'Keeshond',\n",
       "       'Norfolk Terrier', 'Lacewing', 'Dingo', 'Brown Bear',\n",
       "       'Old English Sheepdog', 'Scorpion', 'Flamingo', 'Microphone',\n",
       "       'Samoyed', 'Pitcher', 'African Hunting Dog', 'Refrigerator',\n",
       "       'Picket Fence', 'Tub', 'Zebra', 'Hermit Crab', 'Swing', 'Doberman',\n",
       "       'Park Bench', 'Feather Boa', 'Loafer', 'Stone Wall', 'Ice Bear',\n",
       "       'Prayer Rug', 'Chimpanzee', 'China Cabinet', 'Bee Eater',\n",
       "       'Tennis Ball', 'Carton', 'Killer Whale', 'Ostrich', 'Terrapin',\n",
       "       'Siamese Cat', 'Gondola', 'Great Pyrenees', 'Microwave',\n",
       "       'Starfish', 'Sandbar', 'Tusker', 'Motor Scooter', 'Ram',\n",
       "       'Leaf Beetle', 'Wombat', 'Schipperke', 'Newfoundland',\n",
       "       'Bull Mastiff', 'Water Bottle', 'Suit', 'Toilet Seat', 'Collie',\n",
       "       'Robin', 'Cardigan', 'Greater Swiss Mountain Dog', 'Slug',\n",
       "       'Toilet Tissue', 'Acorn Squash', 'Soccer Ball',\n",
       "       'African Crocodile', 'Tick', 'Ocarina', 'Boxer', 'Street Sign',\n",
       "       'Bow', 'Stove', 'Paper Towel', 'Upright', 'Dough',\n",
       "       'Scottish Deerhound', 'Bath Towel', 'Standard Schnauzer',\n",
       "       'Walking Stick', 'Irish Water Spaniel', 'Bubble', 'Boston Bull',\n",
       "       'Book Jacket', 'Rain Barrel', 'Black-Footed Ferret', 'Guenon',\n",
       "       'Japanese Spaniel', 'Water Buffalo', 'Patio', 'Cowboy Hat',\n",
       "       'Dogsled', 'Maze', 'Harp', 'Panpipe', 'Cash Machine', 'Mailbox',\n",
       "       'Wallaby', 'Entlebucher', 'Earthstar', 'Pillow', 'Bluetick',\n",
       "       'Space Heater', 'Carousel', 'Irish Setter', 'Birdhouse', 'Snorkel',\n",
       "       'Bald Eagle', 'Koala', 'Leonberg', 'Cheetah', 'Minibus',\n",
       "       'Weimaraner', 'Clog', 'Dishwasher', 'White Wolf', 'Sliding Door',\n",
       "       'Damselfly', 'Great Dane', 'Tibetan Mastiff', 'Cheeseburger',\n",
       "       'Fiddler Crab', 'Bannister', 'Crane', 'Scotch Terrier',\n",
       "       'Snowmobile', 'Badger', 'Bighorn', 'Geyser', 'Barrow', 'Bison',\n",
       "       'Mexican Hairless', 'Ice Lolly', 'Sea Lion', 'Dining Table',\n",
       "       'Groenendael', 'Australian Terrier', 'Beaver', 'Briard',\n",
       "       'Appenzeller', 'Grey Fox', 'Mousetrap', 'Hippopotamus',\n",
       "       'Border Terrier', 'Hummingbird', 'Tailed Frog', 'Otter',\n",
       "       'Egyptian Cat', 'Four-Poster', 'Wild Boar', 'Bathtub', 'Agama',\n",
       "       'Muzzle', 'Hotdog', 'Bib', 'Espresso', 'Timber Wolf', 'Meerkat',\n",
       "       'Nail', 'Hammer', 'Home Theater', 'Alp', 'Bonnet', 'Handkerchief',\n",
       "       'Hand Blower', 'Polecat', 'Lakeside', 'Studio Couch', 'Cup',\n",
       "       'Cliff', 'Bedlington Terrier', 'Lawn Mower', 'Balloon',\n",
       "       'Sunglasses', 'Rapeseed', 'Traffic Light', 'Coil', 'Binoculars',\n",
       "       'Paddle', 'Tiger Shark', 'Sulphur-Crested Cockatoo',\n",
       "       'Wire-Haired Fox Terrier', 'Saluki', 'American Black Bear',\n",
       "       'Rotisserie', 'Conch', 'Skunk', 'Bookshop', 'Radio Telescope',\n",
       "       'Cougar', 'African Grey', 'Coral Reef', 'Lion', 'Maillot',\n",
       "       'Madagascar Cat', 'Tabby', 'Silky Terrier', 'Giant Panda',\n",
       "       'Long-Horned Beetle', 'Afghan Hound', 'Clumber', 'Sundial',\n",
       "       'Padlock', 'Pool Table', 'Quilt', 'Beach Wagon', 'Remote Control',\n",
       "       'Bakery', 'Pedestal', 'Gas Pump', 'Bookcase', 'Shield', 'Loupe',\n",
       "       'Restaurant', 'Prison', 'School Bus', 'Cowboy Boot', 'Jersey',\n",
       "       'Wooden Spoon', 'Leopard', 'Mortarboard', 'Teapot',\n",
       "       'Military Uniform', 'Washer', 'Coffee Mug', 'Fountain',\n",
       "       'Pencil Box', 'Barbell', 'Grille', 'Revolver', 'Envelope',\n",
       "       'Syringe', 'Marmot', 'Pole', 'Laptop', 'Basketball', 'Tricycle',\n",
       "       'Convertible', 'Limousine', 'Orange'], dtype=object)"
      ]
     },
     "execution_count": 78,
     "metadata": {},
     "output_type": "execute_result"
    }
   ],
   "source": [
    "image_pred_clean.p1.unique()"
   ]
  },
  {
   "cell_type": "code",
   "execution_count": 79,
   "id": "4ef3ae34",
   "metadata": {},
   "outputs": [
    {
     "data": {
      "text/plain": [
       "array(['Collie', 'Miniature Pinscher', 'Malinois', 'Redbone',\n",
       "       'Rottweiler', 'English Springer', 'Mud Turtle', 'Tibetan Mastiff',\n",
       "       'Shopping Basket', 'Komondor', 'Yorkshire Terrier',\n",
       "       'English Foxhound', 'Bull Mastiff', 'German Shepherd', 'Shih-Tzu',\n",
       "       'Newfoundland', 'Cock', 'Desk', 'Toy Terrier', 'Toy Poodle',\n",
       "       'Otter', 'Chesapeake Bay Retriever', 'Siberian Husky', 'Skunk',\n",
       "       'Afghan Hound', 'Bloodhound', 'Barracouta', 'Papillon',\n",
       "       'Cocker Spaniel', 'Chow', 'Irish Terrier', 'Chain Saw', 'Beagle',\n",
       "       'Giant Schnauzer', 'Labrador Retriever', 'Pembroke', 'Chihuahua',\n",
       "       'Weimaraner', 'Slug', 'Brittany Spaniel', 'Standard Schnauzer',\n",
       "       'Teddy', 'Armadillo', 'African Hunting Dog', 'Vizsla', 'Doormat',\n",
       "       'Pug', 'Italian Greyhound', 'Samoyed', 'Pomeranian',\n",
       "       'Miniature Poodle', 'Lakeland Terrier', 'Irish Setter', 'Swab',\n",
       "       'Malamute', 'Bath Towel', 'Border Collie', 'Leonberg', 'Drake',\n",
       "       'French Bulldog', 'Ice Bear', 'Christmas Stocking',\n",
       "       'Golden Retriever', 'Standard Poodle', 'Dhole', 'Kuvasz',\n",
       "       'Cardigan', 'Silky Terrier', 'Spotlight', 'Dishwasher', 'Bighorn',\n",
       "       'Tow Truck', 'Hummingbird', 'English Setter', 'Prayer Rug',\n",
       "       'Frilled Lizard', 'Pekinese', 'Ox', 'Boxer', 'Hog', 'Guinea Pig',\n",
       "       'Hen', 'Wallaby', 'Cowboy Boot', 'Cornet', 'Minivan', 'Paddle',\n",
       "       'Basset', 'Hamper', 'Bedlington Terrier', 'Shetland Sheepdog',\n",
       "       'Bow', 'Lhasa', 'Pelican', 'Toaster', 'Groenendael',\n",
       "       'Australian Terrier', 'Llama', 'Knee Pad', 'Pillow',\n",
       "       'Ibizan Hound', 'Old English Sheepdog', 'Welsh Springer Spaniel',\n",
       "       'Coral Reef', 'Bison', 'Waffle Iron', 'Tabby', 'Bib', 'Police Van',\n",
       "       'Eskimo Dog', 'Breastplate', 'German Short-Haired Pointer',\n",
       "       'Norfolk Terrier', 'Blenheim Spaniel', 'Pickup',\n",
       "       'Miniature Schnauzer', 'Lampshade', 'Tibetan Terrier',\n",
       "       'Siamese Cat', 'Borzoi', 'Studio Couch', 'Toilet Seat', 'Hamster',\n",
       "       'Seat Belt', 'Keeshond', 'Koala', 'Hair Spray', 'Saint Bernard',\n",
       "       'Tray', 'American Staffordshire Terrier', 'Birdhouse', 'Terrapin',\n",
       "       'Staffordshire Bullterrier', 'Briard',\n",
       "       'West Highland White Terrier', 'Spotted Salamander', 'Tennis Ball',\n",
       "       'Porcupine', 'Corn', 'Basenji', 'Otterhound', 'European Gallinule',\n",
       "       'Indri', 'Tailed Frog', 'Beach Wagon', 'Siamang', 'Orange',\n",
       "       'Home Theater', 'Cairn', 'Hare', 'Norwegian Elkhound',\n",
       "       'Brabancon Griffon', 'American Black Bear', 'Sulphur Butterfly',\n",
       "       'Sealyham Terrier', 'Walker Hound', 'Tarantula', 'Persian Cat',\n",
       "       'Coral Fungus', 'Accordion', 'Kelpie', 'Great Pyrenees',\n",
       "       'Wood Rabbit', 'Black-And-Tan Coonhound', 'Sunglasses', 'Plow',\n",
       "       'Whippet', 'Rain Barrel', 'Bathtub', 'Tiger', 'Snail', 'Tick',\n",
       "       'Wire-Haired Fox Terrier', 'Water Bottle', 'Wig', 'Platypus',\n",
       "       'Irish Wolfhound', 'Ram', 'Gorilla', 'Entertainment Center',\n",
       "       'Toucan', 'Mask', 'Shopping Cart', 'Sussex Spaniel', 'Crate',\n",
       "       'Grey Whale', 'Badger', 'Airedale', 'Arabian Camel', 'Cockroach',\n",
       "       'Lifeboat', 'Rotisserie', 'Goldfish', 'Stingray', 'Warthog',\n",
       "       'Bobsled', 'Rhinoceros Beetle', 'Beaver', 'Brown Bear',\n",
       "       'Maltese Dog', 'Weasel', 'Quill', 'Rhodesian Ridgeback',\n",
       "       'Arctic Fox', 'Ashcan', 'Bow Tie', 'Soft-Coated Wheaten Terrier',\n",
       "       'Schipperke', 'Bearskin', 'Kerry Blue Terrier', 'Ice Lolly',\n",
       "       'American Alligator', 'Mosquito Net', 'Sea Lion', 'Boston Bull',\n",
       "       'Nail', 'Black-Footed Ferret', 'Promontory', 'Sarong', 'Doberman',\n",
       "       'Space Heater', 'Great Dane', 'Mailbox', 'Saluki', 'Bakery',\n",
       "       'Sandal', 'Leafhopper', 'Barrel', 'Water Buffalo', 'Polecat',\n",
       "       'Macaque', 'Japanese Spaniel', 'Folding Chair', 'Trench Coat',\n",
       "       'Angora', 'Junco', 'Crib', 'Dalmatian', 'Snowmobile',\n",
       "       'Flat-Coated Retriever', 'Streetcar', 'Window Screen', 'Bannister',\n",
       "       'Hair Slide', 'Meerkat', 'Cannon', 'Jaguar', 'Border Terrier',\n",
       "       'Greater Swiss Mountain Dog', 'Hay', 'Apron', 'Cloak', 'Radiator',\n",
       "       'Muzzle', 'Feather Boa', 'Rifle', 'Chimpanzee', 'Loggerhead',\n",
       "       'Torch', 'Mexican Hairless', 'Spindle', 'Triceratops',\n",
       "       'Appenzeller', 'Stove', 'Dingo', 'Oscilloscope', 'Common Newt',\n",
       "       'Hotdog', 'Medicine Chest', 'Quail', 'Horse Cart', 'Four-Poster',\n",
       "       'Pier', 'Red Fox', 'Affenpinscher', 'Assault Rifle',\n",
       "       'Mashed Potato', 'Moped', 'Hyena', 'Seashore', 'Tub', 'Sports Car',\n",
       "       'Swing', 'Mink', 'Bluetick', 'Neck Brace', 'Grey Fox', 'Mongoose',\n",
       "       'Fur Coat', 'Scotch Terrier', 'Spatula', 'Paper Towel', 'Shoji',\n",
       "       'Toyshop', 'Banded Gecko', 'Peacock', 'Crossword Puzzle',\n",
       "       'Tree Frog', 'Wombat', 'Turnstile', 'Sleeping Bag', 'Quilt',\n",
       "       'Gila Monster', 'Giant Panda', 'Dandie Dinmont', 'Handkerchief',\n",
       "       'Sombrero', 'Indian Elephant', 'Coffee Mug', 'Gibbon', 'Carton',\n",
       "       'Screw', 'Minibus', 'Hatchet', 'Window Shade', 'Lawn Mower',\n",
       "       'Washbasin', 'Sock', 'Prison', 'Patio', 'China Cabinet',\n",
       "       'Chain Mail', 'Breakwater', 'Computer Keyboard', 'Goose',\n",
       "       'Lakeside', 'Solar Dish', 'Table Lamp', 'Windsor Tie',\n",
       "       'Punching Bag', 'Comic Book', 'Sunglass', 'Great White Shark',\n",
       "       'Timber Wolf', 'Fountain', 'Dugong', 'Marmot', 'Barbershop',\n",
       "       'Shovel', 'Curly-Coated Retriever', 'Lesser Panda', 'Monitor',\n",
       "       'Crutch', 'Cash Machine', 'Printer', 'Volcano', 'Wallet', 'Laptop',\n",
       "       'Bathing Cap', 'Confectionery', 'Dam', 'Killer Whale', 'Canoe',\n",
       "       'Madagascar Cat', 'Jean', 'Boathouse', 'Cliff', 'Maillot', 'Ipod',\n",
       "       'Hand-Held Computer', 'Black Widow', 'Norwich Terrier', 'Necklace',\n",
       "       'Dining Table', 'Binoculars', 'Cradle', 'Sea Urchin', 'Cougar',\n",
       "       'Entlebucher', 'Basketball', 'Lighter', 'Saltshaker', 'Harvester',\n",
       "       'Television', 'Envelope', 'House Finch', 'Web Site', 'Palace',\n",
       "       'Shower Curtain', 'Cab', 'Snorkel', 'Jigsaw Puzzle', 'Sweatshirt',\n",
       "       'White Wolf', 'Sliding Door', 'Academic Gown', 'Cowboy Hat',\n",
       "       'Can Opener', 'Cup', 'Rule', 'Soccer Ball', 'Bucket', 'Racket',\n",
       "       'Menu', 'Purse', 'Bernese Mountain Dog', 'Dumbbell', 'Projectile',\n",
       "       'Dock', 'Oxygen Mask', 'Sandbar', 'Umbrella', 'Shower Cap',\n",
       "       'Bagel'], dtype=object)"
      ]
     },
     "execution_count": 79,
     "metadata": {},
     "output_type": "execute_result"
    }
   ],
   "source": [
    "image_pred_clean.p2.unique()"
   ]
  },
  {
   "cell_type": "code",
   "execution_count": 80,
   "id": "b2d71752",
   "metadata": {},
   "outputs": [
    {
     "data": {
      "text/plain": [
       "array(['Shetland Sheepdog', 'Rhodesian Ridgeback', 'Bloodhound',\n",
       "       'Miniature Pinscher', 'Doberman', 'Greater Swiss Mountain Dog',\n",
       "       'Terrapin', 'Fur Coat', 'Golden Retriever',\n",
       "       'Soft-Coated Wheaten Terrier', 'Labrador Retriever', 'Pekinese',\n",
       "       'Ibizan Hound', 'French Bulldog', 'Malinois', 'Dandie Dinmont',\n",
       "       'Borzoi', 'Partridge', 'Bookcase', 'Basenji', 'Miniature Poodle',\n",
       "       'Great Grey Owl', 'Groenendael', 'Eskimo Dog', 'Hamster', 'Briard',\n",
       "       'Papillon', 'Flat-Coated Retriever', 'Gar', 'Chihuahua',\n",
       "       'Shih-Tzu', 'Pomeranian', 'Dingo', 'Power Drill', 'Saluki',\n",
       "       'Great Pyrenees', 'West Highland White Terrier', 'Collie',\n",
       "       'Toy Poodle', 'Vizsla', 'Acorn', 'Giant Schnauzer', 'Teddy',\n",
       "       'Common Iguana', 'Wig', 'Water Buffalo', 'Coyote', 'Seat Belt',\n",
       "       'Kelpie', 'Space Heater', 'Brabancon Griffon', 'Standard Poodle',\n",
       "       'Beagle', 'Irish Water Spaniel', 'Bluetick', 'Weimaraner',\n",
       "       'Chesapeake Bay Retriever', 'Toilet Tissue',\n",
       "       'Black-And-Tan Coonhound', 'Kuvasz', 'Christmas Stocking',\n",
       "       'Badger', 'Hen', 'Staffordshire Bullterrier', 'Yorkshire Terrier',\n",
       "       'Lakeland Terrier', 'Weasel', 'Ski Mask', 'Cocker Spaniel',\n",
       "       'Australian Terrier', 'Lampshade', 'Oscilloscope', 'Ram', 'Jeep',\n",
       "       'Ice Bear', 'African Grey', 'Great Dane', 'Curly-Coated Retriever',\n",
       "       'Doormat', 'African Chameleon', 'Schipperke', 'Muzzle',\n",
       "       'Triceratops', 'Newfoundland', 'Band Aid', 'Wood Rabbit',\n",
       "       'White Wolf', 'Giant Panda', 'Welsh Springer Spaniel',\n",
       "       'French Horn', 'Toy Terrier', 'Pembroke', 'Cardigan', 'Bassinet',\n",
       "       'Pug', 'Afghan Hound', 'American Staffordshire Terrier', 'Whippet',\n",
       "       'English Setter', 'Panpipe', 'Crane', 'Mouse', 'Titi', 'Angora',\n",
       "       'Boston Bull', 'Silky Terrier', 'Japanese Spaniel', 'Sandbar',\n",
       "       'Balance Beam', 'Black-Footed Ferret', 'Miniature Schnauzer',\n",
       "       'Blenheim Spaniel', 'Bathtub', 'Saint Bernard', 'Redbone',\n",
       "       'Goldfish', 'Norfolk Terrier', 'Llama', 'Koala', 'Pillow',\n",
       "       'Jersey', 'Chow', 'Minibus', 'Malamute', 'Bulletproof Vest',\n",
       "       'Beach Wagon', 'Cairn', 'Plunger', 'Paper Towel', 'Wing',\n",
       "       'English Foxhound', 'Brittany Spaniel', 'Bolete', 'Ashcan',\n",
       "       'Box Turtle', 'Guinea Pig', 'Bison', 'Bull Mastiff', 'Racket',\n",
       "       'Cardoon', 'Tibetan Mastiff', 'Window Screen', 'Irish Terrier',\n",
       "       'Agama', 'Common Newt', 'Car Wheel', 'Gorilla', 'Bagel', 'Clumber',\n",
       "       'Egyptian Cat', 'Television', 'Boxer', 'Brown Bear', 'Leafhopper',\n",
       "       'German Shepherd', 'Border Collie', 'Menu', 'Wolf Spider',\n",
       "       'Bathing Cap', 'Stinkhorn', 'Drumstick', 'Mask',\n",
       "       'Scottish Deerhound', 'Shower Curtain', 'Appenzeller',\n",
       "       'Plastic Bag', 'Swimming Trunks', 'Prairie Chicken', 'Red Wolf',\n",
       "       'Maltese Dog', 'Snail', 'Gibbon', 'Gordon Setter', 'Black Swan',\n",
       "       'Beacon', 'Wool', 'Cowboy Boot', 'Rottweiler', 'Poncho', 'Swing',\n",
       "       'Arctic Fox', 'Bib', 'Italian Greyhound', 'Steam Locomotive',\n",
       "       'Fountain', 'Chickadee', 'Abaya', 'Border Terrier', 'Bubble',\n",
       "       'Chimpanzee', 'Hammerhead', 'Norwegian Elkhound',\n",
       "       'Norwich Terrier', 'Airedale', 'Siamese Cat', 'Sea Cucumber',\n",
       "       'Seashore', 'Nipple', 'Moped', 'Arabian Camel', 'Crayfish',\n",
       "       'Wallaby', 'Wire-Haired Fox Terrier', 'Toilet Seat',\n",
       "       'Old English Sheepdog', 'Pajama', 'Walker Hound', 'Shovel',\n",
       "       'Bucket', 'Sealyham Terrier', 'Windsor Tie', 'Siberian Husky',\n",
       "       'Quill', 'Persian Cat', 'European Fire Salamander',\n",
       "       'Three-Toed Sloth', 'Swab', 'Echidna', 'Tennis Ball', 'Lhasa',\n",
       "       'Coral Reef', 'Keeshond', 'Mink', 'Screw', 'Basset', 'Wreck',\n",
       "       'Kimono', 'German Short-Haired Pointer', 'Joystick', 'Microwave',\n",
       "       'Tibetan Terrier', 'Irish Wolfhound', 'Samoyed', 'Loggerhead',\n",
       "       'French Loaf', 'Irish Setter', 'Komondor', 'Purse', 'Greenhouse',\n",
       "       'Broccoli', 'Shopping Basket', 'Macaque', 'Squirrel Monkey',\n",
       "       'Green Lizard', 'Parallel Bars', 'Cloak', 'Chest', 'Sundial',\n",
       "       'Mosquito Net', 'Bath Towel', 'Cuirass', 'Zebra', 'Lumbermill',\n",
       "       'Wallet', 'Feather Boa', 'English Springer', 'Electric Fan',\n",
       "       'Hippopotamus', 'Ox', 'Quilt', 'Assault Rifle', 'Axolotl', 'Pot',\n",
       "       'Toyshop', 'Pizza', 'Scuba Diver', 'Beaver', 'Mexican Hairless',\n",
       "       'Cliff', 'Loupe', 'Wild Boar', 'Jaguar', 'Hog', 'Polecat', 'Lion',\n",
       "       'Entlebucher', 'Hand-Held Computer', 'Washbasin', 'Whiptail',\n",
       "       'Rock Crab', 'Hare', 'Shoji', 'Sombrero', 'Bell Cote', 'Rifle',\n",
       "       'Goose', 'Pickup', 'Sunglasses', 'Limousine', 'Bow Tie', 'Pretzel',\n",
       "       'Marmot', 'Ice Lolly', 'Vacuum', 'Dalmatian', 'Prison',\n",
       "       'Shower Cap', 'Sliding Door', 'Dugong', 'Otterhound', 'Eel',\n",
       "       'Binder', 'Bullfrog', 'Soap Dispenser', 'Sea Lion', 'Carton',\n",
       "       'Brass', 'Mitten', 'Golfcart', 'Cougar', 'Warthog', 'Umbrella',\n",
       "       'Neck Brace', 'Cup', 'Book Jacket', 'Padlock', 'Cab', 'Chime',\n",
       "       'Leonberg', 'Viaduct', 'American Black Bear', 'Tub', 'Hand Blower',\n",
       "       'King Penguin', 'Rotisserie', 'Bannister', 'Passenger Car',\n",
       "       'Mongoose', 'Dhole', 'Consomme', 'Valley', 'Park Bench',\n",
       "       'Mushroom', 'Barrow', 'Parachute', 'Desktop Computer', 'Snorkel',\n",
       "       'Wok', 'Affenpinscher', 'Space Shuttle', 'Rain Barrel',\n",
       "       'Ballplayer', 'Mountain Tent', 'Oxcart', 'Buckeye', 'Sunglass',\n",
       "       'Croquet Ball', 'Refrigerator', 'Snow Leopard', 'Tripod',\n",
       "       'Rapeseed', 'Tiger Cat', 'Bernese Mountain Dog', 'Notebook',\n",
       "       'Maraca', 'Pool Table', 'Lakeside', 'Theater Curtain', 'Pier',\n",
       "       'Cheetah', 'Mousetrap', 'Pop Bottle', 'Soccer Ball', 'Wombat',\n",
       "       'Rhinoceros Beetle', 'Paddlewheel', 'Paintbrush', 'Maze',\n",
       "       'Hatchet', 'Chain', 'Jigsaw Puzzle', 'Switch',\n",
       "       'Kerry Blue Terrier', 'Barbell', 'Convertible',\n",
       "       'Entertainment Center', 'File', 'Guillotine', 'Nail',\n",
       "       'Standard Schnauzer', 'Bow', 'Grocery Store', 'Boathouse', 'Conch',\n",
       "       'Bouvier Des Flandres', 'Grey Fox', 'Shopping Cart', 'Meerkat',\n",
       "       'Grand Piano', 'Envelope', 'Screen', 'Coffeepot', 'Printer',\n",
       "       'Otter', 'Restaurant', 'Bonnet', 'Crossword Puzzle', 'Go-Kart',\n",
       "       'Sussex Spaniel', 'Orangutan', 'Canoe', 'Barber Chair',\n",
       "       'Traffic Light', 'Ibex', 'Can Opener', 'Indian Elephant',\n",
       "       'Spatula', 'Banana'], dtype=object)"
      ]
     },
     "execution_count": 80,
     "metadata": {},
     "output_type": "execute_result"
    }
   ],
   "source": [
    "image_pred_clean.p3.unique()"
   ]
  },
  {
   "cell_type": "markdown",
   "id": "81af854d",
   "metadata": {},
   "source": [
    "##### tweet_data"
   ]
  },
  {
   "cell_type": "markdown",
   "id": "c6e23af8",
   "metadata": {},
   "source": [
    "- ####  *Wrong data type on favorite_count column*"
   ]
  },
  {
   "cell_type": "markdown",
   "id": "f3024bd0",
   "metadata": {},
   "source": [
    "#### Define\n",
    "\n",
    "Change datatype from float to integer using astype function"
   ]
  },
  {
   "cell_type": "markdown",
   "id": "2214ab50",
   "metadata": {},
   "source": [
    "#### Code "
   ]
  },
  {
   "cell_type": "code",
   "execution_count": 81,
   "id": "2c107f8f",
   "metadata": {},
   "outputs": [],
   "source": [
    "# Make a copy of the dataset\n",
    "tweet_data_clean = tweet_data.copy()"
   ]
  },
  {
   "cell_type": "code",
   "execution_count": 82,
   "id": "fcb9c570",
   "metadata": {},
   "outputs": [],
   "source": [
    "tweet_data_clean.favorite_count = tweet_data_clean.favorite_count.astype(int)"
   ]
  },
  {
   "cell_type": "markdown",
   "id": "bdb5d6ef",
   "metadata": {},
   "source": [
    "#### Test"
   ]
  },
  {
   "cell_type": "code",
   "execution_count": 83,
   "id": "cfe50063",
   "metadata": {},
   "outputs": [
    {
     "name": "stdout",
     "output_type": "stream",
     "text": [
      "<class 'pandas.core.frame.DataFrame'>\n",
      "RangeIndex: 2354 entries, 0 to 2353\n",
      "Data columns (total 4 columns):\n",
      " #   Column          Non-Null Count  Dtype\n",
      "---  ------          --------------  -----\n",
      " 0   tweet_id        2354 non-null   int64\n",
      " 1   retweet_count   2354 non-null   int64\n",
      " 2   favorite_count  2354 non-null   int64\n",
      " 3   retweeted       2354 non-null   bool \n",
      "dtypes: bool(1), int64(3)\n",
      "memory usage: 57.6 KB\n"
     ]
    }
   ],
   "source": [
    "tweet_data.info()"
   ]
  },
  {
   "cell_type": "markdown",
   "id": "f2fa5f6b",
   "metadata": {},
   "source": [
    "- ####  *Wrong data type on retweet_count column*"
   ]
  },
  {
   "cell_type": "markdown",
   "id": "0865ef7b",
   "metadata": {},
   "source": [
    "#### Define\n",
    "\n",
    "Change datatype from float to integer using astype function"
   ]
  },
  {
   "cell_type": "markdown",
   "id": "594dca74",
   "metadata": {},
   "source": [
    "#### Code "
   ]
  },
  {
   "cell_type": "code",
   "execution_count": 84,
   "id": "cbf02962",
   "metadata": {},
   "outputs": [],
   "source": [
    "tweet_data_clean.retweet_count = tweet_data_clean.retweet_count.astype(int)"
   ]
  },
  {
   "cell_type": "code",
   "execution_count": 85,
   "id": "6ffb7346",
   "metadata": {},
   "outputs": [],
   "source": [
    "#### Test"
   ]
  },
  {
   "cell_type": "code",
   "execution_count": 86,
   "id": "e9b3f871",
   "metadata": {},
   "outputs": [
    {
     "name": "stdout",
     "output_type": "stream",
     "text": [
      "<class 'pandas.core.frame.DataFrame'>\n",
      "RangeIndex: 2354 entries, 0 to 2353\n",
      "Data columns (total 4 columns):\n",
      " #   Column          Non-Null Count  Dtype\n",
      "---  ------          --------------  -----\n",
      " 0   tweet_id        2354 non-null   int64\n",
      " 1   retweet_count   2354 non-null   int64\n",
      " 2   favorite_count  2354 non-null   int64\n",
      " 3   retweeted       2354 non-null   bool \n",
      "dtypes: bool(1), int64(3)\n",
      "memory usage: 57.6 KB\n"
     ]
    }
   ],
   "source": [
    "tweet_data.info()"
   ]
  },
  {
   "cell_type": "markdown",
   "id": "7a945ce8",
   "metadata": {},
   "source": [
    "- #### *Wrong datatype on tweet_id*"
   ]
  },
  {
   "cell_type": "markdown",
   "id": "94358d39",
   "metadata": {},
   "source": [
    "#### Define\n",
    "\n",
    "- Change datatype on tweet_id from int to string using astype function"
   ]
  },
  {
   "cell_type": "markdown",
   "id": "99372ef1",
   "metadata": {},
   "source": [
    "##### Code"
   ]
  },
  {
   "cell_type": "code",
   "execution_count": 87,
   "id": "2089c74d",
   "metadata": {},
   "outputs": [],
   "source": [
    "# Change tweet_id column type to string\n",
    "tweet_data_clean.tweet_id = tweet_data_clean.tweet_id.astype(str)"
   ]
  },
  {
   "cell_type": "markdown",
   "id": "47d15bc3",
   "metadata": {},
   "source": [
    "#### Test"
   ]
  },
  {
   "cell_type": "code",
   "execution_count": 88,
   "id": "6934f2bb",
   "metadata": {},
   "outputs": [
    {
     "name": "stdout",
     "output_type": "stream",
     "text": [
      "<class 'pandas.core.frame.DataFrame'>\n",
      "RangeIndex: 2354 entries, 0 to 2353\n",
      "Data columns (total 4 columns):\n",
      " #   Column          Non-Null Count  Dtype \n",
      "---  ------          --------------  ----- \n",
      " 0   tweet_id        2354 non-null   object\n",
      " 1   retweet_count   2354 non-null   int64 \n",
      " 2   favorite_count  2354 non-null   int64 \n",
      " 3   retweeted       2354 non-null   bool  \n",
      "dtypes: bool(1), int64(2), object(1)\n",
      "memory usage: 57.6+ KB\n"
     ]
    }
   ],
   "source": [
    "tweet_data_clean.info()"
   ]
  },
  {
   "cell_type": "markdown",
   "id": "4a59eb92",
   "metadata": {},
   "source": [
    "### Cleaning Data Tidiness Issues"
   ]
  },
  {
   "cell_type": "markdown",
   "id": "49d63e03",
   "metadata": {},
   "source": [
    "###### twitter_arch\n",
    "- #### *Dog stages can be combined into 1 column*"
   ]
  },
  {
   "cell_type": "markdown",
   "id": "cc1a7a62",
   "metadata": {},
   "source": [
    "#### Define\n",
    "\n",
    "- Replace 'None' string in the dog stage columns with an empty string '' using a for loop with a replace function\n",
    "- Use the pandas str and cat functions to convert the dog stages to a new single column and drop the doggo, floofer, pupper and puppo columns"
   ]
  },
  {
   "cell_type": "markdown",
   "id": "f6fb538f",
   "metadata": {},
   "source": [
    "#### Code"
   ]
  },
  {
   "cell_type": "code",
   "execution_count": 89,
   "id": "f9d646fc",
   "metadata": {},
   "outputs": [],
   "source": [
    "# For loop to replace None with blanks\n",
    "dog_stage = ['doggo', 'pupper', 'floofer', 'puppo']\n",
    "for col in dog_stage:\n",
    "       twitter_arch_clean[col] = twitter_arch_clean[col].replace('None', '')\n",
    "\n",
    "# Create new column\n",
    "twitter_arch_clean['dog_stage'] = twitter_arch_clean.doggo.str.cat(twitter_arch_clean.floofer).str.cat(twitter_arch_clean.pupper).str.cat(twitter_arch_clean.puppo)\n",
    "\n",
    "#Fill the blanks with NaN\n",
    "twitter_arch_clean['dog_stage'] = twitter_arch_clean['dog_stage'].replace('', np.nan)\n",
    "\n",
    "# Drop \n",
    "twitter_arch_clean.drop(['doggo','floofer','pupper','puppo'], axis = 1, inplace = True)"
   ]
  },
  {
   "cell_type": "markdown",
   "id": "0c1a8763",
   "metadata": {},
   "source": [
    "#### Test"
   ]
  },
  {
   "cell_type": "code",
   "execution_count": 90,
   "id": "05913b55",
   "metadata": {},
   "outputs": [
    {
     "name": "stdout",
     "output_type": "stream",
     "text": [
      "<class 'pandas.core.frame.DataFrame'>\n",
      "Int64Index: 2175 entries, 0 to 2355\n",
      "Data columns (total 9 columns):\n",
      " #   Column              Non-Null Count  Dtype              \n",
      "---  ------              --------------  -----              \n",
      " 0   tweet_id            2175 non-null   object             \n",
      " 1   timestamp           2175 non-null   datetime64[ns, UTC]\n",
      " 2   source              2175 non-null   object             \n",
      " 3   text                2175 non-null   object             \n",
      " 4   rating_numerator    2175 non-null   float64            \n",
      " 5   rating_denominator  2175 non-null   int64              \n",
      " 6   name                2175 non-null   object             \n",
      " 7   source_url          2164 non-null   object             \n",
      " 8   dog_stage           344 non-null    object             \n",
      "dtypes: datetime64[ns, UTC](1), float64(1), int64(1), object(6)\n",
      "memory usage: 169.9+ KB\n"
     ]
    }
   ],
   "source": [
    "twitter_arch_clean.info()"
   ]
  },
  {
   "cell_type": "code",
   "execution_count": 91,
   "id": "08279895",
   "metadata": {},
   "outputs": [
    {
     "data": {
      "text/plain": [
       "pupper          224\n",
       "doggo            75\n",
       "puppo            24\n",
       "doggopupper      10\n",
       "floofer           9\n",
       "doggopuppo        1\n",
       "doggofloofer      1\n",
       "Name: dog_stage, dtype: int64"
      ]
     },
     "execution_count": 91,
     "metadata": {},
     "output_type": "execute_result"
    }
   ],
   "source": [
    "twitter_arch_clean.dog_stage.value_counts()"
   ]
  },
  {
   "cell_type": "markdown",
   "id": "0e74a0ec",
   "metadata": {},
   "source": [
    "- #### *Month and year data can be derived from timestamp column for visualization*"
   ]
  },
  {
   "cell_type": "markdown",
   "id": "0d279583",
   "metadata": {},
   "source": [
    "#### Define\n",
    "By using the datetime function, the month and year can be pulled from the timestamp column"
   ]
  },
  {
   "cell_type": "markdown",
   "id": "9c7e9cf5",
   "metadata": {},
   "source": [
    "#### Code"
   ]
  },
  {
   "cell_type": "code",
   "execution_count": 92,
   "id": "f2b27f59",
   "metadata": {},
   "outputs": [],
   "source": [
    "# Pull month and year from timestamp column\n",
    "twitter_arch_clean['month'] = twitter_arch_clean.timestamp.dt.month\n",
    "twitter_arch_clean['year'] = twitter_arch_clean.timestamp.dt.year"
   ]
  },
  {
   "cell_type": "markdown",
   "id": "0ccdba7e",
   "metadata": {},
   "source": [
    "#### Test"
   ]
  },
  {
   "cell_type": "code",
   "execution_count": 93,
   "id": "f8a6c65c",
   "metadata": {},
   "outputs": [
    {
     "name": "stdout",
     "output_type": "stream",
     "text": [
      "<class 'pandas.core.frame.DataFrame'>\n",
      "Int64Index: 2175 entries, 0 to 2355\n",
      "Data columns (total 11 columns):\n",
      " #   Column              Non-Null Count  Dtype              \n",
      "---  ------              --------------  -----              \n",
      " 0   tweet_id            2175 non-null   object             \n",
      " 1   timestamp           2175 non-null   datetime64[ns, UTC]\n",
      " 2   source              2175 non-null   object             \n",
      " 3   text                2175 non-null   object             \n",
      " 4   rating_numerator    2175 non-null   float64            \n",
      " 5   rating_denominator  2175 non-null   int64              \n",
      " 6   name                2175 non-null   object             \n",
      " 7   source_url          2164 non-null   object             \n",
      " 8   dog_stage           344 non-null    object             \n",
      " 9   month               2175 non-null   int64              \n",
      " 10  year                2175 non-null   int64              \n",
      "dtypes: datetime64[ns, UTC](1), float64(1), int64(3), object(6)\n",
      "memory usage: 203.9+ KB\n"
     ]
    }
   ],
   "source": [
    "twitter_arch_clean.info()"
   ]
  },
  {
   "cell_type": "markdown",
   "id": "9bcfd217",
   "metadata": {},
   "source": [
    "###### image_pred\n",
    "- #### *The confidence interval and dog breed columns present as pivoted data, dataframe can be condensed to better represent this information*"
   ]
  },
  {
   "cell_type": "markdown",
   "id": "50f5baa9",
   "metadata": {},
   "source": [
    "#### Define\n",
    "Dog breed to be identified using if image being a dog is True\n",
    "\n",
    "This will be achieved by an if else loop. The propable breed will be selected from checking if P1_conf identifies a dog or not. If it does, it selects this with its respective interval. This will be cascaded down to p2 and p3.\n",
    "\n",
    "The original columns will then be dropped.\n",
    "\n",
    "[Ref](https://towardsdatascience.com/the-most-efficient-if-elif-else-in-pandas-d4a7d4502d50)"
   ]
  },
  {
   "cell_type": "markdown",
   "id": "b56955ec",
   "metadata": {},
   "source": [
    "#### Code"
   ]
  },
  {
   "cell_type": "code",
   "execution_count": 94,
   "id": "4e4ca179",
   "metadata": {},
   "outputs": [
    {
     "data": {
      "text/html": [
       "<div>\n",
       "<style scoped>\n",
       "    .dataframe tbody tr th:only-of-type {\n",
       "        vertical-align: middle;\n",
       "    }\n",
       "\n",
       "    .dataframe tbody tr th {\n",
       "        vertical-align: top;\n",
       "    }\n",
       "\n",
       "    .dataframe thead th {\n",
       "        text-align: right;\n",
       "    }\n",
       "</style>\n",
       "<table border=\"1\" class=\"dataframe\">\n",
       "  <thead>\n",
       "    <tr style=\"text-align: right;\">\n",
       "      <th></th>\n",
       "      <th>tweet_id</th>\n",
       "      <th>jpg_url</th>\n",
       "      <th>img_num</th>\n",
       "      <th>p1</th>\n",
       "      <th>p1_conf</th>\n",
       "      <th>p1_dog</th>\n",
       "      <th>p2</th>\n",
       "      <th>p2_conf</th>\n",
       "      <th>p2_dog</th>\n",
       "      <th>p3</th>\n",
       "      <th>p3_conf</th>\n",
       "      <th>p3_dog</th>\n",
       "    </tr>\n",
       "  </thead>\n",
       "  <tbody>\n",
       "    <tr>\n",
       "      <th>0</th>\n",
       "      <td>666020888022790149</td>\n",
       "      <td>https://pbs.twimg.com/media/CT4udn0WwAA0aMy.jpg</td>\n",
       "      <td>1</td>\n",
       "      <td>Welsh Springer Spaniel</td>\n",
       "      <td>0.465074</td>\n",
       "      <td>True</td>\n",
       "      <td>Collie</td>\n",
       "      <td>0.156665</td>\n",
       "      <td>True</td>\n",
       "      <td>Shetland Sheepdog</td>\n",
       "      <td>0.061428</td>\n",
       "      <td>True</td>\n",
       "    </tr>\n",
       "    <tr>\n",
       "      <th>1</th>\n",
       "      <td>666029285002620928</td>\n",
       "      <td>https://pbs.twimg.com/media/CT42GRgUYAA5iDo.jpg</td>\n",
       "      <td>1</td>\n",
       "      <td>Redbone</td>\n",
       "      <td>0.506826</td>\n",
       "      <td>True</td>\n",
       "      <td>Miniature Pinscher</td>\n",
       "      <td>0.074192</td>\n",
       "      <td>True</td>\n",
       "      <td>Rhodesian Ridgeback</td>\n",
       "      <td>0.072010</td>\n",
       "      <td>True</td>\n",
       "    </tr>\n",
       "    <tr>\n",
       "      <th>2</th>\n",
       "      <td>666033412701032449</td>\n",
       "      <td>https://pbs.twimg.com/media/CT4521TWwAEvMyu.jpg</td>\n",
       "      <td>1</td>\n",
       "      <td>German Shepherd</td>\n",
       "      <td>0.596461</td>\n",
       "      <td>True</td>\n",
       "      <td>Malinois</td>\n",
       "      <td>0.138584</td>\n",
       "      <td>True</td>\n",
       "      <td>Bloodhound</td>\n",
       "      <td>0.116197</td>\n",
       "      <td>True</td>\n",
       "    </tr>\n",
       "    <tr>\n",
       "      <th>3</th>\n",
       "      <td>666044226329800704</td>\n",
       "      <td>https://pbs.twimg.com/media/CT5Dr8HUEAA-lEu.jpg</td>\n",
       "      <td>1</td>\n",
       "      <td>Rhodesian Ridgeback</td>\n",
       "      <td>0.408143</td>\n",
       "      <td>True</td>\n",
       "      <td>Redbone</td>\n",
       "      <td>0.360687</td>\n",
       "      <td>True</td>\n",
       "      <td>Miniature Pinscher</td>\n",
       "      <td>0.222752</td>\n",
       "      <td>True</td>\n",
       "    </tr>\n",
       "    <tr>\n",
       "      <th>4</th>\n",
       "      <td>666049248165822465</td>\n",
       "      <td>https://pbs.twimg.com/media/CT5IQmsXIAAKY4A.jpg</td>\n",
       "      <td>1</td>\n",
       "      <td>Miniature Pinscher</td>\n",
       "      <td>0.560311</td>\n",
       "      <td>True</td>\n",
       "      <td>Rottweiler</td>\n",
       "      <td>0.243682</td>\n",
       "      <td>True</td>\n",
       "      <td>Doberman</td>\n",
       "      <td>0.154629</td>\n",
       "      <td>True</td>\n",
       "    </tr>\n",
       "  </tbody>\n",
       "</table>\n",
       "</div>"
      ],
      "text/plain": [
       "             tweet_id                                          jpg_url  \\\n",
       "0  666020888022790149  https://pbs.twimg.com/media/CT4udn0WwAA0aMy.jpg   \n",
       "1  666029285002620928  https://pbs.twimg.com/media/CT42GRgUYAA5iDo.jpg   \n",
       "2  666033412701032449  https://pbs.twimg.com/media/CT4521TWwAEvMyu.jpg   \n",
       "3  666044226329800704  https://pbs.twimg.com/media/CT5Dr8HUEAA-lEu.jpg   \n",
       "4  666049248165822465  https://pbs.twimg.com/media/CT5IQmsXIAAKY4A.jpg   \n",
       "\n",
       "   img_num                      p1   p1_conf  p1_dog                  p2  \\\n",
       "0        1  Welsh Springer Spaniel  0.465074    True              Collie   \n",
       "1        1                 Redbone  0.506826    True  Miniature Pinscher   \n",
       "2        1         German Shepherd  0.596461    True            Malinois   \n",
       "3        1     Rhodesian Ridgeback  0.408143    True             Redbone   \n",
       "4        1      Miniature Pinscher  0.560311    True          Rottweiler   \n",
       "\n",
       "    p2_conf  p2_dog                   p3   p3_conf  p3_dog  \n",
       "0  0.156665    True    Shetland Sheepdog  0.061428    True  \n",
       "1  0.074192    True  Rhodesian Ridgeback  0.072010    True  \n",
       "2  0.138584    True           Bloodhound  0.116197    True  \n",
       "3  0.360687    True   Miniature Pinscher  0.222752    True  \n",
       "4  0.243682    True             Doberman  0.154629    True  "
      ]
     },
     "execution_count": 94,
     "metadata": {},
     "output_type": "execute_result"
    }
   ],
   "source": [
    "image_pred_clean.head()"
   ]
  },
  {
   "cell_type": "code",
   "execution_count": 95,
   "id": "62330a0d",
   "metadata": {},
   "outputs": [],
   "source": [
    "# Empty list of variables tht will be used as columns\n",
    "breed = []\n",
    "conf_lvl = []\n",
    "\n",
    "# Function to pick breed and confidence level of breed from dataframe\n",
    "def breed_conf(row):\n",
    "\n",
    "\n",
    "    # Define conditions in if elif statement\n",
    "    if row.p1_dog == True:\n",
    "        breed.append(row.p1)\n",
    "        conf_lvl.append(row.p1_conf)\n",
    "    elif row.p2_dog == True:\n",
    "        breed.append(row.p2)\n",
    "        conf_lvl.append(row.p2_conf)\n",
    "    elif row.p3_dog== True:\n",
    "        breed.append(row.p3)\n",
    "        conf_lvl.append(row.p3_conf)\n",
    "    else:\n",
    "        breed.append('Unknown')\n",
    "        conf_lvl.append('error')"
   ]
  },
  {
   "cell_type": "code",
   "execution_count": 96,
   "id": "4eaf3ad9",
   "metadata": {},
   "outputs": [
    {
     "data": {
      "text/plain": [
       "0       None\n",
       "1       None\n",
       "2       None\n",
       "3       None\n",
       "4       None\n",
       "        ... \n",
       "2070    None\n",
       "2071    None\n",
       "2072    None\n",
       "2073    None\n",
       "2074    None\n",
       "Length: 2075, dtype: object"
      ]
     },
     "execution_count": 96,
     "metadata": {},
     "output_type": "execute_result"
    }
   ],
   "source": [
    "# Apply the function         \n",
    "image_pred_clean.apply(breed_conf, axis=1)"
   ]
  },
  {
   "cell_type": "code",
   "execution_count": 97,
   "id": "9cecad35",
   "metadata": {},
   "outputs": [],
   "source": [
    "# Create new column from the series created by the function\n",
    "image_pred_clean['breed'] = breed\n",
    "image_pred_clean['conf_lvl'] = conf_lvl"
   ]
  },
  {
   "cell_type": "code",
   "execution_count": 98,
   "id": "06c19ca5",
   "metadata": {},
   "outputs": [
    {
     "data": {
      "text/plain": [
       "Index(['tweet_id', 'jpg_url', 'img_num', 'p1', 'p1_conf', 'p1_dog', 'p2',\n",
       "       'p2_conf', 'p2_dog', 'p3', 'p3_conf', 'p3_dog', 'breed', 'conf_lvl'],\n",
       "      dtype='object')"
      ]
     },
     "execution_count": 98,
     "metadata": {},
     "output_type": "execute_result"
    }
   ],
   "source": [
    "# List df columns\n",
    "image_pred_clean.columns"
   ]
  },
  {
   "cell_type": "code",
   "execution_count": 99,
   "id": "7c2c34a7",
   "metadata": {},
   "outputs": [],
   "source": [
    "# Drop other columns\n",
    "image_pred_clean.drop(['p1', 'p1_conf', 'p1_dog', 'p2',\n",
    "       'p2_conf', 'p2_dog', 'p3', 'p3_conf', 'p3_dog'], axis = 1, inplace = True)"
   ]
  },
  {
   "cell_type": "code",
   "execution_count": 100,
   "id": "a4da35f9",
   "metadata": {
    "scrolled": true
   },
   "outputs": [
    {
     "name": "stdout",
     "output_type": "stream",
     "text": [
      "<class 'pandas.core.frame.DataFrame'>\n",
      "Int64Index: 324 entries, 6 to 2074\n",
      "Data columns (total 5 columns):\n",
      " #   Column    Non-Null Count  Dtype \n",
      "---  ------    --------------  ----- \n",
      " 0   tweet_id  324 non-null    object\n",
      " 1   jpg_url   324 non-null    object\n",
      " 2   img_num   324 non-null    int64 \n",
      " 3   breed     324 non-null    object\n",
      " 4   conf_lvl  324 non-null    object\n",
      "dtypes: int64(1), object(4)\n",
      "memory usage: 15.2+ KB\n"
     ]
    }
   ],
   "source": [
    "# View How many returned 'error'\n",
    "\n",
    "unknown_breed = image_pred_clean[image_pred_clean.conf_lvl == 'error']\n",
    "unknown_breed.info()"
   ]
  },
  {
   "cell_type": "code",
   "execution_count": 101,
   "id": "852ccf9c",
   "metadata": {},
   "outputs": [],
   "source": [
    "# Drop columns where breed could not be identified\n",
    "\n",
    "image_pred_clean = image_pred_clean[image_pred_clean.conf_lvl != 'error']"
   ]
  },
  {
   "cell_type": "markdown",
   "id": "ac41ffb9",
   "metadata": {},
   "source": [
    "#### Test"
   ]
  },
  {
   "cell_type": "code",
   "execution_count": 102,
   "id": "96568da7",
   "metadata": {},
   "outputs": [
    {
     "name": "stdout",
     "output_type": "stream",
     "text": [
      "<class 'pandas.core.frame.DataFrame'>\n",
      "Int64Index: 1751 entries, 0 to 2073\n",
      "Data columns (total 5 columns):\n",
      " #   Column    Non-Null Count  Dtype \n",
      "---  ------    --------------  ----- \n",
      " 0   tweet_id  1751 non-null   object\n",
      " 1   jpg_url   1751 non-null   object\n",
      " 2   img_num   1751 non-null   int64 \n",
      " 3   breed     1751 non-null   object\n",
      " 4   conf_lvl  1751 non-null   object\n",
      "dtypes: int64(1), object(4)\n",
      "memory usage: 82.1+ KB\n"
     ]
    }
   ],
   "source": [
    "image_pred_clean.info()"
   ]
  },
  {
   "cell_type": "code",
   "execution_count": 103,
   "id": "60c7a4e9",
   "metadata": {},
   "outputs": [
    {
     "data": {
      "text/html": [
       "<div>\n",
       "<style scoped>\n",
       "    .dataframe tbody tr th:only-of-type {\n",
       "        vertical-align: middle;\n",
       "    }\n",
       "\n",
       "    .dataframe tbody tr th {\n",
       "        vertical-align: top;\n",
       "    }\n",
       "\n",
       "    .dataframe thead th {\n",
       "        text-align: right;\n",
       "    }\n",
       "</style>\n",
       "<table border=\"1\" class=\"dataframe\">\n",
       "  <thead>\n",
       "    <tr style=\"text-align: right;\">\n",
       "      <th></th>\n",
       "      <th>tweet_id</th>\n",
       "      <th>jpg_url</th>\n",
       "      <th>img_num</th>\n",
       "      <th>breed</th>\n",
       "      <th>conf_lvl</th>\n",
       "    </tr>\n",
       "  </thead>\n",
       "  <tbody>\n",
       "    <tr>\n",
       "      <th>0</th>\n",
       "      <td>666020888022790149</td>\n",
       "      <td>https://pbs.twimg.com/media/CT4udn0WwAA0aMy.jpg</td>\n",
       "      <td>1</td>\n",
       "      <td>Welsh Springer Spaniel</td>\n",
       "      <td>0.465074</td>\n",
       "    </tr>\n",
       "    <tr>\n",
       "      <th>1</th>\n",
       "      <td>666029285002620928</td>\n",
       "      <td>https://pbs.twimg.com/media/CT42GRgUYAA5iDo.jpg</td>\n",
       "      <td>1</td>\n",
       "      <td>Redbone</td>\n",
       "      <td>0.506826</td>\n",
       "    </tr>\n",
       "    <tr>\n",
       "      <th>2</th>\n",
       "      <td>666033412701032449</td>\n",
       "      <td>https://pbs.twimg.com/media/CT4521TWwAEvMyu.jpg</td>\n",
       "      <td>1</td>\n",
       "      <td>German Shepherd</td>\n",
       "      <td>0.596461</td>\n",
       "    </tr>\n",
       "    <tr>\n",
       "      <th>3</th>\n",
       "      <td>666044226329800704</td>\n",
       "      <td>https://pbs.twimg.com/media/CT5Dr8HUEAA-lEu.jpg</td>\n",
       "      <td>1</td>\n",
       "      <td>Rhodesian Ridgeback</td>\n",
       "      <td>0.408143</td>\n",
       "    </tr>\n",
       "    <tr>\n",
       "      <th>4</th>\n",
       "      <td>666049248165822465</td>\n",
       "      <td>https://pbs.twimg.com/media/CT5IQmsXIAAKY4A.jpg</td>\n",
       "      <td>1</td>\n",
       "      <td>Miniature Pinscher</td>\n",
       "      <td>0.560311</td>\n",
       "    </tr>\n",
       "    <tr>\n",
       "      <th>5</th>\n",
       "      <td>666050758794694657</td>\n",
       "      <td>https://pbs.twimg.com/media/CT5Jof1WUAEuVxN.jpg</td>\n",
       "      <td>1</td>\n",
       "      <td>Bernese Mountain Dog</td>\n",
       "      <td>0.651137</td>\n",
       "    </tr>\n",
       "    <tr>\n",
       "      <th>7</th>\n",
       "      <td>666055525042405380</td>\n",
       "      <td>https://pbs.twimg.com/media/CT5N9tpXIAAifs1.jpg</td>\n",
       "      <td>1</td>\n",
       "      <td>Chow</td>\n",
       "      <td>0.692517</td>\n",
       "    </tr>\n",
       "    <tr>\n",
       "      <th>8</th>\n",
       "      <td>666057090499244032</td>\n",
       "      <td>https://pbs.twimg.com/media/CT5PY90WoAAQGLo.jpg</td>\n",
       "      <td>1</td>\n",
       "      <td>Golden Retriever</td>\n",
       "      <td>0.007959</td>\n",
       "    </tr>\n",
       "    <tr>\n",
       "      <th>9</th>\n",
       "      <td>666058600524156928</td>\n",
       "      <td>https://pbs.twimg.com/media/CT5Qw94XAAA_2dP.jpg</td>\n",
       "      <td>1</td>\n",
       "      <td>Miniature Poodle</td>\n",
       "      <td>0.201493</td>\n",
       "    </tr>\n",
       "    <tr>\n",
       "      <th>10</th>\n",
       "      <td>666063827256086533</td>\n",
       "      <td>https://pbs.twimg.com/media/CT5Vg_wXIAAXfnj.jpg</td>\n",
       "      <td>1</td>\n",
       "      <td>Golden Retriever</td>\n",
       "      <td>0.77593</td>\n",
       "    </tr>\n",
       "    <tr>\n",
       "      <th>11</th>\n",
       "      <td>666071193221509120</td>\n",
       "      <td>https://pbs.twimg.com/media/CT5cN_3WEAAlOoZ.jpg</td>\n",
       "      <td>1</td>\n",
       "      <td>Gordon Setter</td>\n",
       "      <td>0.503672</td>\n",
       "    </tr>\n",
       "    <tr>\n",
       "      <th>12</th>\n",
       "      <td>666073100786774016</td>\n",
       "      <td>https://pbs.twimg.com/media/CT5d9DZXAAALcwe.jpg</td>\n",
       "      <td>1</td>\n",
       "      <td>Walker Hound</td>\n",
       "      <td>0.260857</td>\n",
       "    </tr>\n",
       "    <tr>\n",
       "      <th>13</th>\n",
       "      <td>666082916733198337</td>\n",
       "      <td>https://pbs.twimg.com/media/CT5m4VGWEAAtKc8.jpg</td>\n",
       "      <td>1</td>\n",
       "      <td>Pug</td>\n",
       "      <td>0.489814</td>\n",
       "    </tr>\n",
       "    <tr>\n",
       "      <th>14</th>\n",
       "      <td>666094000022159362</td>\n",
       "      <td>https://pbs.twimg.com/media/CT5w9gUW4AAsBNN.jpg</td>\n",
       "      <td>1</td>\n",
       "      <td>Bloodhound</td>\n",
       "      <td>0.195217</td>\n",
       "    </tr>\n",
       "    <tr>\n",
       "      <th>15</th>\n",
       "      <td>666099513787052032</td>\n",
       "      <td>https://pbs.twimg.com/media/CT51-JJUEAA6hV8.jpg</td>\n",
       "      <td>1</td>\n",
       "      <td>Lhasa</td>\n",
       "      <td>0.58233</td>\n",
       "    </tr>\n",
       "    <tr>\n",
       "      <th>16</th>\n",
       "      <td>666102155909144576</td>\n",
       "      <td>https://pbs.twimg.com/media/CT54YGiWUAEZnoK.jpg</td>\n",
       "      <td>1</td>\n",
       "      <td>English Setter</td>\n",
       "      <td>0.298617</td>\n",
       "    </tr>\n",
       "    <tr>\n",
       "      <th>19</th>\n",
       "      <td>666273097616637952</td>\n",
       "      <td>https://pbs.twimg.com/media/CT8T1mtUwAA3aqm.jpg</td>\n",
       "      <td>1</td>\n",
       "      <td>Italian Greyhound</td>\n",
       "      <td>0.176053</td>\n",
       "    </tr>\n",
       "    <tr>\n",
       "      <th>20</th>\n",
       "      <td>666287406224695296</td>\n",
       "      <td>https://pbs.twimg.com/media/CT8g3BpUEAAuFjg.jpg</td>\n",
       "      <td>1</td>\n",
       "      <td>Maltese Dog</td>\n",
       "      <td>0.857531</td>\n",
       "    </tr>\n",
       "    <tr>\n",
       "      <th>22</th>\n",
       "      <td>666337882303524864</td>\n",
       "      <td>https://pbs.twimg.com/media/CT9OwFIWEAMuRje.jpg</td>\n",
       "      <td>1</td>\n",
       "      <td>Newfoundland</td>\n",
       "      <td>0.278407</td>\n",
       "    </tr>\n",
       "    <tr>\n",
       "      <th>23</th>\n",
       "      <td>666345417576210432</td>\n",
       "      <td>https://pbs.twimg.com/media/CT9Vn7PWoAA_ZCM.jpg</td>\n",
       "      <td>1</td>\n",
       "      <td>Golden Retriever</td>\n",
       "      <td>0.858744</td>\n",
       "    </tr>\n",
       "    <tr>\n",
       "      <th>24</th>\n",
       "      <td>666353288456101888</td>\n",
       "      <td>https://pbs.twimg.com/media/CT9cx0tUEAAhNN_.jpg</td>\n",
       "      <td>1</td>\n",
       "      <td>Malamute</td>\n",
       "      <td>0.336874</td>\n",
       "    </tr>\n",
       "    <tr>\n",
       "      <th>26</th>\n",
       "      <td>666373753744588802</td>\n",
       "      <td>https://pbs.twimg.com/media/CT9vZEYWUAAlZ05.jpg</td>\n",
       "      <td>1</td>\n",
       "      <td>Soft-Coated Wheaten Terrier</td>\n",
       "      <td>0.326467</td>\n",
       "    </tr>\n",
       "    <tr>\n",
       "      <th>27</th>\n",
       "      <td>666396247373291520</td>\n",
       "      <td>https://pbs.twimg.com/media/CT-D2ZHWIAA3gK1.jpg</td>\n",
       "      <td>1</td>\n",
       "      <td>Chihuahua</td>\n",
       "      <td>0.978108</td>\n",
       "    </tr>\n",
       "    <tr>\n",
       "      <th>28</th>\n",
       "      <td>666407126856765440</td>\n",
       "      <td>https://pbs.twimg.com/media/CT-NvwmW4AAugGZ.jpg</td>\n",
       "      <td>1</td>\n",
       "      <td>Black-And-Tan Coonhound</td>\n",
       "      <td>0.529139</td>\n",
       "    </tr>\n",
       "    <tr>\n",
       "      <th>30</th>\n",
       "      <td>666418789513326592</td>\n",
       "      <td>https://pbs.twimg.com/media/CT-YWb7U8AA7QnN.jpg</td>\n",
       "      <td>1</td>\n",
       "      <td>Toy Terrier</td>\n",
       "      <td>0.14968</td>\n",
       "    </tr>\n",
       "    <tr>\n",
       "      <th>31</th>\n",
       "      <td>666421158376562688</td>\n",
       "      <td>https://pbs.twimg.com/media/CT-aggCXAAIMfT3.jpg</td>\n",
       "      <td>1</td>\n",
       "      <td>Blenheim Spaniel</td>\n",
       "      <td>0.906777</td>\n",
       "    </tr>\n",
       "    <tr>\n",
       "      <th>32</th>\n",
       "      <td>666428276349472768</td>\n",
       "      <td>https://pbs.twimg.com/media/CT-g-0DUwAEQdSn.jpg</td>\n",
       "      <td>1</td>\n",
       "      <td>Pembroke</td>\n",
       "      <td>0.371361</td>\n",
       "    </tr>\n",
       "    <tr>\n",
       "      <th>33</th>\n",
       "      <td>666430724426358785</td>\n",
       "      <td>https://pbs.twimg.com/media/CT-jNYqW4AAPi2M.jpg</td>\n",
       "      <td>1</td>\n",
       "      <td>Irish Terrier</td>\n",
       "      <td>0.104109</td>\n",
       "    </tr>\n",
       "    <tr>\n",
       "      <th>34</th>\n",
       "      <td>666435652385423360</td>\n",
       "      <td>https://pbs.twimg.com/media/CT-nsTQWEAEkyDn.jpg</td>\n",
       "      <td>1</td>\n",
       "      <td>Chesapeake Bay Retriever</td>\n",
       "      <td>0.18413</td>\n",
       "    </tr>\n",
       "    <tr>\n",
       "      <th>35</th>\n",
       "      <td>666437273139982337</td>\n",
       "      <td>https://pbs.twimg.com/media/CT-pKmRWIAAxUWj.jpg</td>\n",
       "      <td>1</td>\n",
       "      <td>Chihuahua</td>\n",
       "      <td>0.671853</td>\n",
       "    </tr>\n",
       "  </tbody>\n",
       "</table>\n",
       "</div>"
      ],
      "text/plain": [
       "              tweet_id                                          jpg_url  \\\n",
       "0   666020888022790149  https://pbs.twimg.com/media/CT4udn0WwAA0aMy.jpg   \n",
       "1   666029285002620928  https://pbs.twimg.com/media/CT42GRgUYAA5iDo.jpg   \n",
       "2   666033412701032449  https://pbs.twimg.com/media/CT4521TWwAEvMyu.jpg   \n",
       "3   666044226329800704  https://pbs.twimg.com/media/CT5Dr8HUEAA-lEu.jpg   \n",
       "4   666049248165822465  https://pbs.twimg.com/media/CT5IQmsXIAAKY4A.jpg   \n",
       "5   666050758794694657  https://pbs.twimg.com/media/CT5Jof1WUAEuVxN.jpg   \n",
       "7   666055525042405380  https://pbs.twimg.com/media/CT5N9tpXIAAifs1.jpg   \n",
       "8   666057090499244032  https://pbs.twimg.com/media/CT5PY90WoAAQGLo.jpg   \n",
       "9   666058600524156928  https://pbs.twimg.com/media/CT5Qw94XAAA_2dP.jpg   \n",
       "10  666063827256086533  https://pbs.twimg.com/media/CT5Vg_wXIAAXfnj.jpg   \n",
       "11  666071193221509120  https://pbs.twimg.com/media/CT5cN_3WEAAlOoZ.jpg   \n",
       "12  666073100786774016  https://pbs.twimg.com/media/CT5d9DZXAAALcwe.jpg   \n",
       "13  666082916733198337  https://pbs.twimg.com/media/CT5m4VGWEAAtKc8.jpg   \n",
       "14  666094000022159362  https://pbs.twimg.com/media/CT5w9gUW4AAsBNN.jpg   \n",
       "15  666099513787052032  https://pbs.twimg.com/media/CT51-JJUEAA6hV8.jpg   \n",
       "16  666102155909144576  https://pbs.twimg.com/media/CT54YGiWUAEZnoK.jpg   \n",
       "19  666273097616637952  https://pbs.twimg.com/media/CT8T1mtUwAA3aqm.jpg   \n",
       "20  666287406224695296  https://pbs.twimg.com/media/CT8g3BpUEAAuFjg.jpg   \n",
       "22  666337882303524864  https://pbs.twimg.com/media/CT9OwFIWEAMuRje.jpg   \n",
       "23  666345417576210432  https://pbs.twimg.com/media/CT9Vn7PWoAA_ZCM.jpg   \n",
       "24  666353288456101888  https://pbs.twimg.com/media/CT9cx0tUEAAhNN_.jpg   \n",
       "26  666373753744588802  https://pbs.twimg.com/media/CT9vZEYWUAAlZ05.jpg   \n",
       "27  666396247373291520  https://pbs.twimg.com/media/CT-D2ZHWIAA3gK1.jpg   \n",
       "28  666407126856765440  https://pbs.twimg.com/media/CT-NvwmW4AAugGZ.jpg   \n",
       "30  666418789513326592  https://pbs.twimg.com/media/CT-YWb7U8AA7QnN.jpg   \n",
       "31  666421158376562688  https://pbs.twimg.com/media/CT-aggCXAAIMfT3.jpg   \n",
       "32  666428276349472768  https://pbs.twimg.com/media/CT-g-0DUwAEQdSn.jpg   \n",
       "33  666430724426358785  https://pbs.twimg.com/media/CT-jNYqW4AAPi2M.jpg   \n",
       "34  666435652385423360  https://pbs.twimg.com/media/CT-nsTQWEAEkyDn.jpg   \n",
       "35  666437273139982337  https://pbs.twimg.com/media/CT-pKmRWIAAxUWj.jpg   \n",
       "\n",
       "    img_num                        breed  conf_lvl  \n",
       "0         1       Welsh Springer Spaniel  0.465074  \n",
       "1         1                      Redbone  0.506826  \n",
       "2         1              German Shepherd  0.596461  \n",
       "3         1          Rhodesian Ridgeback  0.408143  \n",
       "4         1           Miniature Pinscher  0.560311  \n",
       "5         1         Bernese Mountain Dog  0.651137  \n",
       "7         1                         Chow  0.692517  \n",
       "8         1             Golden Retriever  0.007959  \n",
       "9         1             Miniature Poodle  0.201493  \n",
       "10        1             Golden Retriever   0.77593  \n",
       "11        1                Gordon Setter  0.503672  \n",
       "12        1                 Walker Hound  0.260857  \n",
       "13        1                          Pug  0.489814  \n",
       "14        1                   Bloodhound  0.195217  \n",
       "15        1                        Lhasa   0.58233  \n",
       "16        1               English Setter  0.298617  \n",
       "19        1            Italian Greyhound  0.176053  \n",
       "20        1                  Maltese Dog  0.857531  \n",
       "22        1                 Newfoundland  0.278407  \n",
       "23        1             Golden Retriever  0.858744  \n",
       "24        1                     Malamute  0.336874  \n",
       "26        1  Soft-Coated Wheaten Terrier  0.326467  \n",
       "27        1                    Chihuahua  0.978108  \n",
       "28        1      Black-And-Tan Coonhound  0.529139  \n",
       "30        1                  Toy Terrier   0.14968  \n",
       "31        1             Blenheim Spaniel  0.906777  \n",
       "32        1                     Pembroke  0.371361  \n",
       "33        1                Irish Terrier  0.104109  \n",
       "34        1     Chesapeake Bay Retriever   0.18413  \n",
       "35        1                    Chihuahua  0.671853  "
      ]
     },
     "execution_count": 103,
     "metadata": {},
     "output_type": "execute_result"
    }
   ],
   "source": [
    "image_pred_clean.head(30)"
   ]
  },
  {
   "cell_type": "markdown",
   "id": "e8e197fe",
   "metadata": {},
   "source": [
    "###### general\n",
    "- #### *The 3 datasets can be merged on tweet_id to form 1 dataset*"
   ]
  },
  {
   "cell_type": "markdown",
   "id": "d2146352",
   "metadata": {},
   "source": [
    "#### Define\n",
    "\n",
    "These 3 datasets need to be merged on tweet id column for easy analysis. We'll first get the shape of all datasets then use the merge function to combine them"
   ]
  },
  {
   "cell_type": "markdown",
   "id": "a1927bb5",
   "metadata": {},
   "source": [
    "#### Code"
   ]
  },
  {
   "cell_type": "code",
   "execution_count": 104,
   "id": "ccf42978",
   "metadata": {},
   "outputs": [
    {
     "name": "stdout",
     "output_type": "stream",
     "text": [
      "twitter_arch_clean shape: (2175, 11)\n",
      "image_pred_clean shape: (1751, 5)\n",
      "tweet_data_clean shape: (2354, 4)\n"
     ]
    }
   ],
   "source": [
    "print('twitter_arch_clean shape:', twitter_arch_clean.shape)\n",
    "print('image_pred_clean shape:', image_pred_clean.shape)\n",
    "print('tweet_data_clean shape:', tweet_data_clean.shape)"
   ]
  },
  {
   "cell_type": "code",
   "execution_count": 105,
   "id": "2d2545ce",
   "metadata": {},
   "outputs": [],
   "source": [
    "# Merge datsaets\n",
    "\n",
    "master_tweet_data = twitter_arch_clean.merge(image_pred_clean,on='tweet_id').merge(tweet_data_clean,on='tweet_id')"
   ]
  },
  {
   "cell_type": "markdown",
   "id": "b3467bb6",
   "metadata": {},
   "source": [
    "#### Test"
   ]
  },
  {
   "cell_type": "code",
   "execution_count": 106,
   "id": "574f120b",
   "metadata": {},
   "outputs": [
    {
     "data": {
      "text/html": [
       "<div>\n",
       "<style scoped>\n",
       "    .dataframe tbody tr th:only-of-type {\n",
       "        vertical-align: middle;\n",
       "    }\n",
       "\n",
       "    .dataframe tbody tr th {\n",
       "        vertical-align: top;\n",
       "    }\n",
       "\n",
       "    .dataframe thead th {\n",
       "        text-align: right;\n",
       "    }\n",
       "</style>\n",
       "<table border=\"1\" class=\"dataframe\">\n",
       "  <thead>\n",
       "    <tr style=\"text-align: right;\">\n",
       "      <th></th>\n",
       "      <th>tweet_id</th>\n",
       "      <th>timestamp</th>\n",
       "      <th>source</th>\n",
       "      <th>text</th>\n",
       "      <th>rating_numerator</th>\n",
       "      <th>rating_denominator</th>\n",
       "      <th>name</th>\n",
       "      <th>source_url</th>\n",
       "      <th>dog_stage</th>\n",
       "      <th>month</th>\n",
       "      <th>year</th>\n",
       "      <th>jpg_url</th>\n",
       "      <th>img_num</th>\n",
       "      <th>breed</th>\n",
       "      <th>conf_lvl</th>\n",
       "      <th>retweet_count</th>\n",
       "      <th>favorite_count</th>\n",
       "      <th>retweeted</th>\n",
       "    </tr>\n",
       "  </thead>\n",
       "  <tbody>\n",
       "    <tr>\n",
       "      <th>0</th>\n",
       "      <td>892177421306343426</td>\n",
       "      <td>2017-08-01 00:17:27+00:00</td>\n",
       "      <td>Twitter for iPhone</td>\n",
       "      <td>This is Tilly. She's just checking pup on you....</td>\n",
       "      <td>13.0</td>\n",
       "      <td>10</td>\n",
       "      <td>Tilly</td>\n",
       "      <td>http://twitter.com/download/iphone</td>\n",
       "      <td>NaN</td>\n",
       "      <td>8</td>\n",
       "      <td>2017</td>\n",
       "      <td>https://pbs.twimg.com/media/DGGmoV4XsAAUL6n.jpg</td>\n",
       "      <td>1</td>\n",
       "      <td>Chihuahua</td>\n",
       "      <td>0.323581</td>\n",
       "      <td>6514</td>\n",
       "      <td>33819</td>\n",
       "      <td>False</td>\n",
       "    </tr>\n",
       "    <tr>\n",
       "      <th>1</th>\n",
       "      <td>891815181378084864</td>\n",
       "      <td>2017-07-31 00:18:03+00:00</td>\n",
       "      <td>Twitter for iPhone</td>\n",
       "      <td>This is Archie. He is a rare Norwegian Pouncin...</td>\n",
       "      <td>12.0</td>\n",
       "      <td>10</td>\n",
       "      <td>Archie</td>\n",
       "      <td>http://twitter.com/download/iphone</td>\n",
       "      <td>NaN</td>\n",
       "      <td>7</td>\n",
       "      <td>2017</td>\n",
       "      <td>https://pbs.twimg.com/media/DGBdLU1WsAANxJ9.jpg</td>\n",
       "      <td>1</td>\n",
       "      <td>Chihuahua</td>\n",
       "      <td>0.716012</td>\n",
       "      <td>4328</td>\n",
       "      <td>25461</td>\n",
       "      <td>False</td>\n",
       "    </tr>\n",
       "    <tr>\n",
       "      <th>2</th>\n",
       "      <td>891689557279858688</td>\n",
       "      <td>2017-07-30 15:58:51+00:00</td>\n",
       "      <td>Twitter for iPhone</td>\n",
       "      <td>This is Darla. She commenced a snooze mid meal...</td>\n",
       "      <td>13.0</td>\n",
       "      <td>10</td>\n",
       "      <td>Darla</td>\n",
       "      <td>http://twitter.com/download/iphone</td>\n",
       "      <td>NaN</td>\n",
       "      <td>7</td>\n",
       "      <td>2017</td>\n",
       "      <td>https://pbs.twimg.com/media/DF_q7IAWsAEuuN8.jpg</td>\n",
       "      <td>1</td>\n",
       "      <td>Labrador Retriever</td>\n",
       "      <td>0.168086</td>\n",
       "      <td>8964</td>\n",
       "      <td>42908</td>\n",
       "      <td>False</td>\n",
       "    </tr>\n",
       "    <tr>\n",
       "      <th>3</th>\n",
       "      <td>891327558926688256</td>\n",
       "      <td>2017-07-29 16:00:24+00:00</td>\n",
       "      <td>Twitter for iPhone</td>\n",
       "      <td>This is Franklin. He would like you to stop ca...</td>\n",
       "      <td>12.0</td>\n",
       "      <td>10</td>\n",
       "      <td>Franklin</td>\n",
       "      <td>http://twitter.com/download/iphone</td>\n",
       "      <td>NaN</td>\n",
       "      <td>7</td>\n",
       "      <td>2017</td>\n",
       "      <td>https://pbs.twimg.com/media/DF6hr6BUMAAzZgT.jpg</td>\n",
       "      <td>2</td>\n",
       "      <td>Basset</td>\n",
       "      <td>0.555712</td>\n",
       "      <td>9774</td>\n",
       "      <td>41048</td>\n",
       "      <td>False</td>\n",
       "    </tr>\n",
       "    <tr>\n",
       "      <th>4</th>\n",
       "      <td>891087950875897856</td>\n",
       "      <td>2017-07-29 00:08:17+00:00</td>\n",
       "      <td>Twitter for iPhone</td>\n",
       "      <td>Here we have a majestic great white breaching ...</td>\n",
       "      <td>13.0</td>\n",
       "      <td>10</td>\n",
       "      <td>Unknown</td>\n",
       "      <td>http://twitter.com/download/iphone</td>\n",
       "      <td>NaN</td>\n",
       "      <td>7</td>\n",
       "      <td>2017</td>\n",
       "      <td>https://pbs.twimg.com/media/DF3HwyEWsAABqE6.jpg</td>\n",
       "      <td>1</td>\n",
       "      <td>Chesapeake Bay Retriever</td>\n",
       "      <td>0.425595</td>\n",
       "      <td>3261</td>\n",
       "      <td>20562</td>\n",
       "      <td>False</td>\n",
       "    </tr>\n",
       "  </tbody>\n",
       "</table>\n",
       "</div>"
      ],
      "text/plain": [
       "             tweet_id                 timestamp              source  \\\n",
       "0  892177421306343426 2017-08-01 00:17:27+00:00  Twitter for iPhone   \n",
       "1  891815181378084864 2017-07-31 00:18:03+00:00  Twitter for iPhone   \n",
       "2  891689557279858688 2017-07-30 15:58:51+00:00  Twitter for iPhone   \n",
       "3  891327558926688256 2017-07-29 16:00:24+00:00  Twitter for iPhone   \n",
       "4  891087950875897856 2017-07-29 00:08:17+00:00  Twitter for iPhone   \n",
       "\n",
       "                                                text  rating_numerator  \\\n",
       "0  This is Tilly. She's just checking pup on you....              13.0   \n",
       "1  This is Archie. He is a rare Norwegian Pouncin...              12.0   \n",
       "2  This is Darla. She commenced a snooze mid meal...              13.0   \n",
       "3  This is Franklin. He would like you to stop ca...              12.0   \n",
       "4  Here we have a majestic great white breaching ...              13.0   \n",
       "\n",
       "   rating_denominator      name                          source_url dog_stage  \\\n",
       "0                  10     Tilly  http://twitter.com/download/iphone       NaN   \n",
       "1                  10    Archie  http://twitter.com/download/iphone       NaN   \n",
       "2                  10     Darla  http://twitter.com/download/iphone       NaN   \n",
       "3                  10  Franklin  http://twitter.com/download/iphone       NaN   \n",
       "4                  10   Unknown  http://twitter.com/download/iphone       NaN   \n",
       "\n",
       "   month  year                                          jpg_url  img_num  \\\n",
       "0      8  2017  https://pbs.twimg.com/media/DGGmoV4XsAAUL6n.jpg        1   \n",
       "1      7  2017  https://pbs.twimg.com/media/DGBdLU1WsAANxJ9.jpg        1   \n",
       "2      7  2017  https://pbs.twimg.com/media/DF_q7IAWsAEuuN8.jpg        1   \n",
       "3      7  2017  https://pbs.twimg.com/media/DF6hr6BUMAAzZgT.jpg        2   \n",
       "4      7  2017  https://pbs.twimg.com/media/DF3HwyEWsAABqE6.jpg        1   \n",
       "\n",
       "                      breed  conf_lvl  retweet_count  favorite_count  \\\n",
       "0                 Chihuahua  0.323581           6514           33819   \n",
       "1                 Chihuahua  0.716012           4328           25461   \n",
       "2        Labrador Retriever  0.168086           8964           42908   \n",
       "3                    Basset  0.555712           9774           41048   \n",
       "4  Chesapeake Bay Retriever  0.425595           3261           20562   \n",
       "\n",
       "   retweeted  \n",
       "0      False  \n",
       "1      False  \n",
       "2      False  \n",
       "3      False  \n",
       "4      False  "
      ]
     },
     "execution_count": 106,
     "metadata": {},
     "output_type": "execute_result"
    }
   ],
   "source": [
    "master_tweet_data.head()"
   ]
  },
  {
   "cell_type": "code",
   "execution_count": 107,
   "id": "a9a59b6e",
   "metadata": {},
   "outputs": [
    {
     "name": "stdout",
     "output_type": "stream",
     "text": [
      "<class 'pandas.core.frame.DataFrame'>\n",
      "Int64Index: 1686 entries, 0 to 1685\n",
      "Data columns (total 18 columns):\n",
      " #   Column              Non-Null Count  Dtype              \n",
      "---  ------              --------------  -----              \n",
      " 0   tweet_id            1686 non-null   object             \n",
      " 1   timestamp           1686 non-null   datetime64[ns, UTC]\n",
      " 2   source              1686 non-null   object             \n",
      " 3   text                1686 non-null   object             \n",
      " 4   rating_numerator    1686 non-null   float64            \n",
      " 5   rating_denominator  1686 non-null   int64              \n",
      " 6   name                1686 non-null   object             \n",
      " 7   source_url          1677 non-null   object             \n",
      " 8   dog_stage           260 non-null    object             \n",
      " 9   month               1686 non-null   int64              \n",
      " 10  year                1686 non-null   int64              \n",
      " 11  jpg_url             1686 non-null   object             \n",
      " 12  img_num             1686 non-null   int64              \n",
      " 13  breed               1686 non-null   object             \n",
      " 14  conf_lvl            1686 non-null   object             \n",
      " 15  retweet_count       1686 non-null   int64              \n",
      " 16  favorite_count      1686 non-null   int64              \n",
      " 17  retweeted           1686 non-null   bool               \n",
      "dtypes: bool(1), datetime64[ns, UTC](1), float64(1), int64(6), object(9)\n",
      "memory usage: 238.7+ KB\n"
     ]
    }
   ],
   "source": [
    "master_tweet_data.info()"
   ]
  },
  {
   "cell_type": "markdown",
   "id": "88b16c50",
   "metadata": {},
   "source": [
    "<a id='storing'></a>\n",
    "## Storing Data"
   ]
  },
  {
   "cell_type": "code",
   "execution_count": 108,
   "id": "98fe83b9",
   "metadata": {},
   "outputs": [],
   "source": [
    "# Write to csv file\n",
    "\n",
    "master_tweet_data.to_csv('twitter_archive_master.csv', index=False)"
   ]
  },
  {
   "cell_type": "markdown",
   "id": "bad76be4",
   "metadata": {},
   "source": [
    "<a id='analysisnviz'></a>\n",
    "## Data Analysis and Visualization"
   ]
  },
  {
   "cell_type": "code",
   "execution_count": 109,
   "id": "e662c9ff",
   "metadata": {},
   "outputs": [
    {
     "data": {
      "text/html": [
       "<div>\n",
       "<style scoped>\n",
       "    .dataframe tbody tr th:only-of-type {\n",
       "        vertical-align: middle;\n",
       "    }\n",
       "\n",
       "    .dataframe tbody tr th {\n",
       "        vertical-align: top;\n",
       "    }\n",
       "\n",
       "    .dataframe thead th {\n",
       "        text-align: right;\n",
       "    }\n",
       "</style>\n",
       "<table border=\"1\" class=\"dataframe\">\n",
       "  <thead>\n",
       "    <tr style=\"text-align: right;\">\n",
       "      <th></th>\n",
       "      <th>tweet_id</th>\n",
       "      <th>timestamp</th>\n",
       "      <th>source</th>\n",
       "      <th>text</th>\n",
       "      <th>rating_numerator</th>\n",
       "      <th>rating_denominator</th>\n",
       "      <th>name</th>\n",
       "      <th>source_url</th>\n",
       "      <th>dog_stage</th>\n",
       "      <th>month</th>\n",
       "      <th>year</th>\n",
       "      <th>jpg_url</th>\n",
       "      <th>img_num</th>\n",
       "      <th>breed</th>\n",
       "      <th>conf_lvl</th>\n",
       "      <th>retweet_count</th>\n",
       "      <th>favorite_count</th>\n",
       "      <th>retweeted</th>\n",
       "    </tr>\n",
       "  </thead>\n",
       "  <tbody>\n",
       "    <tr>\n",
       "      <th>0</th>\n",
       "      <td>892177421306343426</td>\n",
       "      <td>2017-08-01 00:17:27+00:00</td>\n",
       "      <td>Twitter for iPhone</td>\n",
       "      <td>This is Tilly. She's just checking pup on you....</td>\n",
       "      <td>13.0</td>\n",
       "      <td>10</td>\n",
       "      <td>Tilly</td>\n",
       "      <td>http://twitter.com/download/iphone</td>\n",
       "      <td>NaN</td>\n",
       "      <td>8</td>\n",
       "      <td>2017</td>\n",
       "      <td>https://pbs.twimg.com/media/DGGmoV4XsAAUL6n.jpg</td>\n",
       "      <td>1</td>\n",
       "      <td>Chihuahua</td>\n",
       "      <td>0.323581</td>\n",
       "      <td>6514</td>\n",
       "      <td>33819</td>\n",
       "      <td>False</td>\n",
       "    </tr>\n",
       "    <tr>\n",
       "      <th>1</th>\n",
       "      <td>891815181378084864</td>\n",
       "      <td>2017-07-31 00:18:03+00:00</td>\n",
       "      <td>Twitter for iPhone</td>\n",
       "      <td>This is Archie. He is a rare Norwegian Pouncin...</td>\n",
       "      <td>12.0</td>\n",
       "      <td>10</td>\n",
       "      <td>Archie</td>\n",
       "      <td>http://twitter.com/download/iphone</td>\n",
       "      <td>NaN</td>\n",
       "      <td>7</td>\n",
       "      <td>2017</td>\n",
       "      <td>https://pbs.twimg.com/media/DGBdLU1WsAANxJ9.jpg</td>\n",
       "      <td>1</td>\n",
       "      <td>Chihuahua</td>\n",
       "      <td>0.716012</td>\n",
       "      <td>4328</td>\n",
       "      <td>25461</td>\n",
       "      <td>False</td>\n",
       "    </tr>\n",
       "    <tr>\n",
       "      <th>2</th>\n",
       "      <td>891689557279858688</td>\n",
       "      <td>2017-07-30 15:58:51+00:00</td>\n",
       "      <td>Twitter for iPhone</td>\n",
       "      <td>This is Darla. She commenced a snooze mid meal...</td>\n",
       "      <td>13.0</td>\n",
       "      <td>10</td>\n",
       "      <td>Darla</td>\n",
       "      <td>http://twitter.com/download/iphone</td>\n",
       "      <td>NaN</td>\n",
       "      <td>7</td>\n",
       "      <td>2017</td>\n",
       "      <td>https://pbs.twimg.com/media/DF_q7IAWsAEuuN8.jpg</td>\n",
       "      <td>1</td>\n",
       "      <td>Labrador Retriever</td>\n",
       "      <td>0.168086</td>\n",
       "      <td>8964</td>\n",
       "      <td>42908</td>\n",
       "      <td>False</td>\n",
       "    </tr>\n",
       "    <tr>\n",
       "      <th>3</th>\n",
       "      <td>891327558926688256</td>\n",
       "      <td>2017-07-29 16:00:24+00:00</td>\n",
       "      <td>Twitter for iPhone</td>\n",
       "      <td>This is Franklin. He would like you to stop ca...</td>\n",
       "      <td>12.0</td>\n",
       "      <td>10</td>\n",
       "      <td>Franklin</td>\n",
       "      <td>http://twitter.com/download/iphone</td>\n",
       "      <td>NaN</td>\n",
       "      <td>7</td>\n",
       "      <td>2017</td>\n",
       "      <td>https://pbs.twimg.com/media/DF6hr6BUMAAzZgT.jpg</td>\n",
       "      <td>2</td>\n",
       "      <td>Basset</td>\n",
       "      <td>0.555712</td>\n",
       "      <td>9774</td>\n",
       "      <td>41048</td>\n",
       "      <td>False</td>\n",
       "    </tr>\n",
       "    <tr>\n",
       "      <th>4</th>\n",
       "      <td>891087950875897856</td>\n",
       "      <td>2017-07-29 00:08:17+00:00</td>\n",
       "      <td>Twitter for iPhone</td>\n",
       "      <td>Here we have a majestic great white breaching ...</td>\n",
       "      <td>13.0</td>\n",
       "      <td>10</td>\n",
       "      <td>Unknown</td>\n",
       "      <td>http://twitter.com/download/iphone</td>\n",
       "      <td>NaN</td>\n",
       "      <td>7</td>\n",
       "      <td>2017</td>\n",
       "      <td>https://pbs.twimg.com/media/DF3HwyEWsAABqE6.jpg</td>\n",
       "      <td>1</td>\n",
       "      <td>Chesapeake Bay Retriever</td>\n",
       "      <td>0.425595</td>\n",
       "      <td>3261</td>\n",
       "      <td>20562</td>\n",
       "      <td>False</td>\n",
       "    </tr>\n",
       "  </tbody>\n",
       "</table>\n",
       "</div>"
      ],
      "text/plain": [
       "             tweet_id                 timestamp              source  \\\n",
       "0  892177421306343426 2017-08-01 00:17:27+00:00  Twitter for iPhone   \n",
       "1  891815181378084864 2017-07-31 00:18:03+00:00  Twitter for iPhone   \n",
       "2  891689557279858688 2017-07-30 15:58:51+00:00  Twitter for iPhone   \n",
       "3  891327558926688256 2017-07-29 16:00:24+00:00  Twitter for iPhone   \n",
       "4  891087950875897856 2017-07-29 00:08:17+00:00  Twitter for iPhone   \n",
       "\n",
       "                                                text  rating_numerator  \\\n",
       "0  This is Tilly. She's just checking pup on you....              13.0   \n",
       "1  This is Archie. He is a rare Norwegian Pouncin...              12.0   \n",
       "2  This is Darla. She commenced a snooze mid meal...              13.0   \n",
       "3  This is Franklin. He would like you to stop ca...              12.0   \n",
       "4  Here we have a majestic great white breaching ...              13.0   \n",
       "\n",
       "   rating_denominator      name                          source_url dog_stage  \\\n",
       "0                  10     Tilly  http://twitter.com/download/iphone       NaN   \n",
       "1                  10    Archie  http://twitter.com/download/iphone       NaN   \n",
       "2                  10     Darla  http://twitter.com/download/iphone       NaN   \n",
       "3                  10  Franklin  http://twitter.com/download/iphone       NaN   \n",
       "4                  10   Unknown  http://twitter.com/download/iphone       NaN   \n",
       "\n",
       "   month  year                                          jpg_url  img_num  \\\n",
       "0      8  2017  https://pbs.twimg.com/media/DGGmoV4XsAAUL6n.jpg        1   \n",
       "1      7  2017  https://pbs.twimg.com/media/DGBdLU1WsAANxJ9.jpg        1   \n",
       "2      7  2017  https://pbs.twimg.com/media/DF_q7IAWsAEuuN8.jpg        1   \n",
       "3      7  2017  https://pbs.twimg.com/media/DF6hr6BUMAAzZgT.jpg        2   \n",
       "4      7  2017  https://pbs.twimg.com/media/DF3HwyEWsAABqE6.jpg        1   \n",
       "\n",
       "                      breed  conf_lvl  retweet_count  favorite_count  \\\n",
       "0                 Chihuahua  0.323581           6514           33819   \n",
       "1                 Chihuahua  0.716012           4328           25461   \n",
       "2        Labrador Retriever  0.168086           8964           42908   \n",
       "3                    Basset  0.555712           9774           41048   \n",
       "4  Chesapeake Bay Retriever  0.425595           3261           20562   \n",
       "\n",
       "   retweeted  \n",
       "0      False  \n",
       "1      False  \n",
       "2      False  \n",
       "3      False  \n",
       "4      False  "
      ]
     },
     "execution_count": 109,
     "metadata": {},
     "output_type": "execute_result"
    }
   ],
   "source": [
    "master_tweet_data.head()"
   ]
  },
  {
   "cell_type": "code",
   "execution_count": 110,
   "id": "27f60702",
   "metadata": {},
   "outputs": [
    {
     "name": "stdout",
     "output_type": "stream",
     "text": [
      "<class 'pandas.core.frame.DataFrame'>\n",
      "Int64Index: 1686 entries, 0 to 1685\n",
      "Data columns (total 18 columns):\n",
      " #   Column              Non-Null Count  Dtype              \n",
      "---  ------              --------------  -----              \n",
      " 0   tweet_id            1686 non-null   object             \n",
      " 1   timestamp           1686 non-null   datetime64[ns, UTC]\n",
      " 2   source              1686 non-null   object             \n",
      " 3   text                1686 non-null   object             \n",
      " 4   rating_numerator    1686 non-null   float64            \n",
      " 5   rating_denominator  1686 non-null   int64              \n",
      " 6   name                1686 non-null   object             \n",
      " 7   source_url          1677 non-null   object             \n",
      " 8   dog_stage           260 non-null    object             \n",
      " 9   month               1686 non-null   int64              \n",
      " 10  year                1686 non-null   int64              \n",
      " 11  jpg_url             1686 non-null   object             \n",
      " 12  img_num             1686 non-null   int64              \n",
      " 13  breed               1686 non-null   object             \n",
      " 14  conf_lvl            1686 non-null   object             \n",
      " 15  retweet_count       1686 non-null   int64              \n",
      " 16  favorite_count      1686 non-null   int64              \n",
      " 17  retweeted           1686 non-null   bool               \n",
      "dtypes: bool(1), datetime64[ns, UTC](1), float64(1), int64(6), object(9)\n",
      "memory usage: 238.7+ KB\n"
     ]
    }
   ],
   "source": [
    "master_tweet_data.info()"
   ]
  },
  {
   "cell_type": "code",
   "execution_count": 111,
   "id": "d612c1aa",
   "metadata": {},
   "outputs": [
    {
     "data": {
      "image/png": "[encoded data removed]",
      "text/plain": [
       "<Figure size 640x480 with 1 Axes>"
      ]
     },
     "metadata": {},
     "output_type": "display_data"
    }
   ],
   "source": [
    "# Most common source of data\n",
    "ax = master_tweet_data.source.value_counts().plot(kind = 'bar', alpha=0.75, colormap='Paired')\n",
    "ax.bar_label(ax.containers[0], label_type='edge')\n",
    "plt.title('Main Sources of WeRateDogs Ratings')\n",
    "plt.xticks(rotation='horizontal')\n",
    "plt.xlabel('Count of Sources')\n",
    "plt.ylabel('Source of Rating')\n",
    "plt.savefig('sources.png')"
   ]
  },
  {
   "cell_type": "markdown",
   "id": "e6213bc5",
   "metadata": {},
   "source": [
    "#### *Insight*:  Majority of twitter users rating these dogs are using Twitter for iPhone"
   ]
  },
  {
   "cell_type": "code",
   "execution_count": 112,
   "id": "94f20c9c",
   "metadata": {},
   "outputs": [
    {
     "data": {
      "image/png": "[encoded data removed]",
      "text/plain": [
       "<Figure size 800x800 with 1 Axes>"
      ]
     },
     "metadata": {},
     "output_type": "display_data"
    }
   ],
   "source": [
    "# Most common breed\n",
    "breed = master_tweet_data.breed.value_counts().head(5)\n",
    "\n",
    "ax =breed.plot(kind = 'bar', figsize = (8,8), colormap='Paired')\n",
    "ax.bar_label(ax.containers[0], label_type='edge')\n",
    "plt.title('Main Breed of WeRateDogs Ratings')\n",
    "plt.xlabel('Dog Breed')\n",
    "plt.xticks(rotation='horizontal')\n",
    "plt.ylabel('Count of Breed')\n",
    "plt.savefig('breed.png')"
   ]
  },
  {
   "cell_type": "markdown",
   "id": "459e1a36",
   "metadata": {},
   "source": [
    "#### *Insight* : Most common dogs in the dataset are Golden Retreivers, Labrador Retreivers and Pembrokes"
   ]
  },
  {
   "cell_type": "code",
   "execution_count": 113,
   "id": "d3436dbf",
   "metadata": {},
   "outputs": [
    {
     "data": {
      "image/png": "[encoded data removed]",
      "text/plain": [
       "<Figure size 800x800 with 1 Axes>"
      ]
     },
     "metadata": {},
     "output_type": "display_data"
    }
   ],
   "source": [
    "\n",
    "# Plot histogram to show distribution of ratings\n",
    "ax =master_tweet_data.rating_numerator.plot(kind = 'hist', figsize = (8,8), colormap='Paired')\n",
    "#ax.bar_label(ax.containers[0], label_type='edge')\n",
    "plt.title('Distribution of Ratings')\n",
    "plt.xlabel('Rating')\n",
    "plt.ylabel('Rating Count')\n",
    "plt.savefig('ratings.png')\n"
   ]
  },
  {
   "cell_type": "code",
   "execution_count": 114,
   "id": "a73ebb63",
   "metadata": {},
   "outputs": [],
   "source": [
    "# Subset data where rating is < 15(majority)\n",
    "df_below_15 = master_tweet_data[master_tweet_data.rating_numerator<=15]"
   ]
  },
  {
   "cell_type": "code",
   "execution_count": 115,
   "id": "b0e45fb6",
   "metadata": {},
   "outputs": [
    {
     "data": {
      "image/png": "[encoded data removed]",
      "text/plain": [
       "<Figure size 800x800 with 1 Axes>"
      ]
     },
     "metadata": {},
     "output_type": "display_data"
    }
   ],
   "source": [
    "\n",
    "# Plot histogram to show distribution of ratings\n",
    "\n",
    "# Get stats\n",
    "minm = df_below_15.rating_numerator.min()\n",
    "maxm = df_below_15.rating_numerator.max()\n",
    "avg = df_below_15.rating_numerator.mean()\n",
    "\n",
    "ax =df_below_15.rating_numerator.plot(kind = 'hist', figsize = (8,8), colormap='Paired')\n",
    "ax.bar_label(ax.containers[0], label_type='edge')\n",
    "plt.title('Distribution of Ratings <15')\n",
    "plt.xlabel('Rating')\n",
    "plt.ylabel('Rating Count')\n",
    "\n",
    "# Plot stat lines\n",
    "plt.axvline(x=minm, color='green', linestyle='dashed')\n",
    "plt.axvline(x=maxm, color='yellow', linestyle='dashed')\n",
    "plt.axvline(x=avg , color='red', linestyle='dashed')\n",
    "plt.savefig('ratings_less_15.png')\n",
    "#df_below_15.rating_numerator.hist()\n"
   ]
  },
  {
   "cell_type": "markdown",
   "id": "0b8707d3",
   "metadata": {},
   "source": [
    "#### *Insight* : After removing the outliers in the rating_numerator column, we see that the distribution is now skewed to the left. We have dogs with a rating as low as 0 and the mean at around 11"
   ]
  },
  {
   "cell_type": "code",
   "execution_count": 116,
   "id": "9343eae7",
   "metadata": {},
   "outputs": [
    {
     "data": {
      "image/png": "[encoded data removed]",
      "text/plain": [
       "<Figure size 1200x800 with 1 Axes>"
      ]
     },
     "metadata": {},
     "output_type": "display_data"
    }
   ],
   "source": [
    "# Highest rated Dogs\n",
    "\n",
    "high_rate = pd.DataFrame(master_tweet_data.groupby('breed')['rating_numerator'].mean()).sort_values(by = 'rating_numerator',ascending = False).head(5)\n",
    "ax =high_rate.plot(kind = 'bar', figsize = (12,8), colormap='Paired')\n",
    "#ax.bar_label(ax.containers[0], label_type='edge')\n",
    "plt.title('Highest Rated Breeds')\n",
    "plt.xlabel('Dog Breed')\n",
    "plt.xticks(rotation='horizontal')\n",
    "plt.ylabel('Rating')\n",
    "plt.savefig('high_rated.png')"
   ]
  },
  {
   "cell_type": "code",
   "execution_count": 117,
   "id": "cd2f8e27",
   "metadata": {},
   "outputs": [
    {
     "data": {
      "image/png": "[encoded data removed]",
      "text/plain": [
       "<Figure size 800x800 with 1 Axes>"
      ]
     },
     "metadata": {},
     "output_type": "display_data"
    }
   ],
   "source": [
    "# Highest rated Dogs without large value outliers\n",
    "\n",
    "high_rate = pd.DataFrame(df_below_15.groupby('breed')['rating_numerator'].mean()).sort_values(by = 'rating_numerator',ascending = False).head(5)\n",
    "ax =high_rate.plot(kind = 'bar', figsize = (8,8), colormap='Paired')\n",
    "ax.bar_label(ax.containers[0], label_type='edge')\n",
    "plt.title('Highest Rated Breeds(Rating <15)')\n",
    "plt.xlabel('Dog Breed')\n",
    "plt.xticks(rotation='horizontal')\n",
    "plt.ylabel('Rating')\n",
    "plt.savefig('high_rated_less15.png')"
   ]
  },
  {
   "cell_type": "markdown",
   "id": "6ab25a63",
   "metadata": {},
   "source": [
    "#### *Insight* : After removing the outliers in the rating_numerator column, we see that the dog breed receiving the higest rating changes from Clumber to Bouvier Des Flandres"
   ]
  },
  {
   "cell_type": "code",
   "execution_count": 118,
   "id": "23a9dd2f",
   "metadata": {},
   "outputs": [
    {
     "data": {
      "image/png": "[encoded data removed]",
      "text/plain": [
       "<Figure size 800x800 with 1 Axes>"
      ]
     },
     "metadata": {},
     "output_type": "display_data"
    }
   ],
   "source": [
    "# Lowest rated Dogs\n",
    "\n",
    "low_rate = pd.DataFrame(master_tweet_data.groupby('breed')['rating_numerator'].mean()).sort_values(by = 'rating_numerator',ascending = True).head(5)\n",
    "ax =low_rate.plot(kind = 'bar', figsize = (8,8), colormap='Paired')\n",
    "#ax.bar_label(ax.containers[0], label_type='edge')\n",
    "plt.title('Lowest Rated Breeds')\n",
    "plt.xlabel('Dog Breed')\n",
    "plt.xticks(rotation='horizontal')\n",
    "plt.ylabel('Rating')\n",
    "plt.savefig('low_rated.png')"
   ]
  },
  {
   "cell_type": "code",
   "execution_count": 119,
   "id": "86acec0a",
   "metadata": {},
   "outputs": [
    {
     "data": {
      "image/png": "[encoded data removed]",
      "text/plain": [
       "<Figure size 1000x800 with 1 Axes>"
      ]
     },
     "metadata": {},
     "output_type": "display_data"
    }
   ],
   "source": [
    "# Lowest rated Dogs\n",
    "\n",
    "low_rate = pd.DataFrame(df_below_15.groupby('breed')['rating_numerator'].mean()).sort_values(by = 'rating_numerator',ascending = True).head(5)\n",
    "ax =low_rate.plot(kind = 'bar', figsize = (10,8), colormap='Paired')\n",
    "#ax.bar_label(ax.containers[0], label_type='edge')\n",
    "plt.title('Lowest Rated Breeds(Rating <15)')\n",
    "plt.xlabel('Dog Breed')\n",
    "plt.xticks(rotation='horizontal')\n",
    "plt.ylabel('Rating')\n",
    "plt.savefig('low_rated_less15.png')"
   ]
  },
  {
   "cell_type": "markdown",
   "id": "1cc20ea8",
   "metadata": {},
   "source": [
    "#### *Insight* : The dog breed with the lowest rating is the Japanese Spaniel. However, the breed with the second lowest ratings on average changes from a Walker Hound to a Soft Coated Wheaten Terrier because there were certain image(s) that were rated higher than usual"
   ]
  },
  {
   "cell_type": "code",
   "execution_count": 120,
   "id": "c38e32f0",
   "metadata": {},
   "outputs": [
    {
     "data": {
      "text/plain": [
       "208    https://pbs.twimg.com/media/C5cOtWVWMAEjO5p.jpg\n",
       "Name: jpg_url, dtype: object"
      ]
     },
     "execution_count": 120,
     "metadata": {},
     "output_type": "execute_result"
    }
   ],
   "source": [
    "# Have a look at dog(s) with lowest rating\n",
    "\n",
    "low_rating = master_tweet_data[master_tweet_data.rating_numerator==0]\n",
    "low_rating.jpg_url"
   ]
  },
  {
   "cell_type": "code",
   "execution_count": 121,
   "id": "eb22d863",
   "metadata": {
    "scrolled": true
   },
   "outputs": [
    {
     "data": {
      "image/jpeg": "[encoded data removed]",
      "text/plain": [
       "<IPython.core.display.Image object>"
      ]
     },
     "execution_count": 121,
     "metadata": {},
     "output_type": "execute_result"
    }
   ],
   "source": [
    "display.Image('https://pbs.twimg.com/media/C5cOtWVWMAEjO5p.jpg')"
   ]
  },
  {
   "cell_type": "markdown",
   "id": "26d80368",
   "metadata": {},
   "source": [
    "This must have been an erroneous rating because... how adorable is Cooper!!"
   ]
  }
 ],
 "metadata": {
  "kernelspec": {
   "display_name": "Python 3 (ipykernel)",
   "language": "python",
   "name": "python3"
  },
  "language_info": {
   "codemirror_mode": {
    "name": "ipython",
    "version": 3
   },
   "file_extension": ".py",
   "mimetype": "text/x-python",
   "name": "python",
   "nbconvert_exporter": "python",
   "pygments_lexer": "ipython3",
   "version": "3.9.15"
  }
 },
 "nbformat": 4,
 "nbformat_minor": 5
}
